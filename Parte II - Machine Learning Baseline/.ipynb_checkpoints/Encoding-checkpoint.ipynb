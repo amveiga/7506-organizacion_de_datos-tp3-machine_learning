{
 "cells": [
  {
   "cell_type": "code",
   "execution_count": 1,
   "metadata": {
    "id": "zj30iHBIPhuu"
   },
   "outputs": [],
   "source": [
    "import pandas as pd\n",
    "import missingno as msno\n",
    "import numpy as np\n",
    "from sklearn.model_selection import train_test_split\n",
    "from sklearn.preprocessing import MultiLabelBinarizer, OneHotEncoder\n",
    "from sklearn.feature_extraction.text import CountVectorizer, TfidfVectorizer"
   ]
  },
  {
   "cell_type": "code",
   "execution_count": null,
   "metadata": {
    "colab": {
     "base_uri": "https://localhost:8080/"
    },
    "executionInfo": {
     "elapsed": 324,
     "status": "ok",
     "timestamp": 1637935688691,
     "user": {
      "displayName": "Ángel Martín Veiga",
      "photoUrl": "https://lh3.googleusercontent.com/a-/AOh14GhuIO_HePT528k3iUgj6zbDTh-BGNnAqJlehJWi=s64",
      "userId": "02801971987668662503"
     },
     "user_tz": 180
    },
    "id": "i4lJpTjF67hy",
    "outputId": "8de5eda5-b7f8-4036-90b9-1c33a2f0398b"
   },
   "outputs": [
    {
     "name": "stdout",
     "output_type": "stream",
     "text": [
      "Drive already mounted at /content/drive; to attempt to forcibly remount, call drive.mount(\"/content/drive\", force_remount=True).\n"
     ]
    }
   ],
   "source": [
    "from google.colab import drive\n",
    "drive.mount('/content/drive')"
   ]
  },
  {
   "cell_type": "code",
   "execution_count": null,
   "metadata": {
    "colab": {
     "base_uri": "https://localhost:8080/"
    },
    "executionInfo": {
     "elapsed": 246,
     "status": "ok",
     "timestamp": 1637951340747,
     "user": {
      "displayName": "Ángel Martín Veiga",
      "photoUrl": "https://lh3.googleusercontent.com/a-/AOh14GhuIO_HePT528k3iUgj6zbDTh-BGNnAqJlehJWi=s64",
      "userId": "02801971987668662503"
     },
     "user_tz": 180
    },
    "id": "yMZPjOvM_DXs",
    "outputId": "d36c4784-2da8-45ad-ae30-267a7ced7200"
   },
   "outputs": [
    {
     "name": "stdout",
     "output_type": "stream",
     "text": [
      "\u001b[0m\u001b[01;34mdrive\u001b[0m/  model_backup  \u001b[01;34msample_data\u001b[0m/\n"
     ]
    }
   ],
   "source": [
    "ls"
   ]
  },
  {
   "cell_type": "code",
   "execution_count": null,
   "metadata": {
    "colab": {
     "base_uri": "https://localhost:8080/"
    },
    "executionInfo": {
     "elapsed": 254,
     "status": "ok",
     "timestamp": 1637951388419,
     "user": {
      "displayName": "Ángel Martín Veiga",
      "photoUrl": "https://lh3.googleusercontent.com/a-/AOh14GhuIO_HePT528k3iUgj6zbDTh-BGNnAqJlehJWi=s64",
      "userId": "02801971987668662503"
     },
     "user_tz": 180
    },
    "id": "CzL5UZPv_KnL",
    "outputId": "5d8b7523-a3b1-44e5-eec8-50b7bc44e9ed"
   },
   "outputs": [
    {
     "name": "stdout",
     "output_type": "stream",
     "text": [
      "/content/drive/MyDrive/2021-2C/ORGANIZACION DE DATOS (7506)/TPs/TP3/Parte III - Machine Learning\n"
     ]
    }
   ],
   "source": [
    "cd '/content/drive/MyDrive/2021-2C/ORGANIZACION DE DATOS (7506)/TPs/TP3/Parte II - Machine Learning Baseline'"
   ]
  },
  {
   "cell_type": "code",
   "execution_count": 2,
   "metadata": {
    "id": "iBDJWYTg66Eh"
   },
   "outputs": [],
   "source": [
    "df_train = pd.read_csv('../ieee-fraud-detection/train_merged.csv')\n",
    "df_test = pd.read_csv('../ieee-fraud-detection/test_merged.csv')"
   ]
  },
  {
   "cell_type": "code",
   "execution_count": 3,
   "metadata": {
    "colab": {
     "base_uri": "https://localhost:8080/"
    },
    "executionInfo": {
     "elapsed": 17,
     "status": "ok",
     "timestamp": 1637935739320,
     "user": {
      "displayName": "Ángel Martín Veiga",
      "photoUrl": "https://lh3.googleusercontent.com/a-/AOh14GhuIO_HePT528k3iUgj6zbDTh-BGNnAqJlehJWi=s64",
      "userId": "02801971987668662503"
     },
     "user_tz": 180
    },
    "id": "C_eAlaE170G7",
    "outputId": "3bc5d0b0-6994-41f6-a718-e046cb8a3fda"
   },
   "outputs": [
    {
     "data": {
      "text/plain": [
       "((590540, 434), (506691, 433))"
      ]
     },
     "execution_count": 3,
     "metadata": {},
     "output_type": "execute_result"
    }
   ],
   "source": [
    "df_train.shape,df_test.shape"
   ]
  },
  {
   "cell_type": "code",
   "execution_count": 4,
   "metadata": {
    "id": "-DRgt-XuqwYR"
   },
   "outputs": [],
   "source": [
    "del df_train['TransactionID']\n",
    "# saco el transaction id momentaniamente del test para que durante el encoding asegurarme \n",
    "# de tener las mismas columnas en el mismo orden.\n",
    "transactionIDtest = df_test['TransactionID']\n",
    "del df_test['TransactionID']"
   ]
  },
  {
   "cell_type": "code",
   "execution_count": 5,
   "metadata": {
    "id": "v4LLLAu7BeJO"
   },
   "outputs": [],
   "source": [
    "x_train, x_test, y_train, y_test = train_test_split(df_train, df_train.isFraud, test_size=0.2, shuffle=False)\n",
    "del df_train"
   ]
  },
  {
   "cell_type": "code",
   "execution_count": 6,
   "metadata": {
    "id": "8DeZ2BOQEhrz"
   },
   "outputs": [],
   "source": [
    "cat_columns_x_train=x_train.select_dtypes(include=object).columns\n",
    "num_columns_x_train=x_train.select_dtypes(exclude=object).columns\n",
    "\n",
    "cat_columns_x_test=x_test.select_dtypes(include=object).columns\n",
    "num_columns_x_test=x_test.select_dtypes(exclude=object).columns\n",
    "\n",
    "cat_columns_df_test=df_test.select_dtypes(include=object).columns\n",
    "num_columns_df_test=df_test.select_dtypes(exclude=object).columns"
   ]
  },
  {
   "cell_type": "code",
   "execution_count": null,
   "metadata": {
    "id": "VDx2mII7FL67"
   },
   "outputs": [],
   "source": [
    "x_train[num_columns_x_train]=x_train[num_columns_x_train].fillna(0)\n",
    "x_test[num_columns_x_test]=x_test[num_columns_x_test].fillna(0)\n",
    "df_test[num_columns_df_test]=df_test[num_columns_df_test].fillna(0)"
   ]
  },
  {
   "cell_type": "code",
   "execution_count": null,
   "metadata": {
    "id": "ilSnKO8ML_uj"
   },
   "outputs": [],
   "source": [
    "def change_NaN_values_to_prefix_unknown(df,cat_columns):\n",
    "  for column_name in cat_columns:\n",
    "    nan_name = column_name +'_'+'unknown'\n",
    "    df[column_name].fillna(nan_name,inplace=True)"
   ]
  },
  {
   "cell_type": "code",
   "execution_count": null,
   "metadata": {
    "id": "Kjm6upcsGUm0"
   },
   "outputs": [],
   "source": [
    "change_NaN_values_to_prefix_unknown(x_train,cat_columns_x_train)\n",
    "change_NaN_values_to_prefix_unknown(x_test,cat_columns_x_test)\n",
    "change_NaN_values_to_prefix_unknown(df_test,cat_columns_df_test)"
   ]
  },
  {
   "cell_type": "code",
   "execution_count": null,
   "metadata": {
    "colab": {
     "base_uri": "https://localhost:8080/",
     "height": 377
    },
    "executionInfo": {
     "elapsed": 12,
     "status": "ok",
     "timestamp": 1637935749726,
     "user": {
      "displayName": "Ángel Martín Veiga",
      "photoUrl": "https://lh3.googleusercontent.com/a-/AOh14GhuIO_HePT528k3iUgj6zbDTh-BGNnAqJlehJWi=s64",
      "userId": "02801971987668662503"
     },
     "user_tz": 180
    },
    "id": "pq2mYL2qH1kK",
    "outputId": "0cde4b47-083d-488c-d30c-fffdd6ac8b56"
   },
   "outputs": [
    {
     "data": {
      "text/html": [
       "<div>\n",
       "<style scoped>\n",
       "    .dataframe tbody tr th:only-of-type {\n",
       "        vertical-align: middle;\n",
       "    }\n",
       "\n",
       "    .dataframe tbody tr th {\n",
       "        vertical-align: top;\n",
       "    }\n",
       "\n",
       "    .dataframe thead th {\n",
       "        text-align: right;\n",
       "    }\n",
       "</style>\n",
       "<table border=\"1\" class=\"dataframe\">\n",
       "  <thead>\n",
       "    <tr style=\"text-align: right;\">\n",
       "      <th></th>\n",
       "      <th>isFraud</th>\n",
       "      <th>TransactionDT</th>\n",
       "      <th>TransactionAmt</th>\n",
       "      <th>ProductCD</th>\n",
       "      <th>card1</th>\n",
       "      <th>card2</th>\n",
       "      <th>card3</th>\n",
       "      <th>card4</th>\n",
       "      <th>card5</th>\n",
       "      <th>card6</th>\n",
       "      <th>addr1</th>\n",
       "      <th>addr2</th>\n",
       "      <th>dist1</th>\n",
       "      <th>dist2</th>\n",
       "      <th>P_emaildomain</th>\n",
       "      <th>R_emaildomain</th>\n",
       "      <th>C1</th>\n",
       "      <th>C2</th>\n",
       "      <th>C3</th>\n",
       "      <th>C4</th>\n",
       "      <th>C5</th>\n",
       "      <th>C6</th>\n",
       "      <th>C7</th>\n",
       "      <th>C8</th>\n",
       "      <th>C9</th>\n",
       "      <th>C10</th>\n",
       "      <th>C11</th>\n",
       "      <th>C12</th>\n",
       "      <th>C13</th>\n",
       "      <th>C14</th>\n",
       "      <th>D1</th>\n",
       "      <th>D2</th>\n",
       "      <th>D3</th>\n",
       "      <th>D4</th>\n",
       "      <th>D5</th>\n",
       "      <th>D6</th>\n",
       "      <th>D7</th>\n",
       "      <th>D8</th>\n",
       "      <th>D9</th>\n",
       "      <th>D10</th>\n",
       "      <th>...</th>\n",
       "      <th>id_01</th>\n",
       "      <th>id_02</th>\n",
       "      <th>id_03</th>\n",
       "      <th>id_04</th>\n",
       "      <th>id_05</th>\n",
       "      <th>id_06</th>\n",
       "      <th>id_07</th>\n",
       "      <th>id_08</th>\n",
       "      <th>id_09</th>\n",
       "      <th>id_10</th>\n",
       "      <th>id_11</th>\n",
       "      <th>id_12</th>\n",
       "      <th>id_13</th>\n",
       "      <th>id_14</th>\n",
       "      <th>id_15</th>\n",
       "      <th>id_16</th>\n",
       "      <th>id_17</th>\n",
       "      <th>id_18</th>\n",
       "      <th>id_19</th>\n",
       "      <th>id_20</th>\n",
       "      <th>id_21</th>\n",
       "      <th>id_22</th>\n",
       "      <th>id_23</th>\n",
       "      <th>id_24</th>\n",
       "      <th>id_25</th>\n",
       "      <th>id_26</th>\n",
       "      <th>id_27</th>\n",
       "      <th>id_28</th>\n",
       "      <th>id_29</th>\n",
       "      <th>id_30</th>\n",
       "      <th>id_31</th>\n",
       "      <th>id_32</th>\n",
       "      <th>id_33</th>\n",
       "      <th>id_34</th>\n",
       "      <th>id_35</th>\n",
       "      <th>id_36</th>\n",
       "      <th>id_37</th>\n",
       "      <th>id_38</th>\n",
       "      <th>DeviceType</th>\n",
       "      <th>DeviceInfo</th>\n",
       "    </tr>\n",
       "  </thead>\n",
       "  <tbody>\n",
       "    <tr>\n",
       "      <th>472432</th>\n",
       "      <td>1</td>\n",
       "      <td>12192900</td>\n",
       "      <td>33.261</td>\n",
       "      <td>C</td>\n",
       "      <td>9300</td>\n",
       "      <td>103.0</td>\n",
       "      <td>185.0</td>\n",
       "      <td>visa</td>\n",
       "      <td>138.0</td>\n",
       "      <td>debit</td>\n",
       "      <td>0.0</td>\n",
       "      <td>0.0</td>\n",
       "      <td>0.0</td>\n",
       "      <td>0.0</td>\n",
       "      <td>gmail.com</td>\n",
       "      <td>gmail.com</td>\n",
       "      <td>1.0</td>\n",
       "      <td>1.0</td>\n",
       "      <td>0.0</td>\n",
       "      <td>1.0</td>\n",
       "      <td>0.0</td>\n",
       "      <td>1.0</td>\n",
       "      <td>1.0</td>\n",
       "      <td>1.0</td>\n",
       "      <td>0.0</td>\n",
       "      <td>1.0</td>\n",
       "      <td>1.0</td>\n",
       "      <td>1.0</td>\n",
       "      <td>1.0</td>\n",
       "      <td>1.0</td>\n",
       "      <td>0.0</td>\n",
       "      <td>0.0</td>\n",
       "      <td>0.0</td>\n",
       "      <td>0.0</td>\n",
       "      <td>0.0</td>\n",
       "      <td>0.0</td>\n",
       "      <td>0.0</td>\n",
       "      <td>0.000000</td>\n",
       "      <td>0.000000</td>\n",
       "      <td>0.0</td>\n",
       "      <td>...</td>\n",
       "      <td>-5.0</td>\n",
       "      <td>175301.0</td>\n",
       "      <td>0.0</td>\n",
       "      <td>0.0</td>\n",
       "      <td>1.0</td>\n",
       "      <td>0.0</td>\n",
       "      <td>0.0</td>\n",
       "      <td>0.0</td>\n",
       "      <td>0.0</td>\n",
       "      <td>0.0</td>\n",
       "      <td>100.0</td>\n",
       "      <td>NotFound</td>\n",
       "      <td>64.0</td>\n",
       "      <td>0.0</td>\n",
       "      <td>New</td>\n",
       "      <td>NotFound</td>\n",
       "      <td>225.0</td>\n",
       "      <td>15.0</td>\n",
       "      <td>427.0</td>\n",
       "      <td>417.0</td>\n",
       "      <td>0.0</td>\n",
       "      <td>0.0</td>\n",
       "      <td>id_23_unknown</td>\n",
       "      <td>0.0</td>\n",
       "      <td>0.0</td>\n",
       "      <td>0.0</td>\n",
       "      <td>id_27_unknown</td>\n",
       "      <td>New</td>\n",
       "      <td>NotFound</td>\n",
       "      <td>id_30_unknown</td>\n",
       "      <td>chrome 65.0</td>\n",
       "      <td>0.0</td>\n",
       "      <td>id_33_unknown</td>\n",
       "      <td>id_34_unknown</td>\n",
       "      <td>F</td>\n",
       "      <td>F</td>\n",
       "      <td>T</td>\n",
       "      <td>F</td>\n",
       "      <td>desktop</td>\n",
       "      <td>DeviceInfo_unknown</td>\n",
       "    </tr>\n",
       "    <tr>\n",
       "      <th>472433</th>\n",
       "      <td>0</td>\n",
       "      <td>12192911</td>\n",
       "      <td>52.811</td>\n",
       "      <td>C</td>\n",
       "      <td>8809</td>\n",
       "      <td>179.0</td>\n",
       "      <td>106.0</td>\n",
       "      <td>visa</td>\n",
       "      <td>137.0</td>\n",
       "      <td>debit</td>\n",
       "      <td>0.0</td>\n",
       "      <td>0.0</td>\n",
       "      <td>0.0</td>\n",
       "      <td>0.0</td>\n",
       "      <td>hotmail.fr</td>\n",
       "      <td>hotmail.fr</td>\n",
       "      <td>1.0</td>\n",
       "      <td>1.0</td>\n",
       "      <td>0.0</td>\n",
       "      <td>1.0</td>\n",
       "      <td>0.0</td>\n",
       "      <td>1.0</td>\n",
       "      <td>1.0</td>\n",
       "      <td>1.0</td>\n",
       "      <td>0.0</td>\n",
       "      <td>1.0</td>\n",
       "      <td>1.0</td>\n",
       "      <td>1.0</td>\n",
       "      <td>1.0</td>\n",
       "      <td>1.0</td>\n",
       "      <td>0.0</td>\n",
       "      <td>0.0</td>\n",
       "      <td>0.0</td>\n",
       "      <td>0.0</td>\n",
       "      <td>0.0</td>\n",
       "      <td>0.0</td>\n",
       "      <td>0.0</td>\n",
       "      <td>0.000000</td>\n",
       "      <td>0.000000</td>\n",
       "      <td>0.0</td>\n",
       "      <td>...</td>\n",
       "      <td>-10.0</td>\n",
       "      <td>978553.0</td>\n",
       "      <td>0.0</td>\n",
       "      <td>0.0</td>\n",
       "      <td>0.0</td>\n",
       "      <td>0.0</td>\n",
       "      <td>0.0</td>\n",
       "      <td>0.0</td>\n",
       "      <td>0.0</td>\n",
       "      <td>0.0</td>\n",
       "      <td>100.0</td>\n",
       "      <td>NotFound</td>\n",
       "      <td>64.0</td>\n",
       "      <td>0.0</td>\n",
       "      <td>New</td>\n",
       "      <td>NotFound</td>\n",
       "      <td>225.0</td>\n",
       "      <td>0.0</td>\n",
       "      <td>266.0</td>\n",
       "      <td>305.0</td>\n",
       "      <td>0.0</td>\n",
       "      <td>0.0</td>\n",
       "      <td>id_23_unknown</td>\n",
       "      <td>0.0</td>\n",
       "      <td>0.0</td>\n",
       "      <td>0.0</td>\n",
       "      <td>id_27_unknown</td>\n",
       "      <td>New</td>\n",
       "      <td>NotFound</td>\n",
       "      <td>id_30_unknown</td>\n",
       "      <td>chrome generic for android</td>\n",
       "      <td>0.0</td>\n",
       "      <td>id_33_unknown</td>\n",
       "      <td>id_34_unknown</td>\n",
       "      <td>F</td>\n",
       "      <td>F</td>\n",
       "      <td>T</td>\n",
       "      <td>F</td>\n",
       "      <td>mobile</td>\n",
       "      <td>F3311</td>\n",
       "    </tr>\n",
       "    <tr>\n",
       "      <th>472434</th>\n",
       "      <td>0</td>\n",
       "      <td>12192913</td>\n",
       "      <td>136.956</td>\n",
       "      <td>C</td>\n",
       "      <td>10819</td>\n",
       "      <td>555.0</td>\n",
       "      <td>185.0</td>\n",
       "      <td>visa</td>\n",
       "      <td>226.0</td>\n",
       "      <td>debit</td>\n",
       "      <td>0.0</td>\n",
       "      <td>0.0</td>\n",
       "      <td>0.0</td>\n",
       "      <td>0.0</td>\n",
       "      <td>hotmail.com</td>\n",
       "      <td>hotmail.com</td>\n",
       "      <td>1.0</td>\n",
       "      <td>1.0</td>\n",
       "      <td>0.0</td>\n",
       "      <td>1.0</td>\n",
       "      <td>0.0</td>\n",
       "      <td>1.0</td>\n",
       "      <td>1.0</td>\n",
       "      <td>1.0</td>\n",
       "      <td>0.0</td>\n",
       "      <td>1.0</td>\n",
       "      <td>1.0</td>\n",
       "      <td>1.0</td>\n",
       "      <td>0.0</td>\n",
       "      <td>0.0</td>\n",
       "      <td>0.0</td>\n",
       "      <td>0.0</td>\n",
       "      <td>0.0</td>\n",
       "      <td>0.0</td>\n",
       "      <td>0.0</td>\n",
       "      <td>0.0</td>\n",
       "      <td>0.0</td>\n",
       "      <td>0.083333</td>\n",
       "      <td>0.083333</td>\n",
       "      <td>0.0</td>\n",
       "      <td>...</td>\n",
       "      <td>-5.0</td>\n",
       "      <td>128616.0</td>\n",
       "      <td>6.0</td>\n",
       "      <td>0.0</td>\n",
       "      <td>5.0</td>\n",
       "      <td>0.0</td>\n",
       "      <td>0.0</td>\n",
       "      <td>0.0</td>\n",
       "      <td>6.0</td>\n",
       "      <td>0.0</td>\n",
       "      <td>100.0</td>\n",
       "      <td>NotFound</td>\n",
       "      <td>52.0</td>\n",
       "      <td>0.0</td>\n",
       "      <td>Found</td>\n",
       "      <td>Found</td>\n",
       "      <td>225.0</td>\n",
       "      <td>0.0</td>\n",
       "      <td>266.0</td>\n",
       "      <td>507.0</td>\n",
       "      <td>0.0</td>\n",
       "      <td>0.0</td>\n",
       "      <td>id_23_unknown</td>\n",
       "      <td>0.0</td>\n",
       "      <td>0.0</td>\n",
       "      <td>0.0</td>\n",
       "      <td>id_27_unknown</td>\n",
       "      <td>Found</td>\n",
       "      <td>Found</td>\n",
       "      <td>id_30_unknown</td>\n",
       "      <td>chrome 65.0</td>\n",
       "      <td>0.0</td>\n",
       "      <td>id_33_unknown</td>\n",
       "      <td>id_34_unknown</td>\n",
       "      <td>F</td>\n",
       "      <td>F</td>\n",
       "      <td>T</td>\n",
       "      <td>F</td>\n",
       "      <td>desktop</td>\n",
       "      <td>Windows</td>\n",
       "    </tr>\n",
       "    <tr>\n",
       "      <th>472435</th>\n",
       "      <td>0</td>\n",
       "      <td>12193040</td>\n",
       "      <td>136.956</td>\n",
       "      <td>C</td>\n",
       "      <td>9633</td>\n",
       "      <td>130.0</td>\n",
       "      <td>185.0</td>\n",
       "      <td>visa</td>\n",
       "      <td>138.0</td>\n",
       "      <td>debit</td>\n",
       "      <td>0.0</td>\n",
       "      <td>0.0</td>\n",
       "      <td>0.0</td>\n",
       "      <td>0.0</td>\n",
       "      <td>hotmail.com</td>\n",
       "      <td>hotmail.com</td>\n",
       "      <td>2.0</td>\n",
       "      <td>2.0</td>\n",
       "      <td>0.0</td>\n",
       "      <td>1.0</td>\n",
       "      <td>0.0</td>\n",
       "      <td>1.0</td>\n",
       "      <td>1.0</td>\n",
       "      <td>1.0</td>\n",
       "      <td>0.0</td>\n",
       "      <td>1.0</td>\n",
       "      <td>1.0</td>\n",
       "      <td>1.0</td>\n",
       "      <td>1.0</td>\n",
       "      <td>1.0</td>\n",
       "      <td>0.0</td>\n",
       "      <td>0.0</td>\n",
       "      <td>0.0</td>\n",
       "      <td>0.0</td>\n",
       "      <td>0.0</td>\n",
       "      <td>0.0</td>\n",
       "      <td>0.0</td>\n",
       "      <td>0.083333</td>\n",
       "      <td>0.083333</td>\n",
       "      <td>0.0</td>\n",
       "      <td>...</td>\n",
       "      <td>-5.0</td>\n",
       "      <td>118389.0</td>\n",
       "      <td>6.0</td>\n",
       "      <td>0.0</td>\n",
       "      <td>4.0</td>\n",
       "      <td>0.0</td>\n",
       "      <td>0.0</td>\n",
       "      <td>0.0</td>\n",
       "      <td>6.0</td>\n",
       "      <td>0.0</td>\n",
       "      <td>100.0</td>\n",
       "      <td>NotFound</td>\n",
       "      <td>52.0</td>\n",
       "      <td>0.0</td>\n",
       "      <td>Found</td>\n",
       "      <td>Found</td>\n",
       "      <td>225.0</td>\n",
       "      <td>0.0</td>\n",
       "      <td>266.0</td>\n",
       "      <td>507.0</td>\n",
       "      <td>0.0</td>\n",
       "      <td>0.0</td>\n",
       "      <td>id_23_unknown</td>\n",
       "      <td>0.0</td>\n",
       "      <td>0.0</td>\n",
       "      <td>0.0</td>\n",
       "      <td>id_27_unknown</td>\n",
       "      <td>Found</td>\n",
       "      <td>Found</td>\n",
       "      <td>id_30_unknown</td>\n",
       "      <td>chrome 65.0</td>\n",
       "      <td>0.0</td>\n",
       "      <td>id_33_unknown</td>\n",
       "      <td>id_34_unknown</td>\n",
       "      <td>F</td>\n",
       "      <td>F</td>\n",
       "      <td>T</td>\n",
       "      <td>F</td>\n",
       "      <td>desktop</td>\n",
       "      <td>Windows</td>\n",
       "    </tr>\n",
       "    <tr>\n",
       "      <th>472436</th>\n",
       "      <td>0</td>\n",
       "      <td>12193199</td>\n",
       "      <td>25.000</td>\n",
       "      <td>H</td>\n",
       "      <td>17188</td>\n",
       "      <td>321.0</td>\n",
       "      <td>150.0</td>\n",
       "      <td>visa</td>\n",
       "      <td>226.0</td>\n",
       "      <td>debit</td>\n",
       "      <td>310.0</td>\n",
       "      <td>87.0</td>\n",
       "      <td>0.0</td>\n",
       "      <td>0.0</td>\n",
       "      <td>outlook.com</td>\n",
       "      <td>R_emaildomain_unknown</td>\n",
       "      <td>1.0</td>\n",
       "      <td>1.0</td>\n",
       "      <td>0.0</td>\n",
       "      <td>0.0</td>\n",
       "      <td>0.0</td>\n",
       "      <td>1.0</td>\n",
       "      <td>0.0</td>\n",
       "      <td>1.0</td>\n",
       "      <td>0.0</td>\n",
       "      <td>1.0</td>\n",
       "      <td>1.0</td>\n",
       "      <td>0.0</td>\n",
       "      <td>1.0</td>\n",
       "      <td>1.0</td>\n",
       "      <td>0.0</td>\n",
       "      <td>0.0</td>\n",
       "      <td>0.0</td>\n",
       "      <td>0.0</td>\n",
       "      <td>0.0</td>\n",
       "      <td>0.0</td>\n",
       "      <td>0.0</td>\n",
       "      <td>0.000000</td>\n",
       "      <td>0.000000</td>\n",
       "      <td>0.0</td>\n",
       "      <td>...</td>\n",
       "      <td>-5.0</td>\n",
       "      <td>99026.0</td>\n",
       "      <td>0.0</td>\n",
       "      <td>0.0</td>\n",
       "      <td>19.0</td>\n",
       "      <td>0.0</td>\n",
       "      <td>0.0</td>\n",
       "      <td>0.0</td>\n",
       "      <td>0.0</td>\n",
       "      <td>0.0</td>\n",
       "      <td>100.0</td>\n",
       "      <td>NotFound</td>\n",
       "      <td>52.0</td>\n",
       "      <td>-420.0</td>\n",
       "      <td>New</td>\n",
       "      <td>NotFound</td>\n",
       "      <td>166.0</td>\n",
       "      <td>0.0</td>\n",
       "      <td>410.0</td>\n",
       "      <td>225.0</td>\n",
       "      <td>0.0</td>\n",
       "      <td>0.0</td>\n",
       "      <td>id_23_unknown</td>\n",
       "      <td>0.0</td>\n",
       "      <td>0.0</td>\n",
       "      <td>0.0</td>\n",
       "      <td>id_27_unknown</td>\n",
       "      <td>New</td>\n",
       "      <td>NotFound</td>\n",
       "      <td>Windows 10</td>\n",
       "      <td>firefox 59.0</td>\n",
       "      <td>24.0</td>\n",
       "      <td>3200x1800</td>\n",
       "      <td>match_status:2</td>\n",
       "      <td>T</td>\n",
       "      <td>F</td>\n",
       "      <td>T</td>\n",
       "      <td>T</td>\n",
       "      <td>desktop</td>\n",
       "      <td>Windows</td>\n",
       "    </tr>\n",
       "  </tbody>\n",
       "</table>\n",
       "<p>5 rows × 433 columns</p>\n",
       "</div>"
      ],
      "text/plain": [
       "        isFraud  TransactionDT  ...  DeviceType          DeviceInfo\n",
       "472432        1       12192900  ...     desktop  DeviceInfo_unknown\n",
       "472433        0       12192911  ...      mobile               F3311\n",
       "472434        0       12192913  ...     desktop             Windows\n",
       "472435        0       12193040  ...     desktop             Windows\n",
       "472436        0       12193199  ...     desktop             Windows\n",
       "\n",
       "[5 rows x 433 columns]"
      ]
     },
     "execution_count": 29,
     "metadata": {},
     "output_type": "execute_result"
    }
   ],
   "source": [
    "x_test.head()"
   ]
  },
  {
   "cell_type": "markdown",
   "metadata": {
    "id": "rXgJ7ZnZJlnz",
    "tags": []
   },
   "source": [
    "## Encoding de variables categoricas"
   ]
  },
  {
   "cell_type": "code",
   "execution_count": null,
   "metadata": {
    "colab": {
     "base_uri": "https://localhost:8080/"
    },
    "executionInfo": {
     "elapsed": 417,
     "status": "ok",
     "timestamp": 1637935750133,
     "user": {
      "displayName": "Ángel Martín Veiga",
      "photoUrl": "https://lh3.googleusercontent.com/a-/AOh14GhuIO_HePT528k3iUgj6zbDTh-BGNnAqJlehJWi=s64",
      "userId": "02801971987668662503"
     },
     "user_tz": 180
    },
    "id": "79-6yCERHoZ4",
    "outputId": "ac9dd0b5-9061-4c98-d87d-d0604deff928"
   },
   "outputs": [
    {
     "name": "stdout",
     "output_type": "stream",
     "text": [
      "Index(['ProductCD', 'card4', 'card6', 'P_emaildomain', 'R_emaildomain', 'M1',\n",
      "       'M2', 'M3', 'M4', 'M5', 'M6', 'M7', 'M8', 'M9', 'id_12', 'id_15',\n",
      "       'id_16', 'id_23', 'id_27', 'id_28', 'id_29', 'id_30', 'id_31', 'id_33',\n",
      "       'id_34', 'id_35', 'id_36', 'id_37', 'id_38', 'DeviceType',\n",
      "       'DeviceInfo'],\n",
      "      dtype='object')\n"
     ]
    }
   ],
   "source": [
    "print(cat_columns_x_train)"
   ]
  },
  {
   "cell_type": "markdown",
   "metadata": {
    "id": "_GP3j8HrR5U1"
   },
   "source": [
    "### X_emaildomain"
   ]
  },
  {
   "cell_type": "code",
   "execution_count": null,
   "metadata": {
    "colab": {
     "base_uri": "https://localhost:8080/"
    },
    "executionInfo": {
     "elapsed": 5,
     "status": "ok",
     "timestamp": 1637935750134,
     "user": {
      "displayName": "Ángel Martín Veiga",
      "photoUrl": "https://lh3.googleusercontent.com/a-/AOh14GhuIO_HePT528k3iUgj6zbDTh-BGNnAqJlehJWi=s64",
      "userId": "02801971987668662503"
     },
     "user_tz": 180
    },
    "id": "uEYj_YJ6v62K",
    "outputId": "b7819229-1b76-4924-c759-4b7c5db62df0"
   },
   "outputs": [
    {
     "data": {
      "text/plain": [
       "gmail.com                182692\n",
       "yahoo.com                 80854\n",
       "P_emaildomain_unknown     73586\n",
       "hotmail.com               37158\n",
       "anonymous.com             29961\n",
       "aol.com                   22618\n",
       "comcast.net                6496\n",
       "icloud.com                 5031\n",
       "outlook.com                4080\n",
       "msn.com                    3340\n",
       "att.net                    3133\n",
       "live.com                   2475\n",
       "sbcglobal.net              2395\n",
       "verizon.net                2252\n",
       "ymail.com                  1914\n",
       "bellsouth.net              1580\n",
       "yahoo.com.mx               1285\n",
       "me.com                     1269\n",
       "cox.net                    1121\n",
       "optonline.net               835\n",
       "charter.net                 688\n",
       "live.com.mx                 624\n",
       "rocketmail.com              520\n",
       "mail.com                    452\n",
       "gmail                       411\n",
       "earthlink.net               408\n",
       "outlook.es                  377\n",
       "mac.com                     360\n",
       "juno.com                    271\n",
       "aim.com                     268\n",
       "roadrunner.com              249\n",
       "hotmail.es                  239\n",
       "hotmail.fr                  226\n",
       "frontier.com                221\n",
       "windstream.net              219\n",
       "embarqmail.com              210\n",
       "twc.com                     194\n",
       "web.de                      193\n",
       "netzero.com                 188\n",
       "prodigy.net.mx              178\n",
       "netzero.net                 157\n",
       "frontiernet.net             153\n",
       "q.com                       153\n",
       "centurylink.net             153\n",
       "cfl.rr.com                  132\n",
       "sc.rr.com                   128\n",
       "cableone.net                122\n",
       "gmx.de                      119\n",
       "suddenlink.net              114\n",
       "yahoo.es                    105\n",
       "yahoo.fr                     97\n",
       "hotmail.co.uk                79\n",
       "protonmail.com               67\n",
       "ptd.net                      61\n",
       "yahoo.de                     53\n",
       "yahoo.co.uk                  43\n",
       "live.fr                      35\n",
       "hotmail.de                   34\n",
       "servicios-ta.com             28\n",
       "yahoo.co.jp                  28\n",
       "Name: P_emaildomain, dtype: int64"
      ]
     },
     "execution_count": 31,
     "metadata": {},
     "output_type": "execute_result"
    }
   ],
   "source": [
    "x_train['P_emaildomain'].value_counts()"
   ]
  },
  {
   "cell_type": "code",
   "execution_count": null,
   "metadata": {
    "id": "3KlJRFCLE5c1"
   },
   "outputs": [],
   "source": [
    "vectorizer = CountVectorizer(lowercase=True,max_features=20)"
   ]
  },
  {
   "cell_type": "code",
   "execution_count": null,
   "metadata": {
    "colab": {
     "base_uri": "https://localhost:8080/"
    },
    "executionInfo": {
     "elapsed": 1800,
     "status": "ok",
     "timestamp": 1637935751932,
     "user": {
      "displayName": "Ángel Martín Veiga",
      "photoUrl": "https://lh3.googleusercontent.com/a-/AOh14GhuIO_HePT528k3iUgj6zbDTh-BGNnAqJlehJWi=s64",
      "userId": "02801971987668662503"
     },
     "user_tz": 180
    },
    "id": "7XwWinJ5FwMP",
    "outputId": "bdf7ad8d-2de9-4f05-8da5-328d447958ae"
   },
   "outputs": [
    {
     "data": {
      "text/plain": [
       "<472432x20 sparse matrix of type '<class 'numpy.int64'>'\n",
       "\twith 863364 stored elements in Compressed Sparse Row format>"
      ]
     },
     "execution_count": 33,
     "metadata": {},
     "output_type": "execute_result"
    }
   ],
   "source": [
    "matrix = vectorizer.fit_transform(x_train.pop('P_emaildomain'))\n",
    "matrix"
   ]
  },
  {
   "cell_type": "code",
   "execution_count": null,
   "metadata": {
    "colab": {
     "base_uri": "https://localhost:8080/"
    },
    "executionInfo": {
     "elapsed": 4,
     "status": "ok",
     "timestamp": 1637935751932,
     "user": {
      "displayName": "Ángel Martín Veiga",
      "photoUrl": "https://lh3.googleusercontent.com/a-/AOh14GhuIO_HePT528k3iUgj6zbDTh-BGNnAqJlehJWi=s64",
      "userId": "02801971987668662503"
     },
     "user_tz": 180
    },
    "id": "P11QOP5ULD1g",
    "outputId": "d5da152d-24fe-4ec8-c3bd-4d5f62fb3fd4"
   },
   "outputs": [
    {
     "data": {
      "text/plain": [
       "{'anonymous': 0,\n",
       " 'aol': 1,\n",
       " 'att': 2,\n",
       " 'bellsouth': 3,\n",
       " 'com': 4,\n",
       " 'comcast': 5,\n",
       " 'gmail': 6,\n",
       " 'hotmail': 7,\n",
       " 'icloud': 8,\n",
       " 'live': 9,\n",
       " 'me': 10,\n",
       " 'msn': 11,\n",
       " 'mx': 12,\n",
       " 'net': 13,\n",
       " 'outlook': 14,\n",
       " 'p_emaildomain_unknown': 15,\n",
       " 'sbcglobal': 16,\n",
       " 'verizon': 17,\n",
       " 'yahoo': 18,\n",
       " 'ymail': 19}"
      ]
     },
     "execution_count": 34,
     "metadata": {},
     "output_type": "execute_result"
    }
   ],
   "source": [
    "vectorizer.vocabulary_"
   ]
  },
  {
   "cell_type": "code",
   "execution_count": null,
   "metadata": {
    "id": "f7qm_uzCLa9N"
   },
   "outputs": [],
   "source": [
    "x_train=x_train.join(pd.DataFrame(matrix.toarray(),columns=list(vectorizer.vocabulary_.keys()),index=x_train.index))\n",
    "x_test=x_test.join(pd.DataFrame(vectorizer.transform(x_test.pop('P_emaildomain')).toarray(),columns=list(vectorizer.vocabulary_.keys()),index=x_test.index))\n",
    "df_test=df_test.join(pd.DataFrame(vectorizer.transform(df_test.pop('P_emaildomain')).toarray(),columns=list(vectorizer.vocabulary_.keys()),index=df_test.index))"
   ]
  },
  {
   "cell_type": "code",
   "execution_count": null,
   "metadata": {
    "colab": {
     "base_uri": "https://localhost:8080/"
    },
    "executionInfo": {
     "elapsed": 1958,
     "status": "ok",
     "timestamp": 1637935758939,
     "user": {
      "displayName": "Ángel Martín Veiga",
      "photoUrl": "https://lh3.googleusercontent.com/a-/AOh14GhuIO_HePT528k3iUgj6zbDTh-BGNnAqJlehJWi=s64",
      "userId": "02801971987668662503"
     },
     "user_tz": 180
    },
    "id": "gs3TBOTtSlsH",
    "outputId": "93151beb-8d85-445d-bfbb-cdceda9e67c7"
   },
   "outputs": [
    {
     "data": {
      "text/plain": [
       "<472432x20 sparse matrix of type '<class 'numpy.int64'>'\n",
       "\twith 584789 stored elements in Compressed Sparse Row format>"
      ]
     },
     "execution_count": 36,
     "metadata": {},
     "output_type": "execute_result"
    }
   ],
   "source": [
    "matrix = vectorizer.fit_transform(x_train.pop('R_emaildomain'))\n",
    "matrix"
   ]
  },
  {
   "cell_type": "code",
   "execution_count": null,
   "metadata": {
    "colab": {
     "base_uri": "https://localhost:8080/"
    },
    "executionInfo": {
     "elapsed": 5,
     "status": "ok",
     "timestamp": 1637935758939,
     "user": {
      "displayName": "Ángel Martín Veiga",
      "photoUrl": "https://lh3.googleusercontent.com/a-/AOh14GhuIO_HePT528k3iUgj6zbDTh-BGNnAqJlehJWi=s64",
      "userId": "02801971987668662503"
     },
     "user_tz": 180
    },
    "id": "aCIekPJ3S59o",
    "outputId": "f5440f00-5e4a-4a1b-c96e-2651dd265ac9"
   },
   "outputs": [
    {
     "data": {
      "text/plain": [
       "{'anonymous': 0,\n",
       " 'aol': 1,\n",
       " 'com': 2,\n",
       " 'comcast': 3,\n",
       " 'cox': 4,\n",
       " 'de': 5,\n",
       " 'es': 6,\n",
       " 'gmail': 7,\n",
       " 'hotmail': 8,\n",
       " 'icloud': 9,\n",
       " 'live': 10,\n",
       " 'me': 11,\n",
       " 'msn': 12,\n",
       " 'mx': 13,\n",
       " 'net': 14,\n",
       " 'outlook': 15,\n",
       " 'r_emaildomain_unknown': 16,\n",
       " 'sbcglobal': 17,\n",
       " 'verizon': 18,\n",
       " 'yahoo': 19}"
      ]
     },
     "execution_count": 37,
     "metadata": {},
     "output_type": "execute_result"
    }
   ],
   "source": [
    "vectorizer.vocabulary_"
   ]
  },
  {
   "cell_type": "code",
   "execution_count": null,
   "metadata": {
    "id": "ocWvlRLTTBRy"
   },
   "outputs": [],
   "source": [
    "x_train=x_train.join(pd.DataFrame(matrix.toarray(),columns=list(vectorizer.vocabulary_.keys()),index=x_train.index),rsuffix='_R_emaildomain')\n",
    "x_test=x_test.join(pd.DataFrame(vectorizer.transform(x_test.pop('R_emaildomain')).toarray(),columns=list(vectorizer.vocabulary_.keys()),index=x_test.index),rsuffix='_R_emaildomain')\n",
    "df_test=df_test.join(pd.DataFrame(vectorizer.transform(df_test.pop('R_emaildomain')).toarray(),columns=list(vectorizer.vocabulary_.keys()),index=df_test.index),rsuffix='_R_emaildomain')"
   ]
  },
  {
   "cell_type": "markdown",
   "metadata": {
    "id": "jnvedDyHJ2uq",
    "tags": []
   },
   "source": [
    "### Product CD"
   ]
  },
  {
   "cell_type": "code",
   "execution_count": null,
   "metadata": {
    "colab": {
     "base_uri": "https://localhost:8080/"
    },
    "executionInfo": {
     "elapsed": 13,
     "status": "ok",
     "timestamp": 1637935763158,
     "user": {
      "displayName": "Ángel Martín Veiga",
      "photoUrl": "https://lh3.googleusercontent.com/a-/AOh14GhuIO_HePT528k3iUgj6zbDTh-BGNnAqJlehJWi=s64",
      "userId": "02801971987668662503"
     },
     "user_tz": 180
    },
    "id": "JwzQTxj2J_2d",
    "outputId": "d59ecace-9efc-4121-d596-03ea53feab90"
   },
   "outputs": [
    {
     "data": {
      "text/plain": [
       "W    346001\n",
       "C     56410\n",
       "R     32203\n",
       "H     29691\n",
       "S      8127\n",
       "Name: ProductCD, dtype: int64"
      ]
     },
     "execution_count": 39,
     "metadata": {},
     "output_type": "execute_result"
    }
   ],
   "source": [
    "x_train.ProductCD.value_counts()"
   ]
  },
  {
   "cell_type": "code",
   "execution_count": null,
   "metadata": {
    "id": "xj35_l4En7Oi"
   },
   "outputs": [],
   "source": [
    "hot_encoder = OneHotEncoder(handle_unknown='ignore')"
   ]
  },
  {
   "cell_type": "code",
   "execution_count": null,
   "metadata": {
    "colab": {
     "base_uri": "https://localhost:8080/"
    },
    "executionInfo": {
     "elapsed": 1892,
     "status": "ok",
     "timestamp": 1637935765039,
     "user": {
      "displayName": "Ángel Martín Veiga",
      "photoUrl": "https://lh3.googleusercontent.com/a-/AOh14GhuIO_HePT528k3iUgj6zbDTh-BGNnAqJlehJWi=s64",
      "userId": "02801971987668662503"
     },
     "user_tz": 180
    },
    "id": "xugaOqKbn813",
    "outputId": "32a6192c-5714-4302-d6cb-a24eeecca487"
   },
   "outputs": [
    {
     "data": {
      "text/plain": [
       "array([[0., 0., 0., 0., 1.],\n",
       "       [0., 0., 0., 0., 1.],\n",
       "       [0., 0., 0., 0., 1.],\n",
       "       ...,\n",
       "       [0., 1., 0., 0., 0.],\n",
       "       [0., 0., 0., 0., 1.],\n",
       "       [0., 0., 0., 0., 1.]])"
      ]
     },
     "execution_count": 41,
     "metadata": {},
     "output_type": "execute_result"
    }
   ],
   "source": [
    "matrix = hot_encoder.fit_transform(x_train[['ProductCD']])\n",
    "matrix.toarray()"
   ]
  },
  {
   "cell_type": "code",
   "execution_count": null,
   "metadata": {
    "colab": {
     "base_uri": "https://localhost:8080/"
    },
    "executionInfo": {
     "elapsed": 5,
     "status": "ok",
     "timestamp": 1637935765039,
     "user": {
      "displayName": "Ángel Martín Veiga",
      "photoUrl": "https://lh3.googleusercontent.com/a-/AOh14GhuIO_HePT528k3iUgj6zbDTh-BGNnAqJlehJWi=s64",
      "userId": "02801971987668662503"
     },
     "user_tz": 180
    },
    "id": "c2whuCOjosVw",
    "outputId": "4cb2284f-43c6-4f75-c1f6-edf115dd4480"
   },
   "outputs": [
    {
     "data": {
      "text/plain": [
       "array(['ProductCD_C', 'ProductCD_H', 'ProductCD_R', 'ProductCD_S',\n",
       "       'ProductCD_W'], dtype=object)"
      ]
     },
     "execution_count": 42,
     "metadata": {},
     "output_type": "execute_result"
    }
   ],
   "source": [
    "hot_encoder.get_feature_names_out()"
   ]
  },
  {
   "cell_type": "code",
   "execution_count": null,
   "metadata": {
    "id": "UZR2svS3o_HF"
   },
   "outputs": [],
   "source": [
    "x_train=x_train.join(pd.DataFrame(matrix.toarray(),columns=hot_encoder.get_feature_names_out(),index=x_train.index))\n",
    "del x_train['ProductCD']\n",
    "x_test=x_test.join(pd.DataFrame(hot_encoder.transform(x_test[['ProductCD']]).toarray(),columns=hot_encoder.get_feature_names_out(),index=x_test.index))\n",
    "del x_test['ProductCD']\n",
    "df_test=df_test.join(pd.DataFrame(hot_encoder.transform(df_test[['ProductCD']]).toarray(),columns=hot_encoder.get_feature_names_out(),index=df_test.index))\n",
    "del df_test['ProductCD']"
   ]
  },
  {
   "cell_type": "markdown",
   "metadata": {
    "id": "x4-vCGMeJ54N",
    "tags": []
   },
   "source": [
    "### card4"
   ]
  },
  {
   "cell_type": "code",
   "execution_count": null,
   "metadata": {
    "colab": {
     "base_uri": "https://localhost:8080/"
    },
    "executionInfo": {
     "elapsed": 3,
     "status": "ok",
     "timestamp": 1637935768618,
     "user": {
      "displayName": "Ángel Martín Veiga",
      "photoUrl": "https://lh3.googleusercontent.com/a-/AOh14GhuIO_HePT528k3iUgj6zbDTh-BGNnAqJlehJWi=s64",
      "userId": "02801971987668662503"
     },
     "user_tz": 180
    },
    "id": "_DSyfvc3Hprk",
    "outputId": "efe73dfd-5a4b-426a-9cdb-4bcd7868b918"
   },
   "outputs": [
    {
     "data": {
      "text/plain": [
       "visa                308141\n",
       "mastercard          150862\n",
       "american express      7202\n",
       "discover              5394\n",
       "card4_unknown          833\n",
       "Name: card4, dtype: int64"
      ]
     },
     "execution_count": 44,
     "metadata": {},
     "output_type": "execute_result"
    }
   ],
   "source": [
    "x_train.card4.value_counts()"
   ]
  },
  {
   "cell_type": "code",
   "execution_count": null,
   "metadata": {
    "colab": {
     "base_uri": "https://localhost:8080/"
    },
    "executionInfo": {
     "elapsed": 2300,
     "status": "ok",
     "timestamp": 1637935770916,
     "user": {
      "displayName": "Ángel Martín Veiga",
      "photoUrl": "https://lh3.googleusercontent.com/a-/AOh14GhuIO_HePT528k3iUgj6zbDTh-BGNnAqJlehJWi=s64",
      "userId": "02801971987668662503"
     },
     "user_tz": 180
    },
    "id": "rKmwjTR01hXv",
    "outputId": "14f41ea9-c5ff-4814-e7bd-fa5c5cd4b8e5"
   },
   "outputs": [
    {
     "data": {
      "text/plain": [
       "array([[0., 0., 1., 0., 0.],\n",
       "       [0., 0., 0., 1., 0.],\n",
       "       [0., 0., 0., 0., 1.],\n",
       "       ...,\n",
       "       [0., 0., 0., 0., 1.],\n",
       "       [0., 0., 0., 1., 0.],\n",
       "       [0., 0., 0., 0., 1.]])"
      ]
     },
     "execution_count": 45,
     "metadata": {},
     "output_type": "execute_result"
    }
   ],
   "source": [
    "matrix = hot_encoder.fit_transform(x_train[['card4']])\n",
    "matrix.toarray()"
   ]
  },
  {
   "cell_type": "code",
   "execution_count": null,
   "metadata": {
    "colab": {
     "base_uri": "https://localhost:8080/"
    },
    "executionInfo": {
     "elapsed": 3,
     "status": "ok",
     "timestamp": 1637935770916,
     "user": {
      "displayName": "Ángel Martín Veiga",
      "photoUrl": "https://lh3.googleusercontent.com/a-/AOh14GhuIO_HePT528k3iUgj6zbDTh-BGNnAqJlehJWi=s64",
      "userId": "02801971987668662503"
     },
     "user_tz": 180
    },
    "id": "do_4TKBr1hRQ",
    "outputId": "3cab40fc-1d44-4742-edf0-51e3d53480c8"
   },
   "outputs": [
    {
     "data": {
      "text/plain": [
       "array(['card4_american express', 'card4_card4_unknown', 'card4_discover',\n",
       "       'card4_mastercard', 'card4_visa'], dtype=object)"
      ]
     },
     "execution_count": 46,
     "metadata": {},
     "output_type": "execute_result"
    }
   ],
   "source": [
    "hot_encoder.get_feature_names_out()"
   ]
  },
  {
   "cell_type": "code",
   "execution_count": null,
   "metadata": {
    "id": "-MvMIyFf1mcZ"
   },
   "outputs": [],
   "source": [
    "x_train=x_train.join(pd.DataFrame(matrix.toarray(),columns=hot_encoder.get_feature_names_out(),index=x_train.index))\n",
    "del x_train['card4']\n",
    "x_test=x_test.join(pd.DataFrame(hot_encoder.transform(x_test[['card4']]).toarray(),columns=hot_encoder.get_feature_names_out(),index=x_test.index))\n",
    "del x_test['card4']\n",
    "df_test=df_test.join(pd.DataFrame(hot_encoder.transform(df_test[['card4']]).toarray(),columns=hot_encoder.get_feature_names_out(),index=df_test.index))\n",
    "del df_test['card4']"
   ]
  },
  {
   "cell_type": "code",
   "execution_count": null,
   "metadata": {
    "id": "zhScaikSHzo4"
   },
   "outputs": [],
   "source": [
    "# x_train=x_train.join(pd.get_dummies(x_train.pop('card4')))\n",
    "# x_test=x_test.join(pd.get_dummies(x_test.pop('card4')))\n",
    "# df_test=df_test.join(pd.get_dummies(df_test.pop('card4')))"
   ]
  },
  {
   "cell_type": "markdown",
   "metadata": {
    "id": "duydnYPYKWLn",
    "tags": []
   },
   "source": [
    "### card6"
   ]
  },
  {
   "cell_type": "code",
   "execution_count": null,
   "metadata": {
    "colab": {
     "base_uri": "https://localhost:8080/"
    },
    "executionInfo": {
     "elapsed": 12,
     "status": "ok",
     "timestamp": 1637935775112,
     "user": {
      "displayName": "Ángel Martín Veiga",
      "photoUrl": "https://lh3.googleusercontent.com/a-/AOh14GhuIO_HePT528k3iUgj6zbDTh-BGNnAqJlehJWi=s64",
      "userId": "02801971987668662503"
     },
     "user_tz": 180
    },
    "id": "cx9vS9b2KXmH",
    "outputId": "aeaac4f3-adc9-4505-f172-7a66e0b415ba"
   },
   "outputs": [
    {
     "data": {
      "text/plain": [
       "debit              349843\n",
       "credit             121716\n",
       "card6_unknown         828\n",
       "debit or credit        30\n",
       "charge card            15\n",
       "Name: card6, dtype: int64"
      ]
     },
     "execution_count": 49,
     "metadata": {},
     "output_type": "execute_result"
    }
   ],
   "source": [
    "x_train.card6.value_counts()"
   ]
  },
  {
   "cell_type": "code",
   "execution_count": null,
   "metadata": {
    "colab": {
     "base_uri": "https://localhost:8080/"
    },
    "executionInfo": {
     "elapsed": 1909,
     "status": "ok",
     "timestamp": 1637935777011,
     "user": {
      "displayName": "Ángel Martín Veiga",
      "photoUrl": "https://lh3.googleusercontent.com/a-/AOh14GhuIO_HePT528k3iUgj6zbDTh-BGNnAqJlehJWi=s64",
      "userId": "02801971987668662503"
     },
     "user_tz": 180
    },
    "id": "POhE1w6413Y1",
    "outputId": "69fd28c7-2dfe-4082-a13c-1401c92f16fe"
   },
   "outputs": [
    {
     "data": {
      "text/plain": [
       "array([[0., 0., 1., 0., 0.],\n",
       "       [0., 0., 1., 0., 0.],\n",
       "       [0., 0., 0., 1., 0.],\n",
       "       ...,\n",
       "       [0., 0., 1., 0., 0.],\n",
       "       [0., 0., 0., 1., 0.],\n",
       "       [0., 0., 1., 0., 0.]])"
      ]
     },
     "execution_count": 50,
     "metadata": {},
     "output_type": "execute_result"
    }
   ],
   "source": [
    "matrix = hot_encoder.fit_transform(x_train[['card6']])\n",
    "matrix.toarray()"
   ]
  },
  {
   "cell_type": "code",
   "execution_count": null,
   "metadata": {
    "colab": {
     "base_uri": "https://localhost:8080/"
    },
    "executionInfo": {
     "elapsed": 4,
     "status": "ok",
     "timestamp": 1637935777011,
     "user": {
      "displayName": "Ángel Martín Veiga",
      "photoUrl": "https://lh3.googleusercontent.com/a-/AOh14GhuIO_HePT528k3iUgj6zbDTh-BGNnAqJlehJWi=s64",
      "userId": "02801971987668662503"
     },
     "user_tz": 180
    },
    "id": "BeUOY3gB14ak",
    "outputId": "08b42a52-133c-4488-9d37-7760d658afb9"
   },
   "outputs": [
    {
     "data": {
      "text/plain": [
       "array(['card6_card6_unknown', 'card6_charge card', 'card6_credit',\n",
       "       'card6_debit', 'card6_debit or credit'], dtype=object)"
      ]
     },
     "execution_count": 51,
     "metadata": {},
     "output_type": "execute_result"
    }
   ],
   "source": [
    "hot_encoder.get_feature_names_out()"
   ]
  },
  {
   "cell_type": "code",
   "execution_count": null,
   "metadata": {
    "id": "IqmNtPQ616Cz"
   },
   "outputs": [],
   "source": [
    "x_train=x_train.join(pd.DataFrame(matrix.toarray(),columns=hot_encoder.get_feature_names_out(),index=x_train.index))\n",
    "del x_train['card6']\n",
    "x_test=x_test.join(pd.DataFrame(hot_encoder.transform(x_test[['card6']]).toarray(),columns=hot_encoder.get_feature_names_out(),index=x_test.index))\n",
    "del x_test['card6']\n",
    "df_test=df_test.join(pd.DataFrame(hot_encoder.transform(df_test[['card6']]).toarray(),columns=hot_encoder.get_feature_names_out(),index=df_test.index))\n",
    "del df_test['card6']"
   ]
  },
  {
   "cell_type": "code",
   "execution_count": null,
   "metadata": {
    "id": "LxvnNsRCZHLS"
   },
   "outputs": [],
   "source": [
    "# x_train=x_train.join(pd.get_dummies(x_train.pop('card6')))\n",
    "# x_test=x_test.join(pd.get_dummies(x_test.pop('card6')))\n",
    "# df_test=df_test.join(pd.get_dummies(df_test.pop('card6')))"
   ]
  },
  {
   "cell_type": "markdown",
   "metadata": {
    "id": "snSSXlvgkA9T"
   },
   "source": [
    "### MX"
   ]
  },
  {
   "cell_type": "markdown",
   "metadata": {
    "id": "i58Kw3xPkA9T"
   },
   "source": [
    "Salvo M4 son features que parecen booleanas, las que tengan mayor cantidad de valor el 'unkown' los voy a encodear con 1 si tiene feature y 0 si no."
   ]
  },
  {
   "cell_type": "code",
   "execution_count": null,
   "metadata": {
    "colab": {
     "base_uri": "https://localhost:8080/"
    },
    "executionInfo": {
     "elapsed": 5,
     "status": "ok",
     "timestamp": 1637935781062,
     "user": {
      "displayName": "Ángel Martín Veiga",
      "photoUrl": "https://lh3.googleusercontent.com/a-/AOh14GhuIO_HePT528k3iUgj6zbDTh-BGNnAqJlehJWi=s64",
      "userId": "02801971987668662503"
     },
     "user_tz": 180
    },
    "id": "8uzk48BgkA9T",
    "outputId": "b1f49b53-32b6-4c8a-fc9d-4c1895a4b4eb"
   },
   "outputs": [
    {
     "data": {
      "text/plain": [
       "M1_unknown    238295\n",
       "T             234116\n",
       "F                 21\n",
       "Name: M1, dtype: int64"
      ]
     },
     "execution_count": 54,
     "metadata": {},
     "output_type": "execute_result"
    }
   ],
   "source": [
    "x_train.M1.value_counts()"
   ]
  },
  {
   "cell_type": "code",
   "execution_count": null,
   "metadata": {
    "id": "lCvNz4KglOd8"
   },
   "outputs": [],
   "source": [
    "x_train.M1 = pd.Series(np.where(x_train.M1.values == ('T' or 'F'), 1, 0), x_train.index)\n",
    "x_test.M1 = pd.Series(np.where(x_test.M1.values == ('T' or 'F'), 1, 0), x_test.index)\n",
    "df_test.M1 = pd.Series(np.where(df_test.M1.values == ('T' or 'F'), 1, 0), df_test.index)"
   ]
  },
  {
   "cell_type": "code",
   "execution_count": null,
   "metadata": {
    "colab": {
     "base_uri": "https://localhost:8080/"
    },
    "executionInfo": {
     "elapsed": 11,
     "status": "ok",
     "timestamp": 1637935781468,
     "user": {
      "displayName": "Ángel Martín Veiga",
      "photoUrl": "https://lh3.googleusercontent.com/a-/AOh14GhuIO_HePT528k3iUgj6zbDTh-BGNnAqJlehJWi=s64",
      "userId": "02801971987668662503"
     },
     "user_tz": 180
    },
    "id": "-uCIwx00kA9T",
    "outputId": "c59195e8-00a4-4668-9208-151ba3ff7b24"
   },
   "outputs": [
    {
     "data": {
      "text/plain": [
       "M2_unknown    238295\n",
       "T             210007\n",
       "F              24130\n",
       "Name: M2, dtype: int64"
      ]
     },
     "execution_count": 56,
     "metadata": {},
     "output_type": "execute_result"
    }
   ],
   "source": [
    "x_train.M2.value_counts()"
   ]
  },
  {
   "cell_type": "code",
   "execution_count": null,
   "metadata": {
    "id": "M0CHVL81lzrn"
   },
   "outputs": [],
   "source": [
    "x_train.M2 = pd.Series(np.where(x_train.M2.values == ('T' or 'F'), 1, 0), x_train.index)\n",
    "x_test.M2 = pd.Series(np.where(x_test.M2.values == ('T' or 'F'), 1, 0), x_test.index)\n",
    "df_test.M2 = pd.Series(np.where(df_test.M2.values == ('T' or 'F'), 1, 0), df_test.index)"
   ]
  },
  {
   "cell_type": "code",
   "execution_count": null,
   "metadata": {
    "colab": {
     "base_uri": "https://localhost:8080/"
    },
    "executionInfo": {
     "elapsed": 8,
     "status": "ok",
     "timestamp": 1637935781469,
     "user": {
      "displayName": "Ángel Martín Veiga",
      "photoUrl": "https://lh3.googleusercontent.com/a-/AOh14GhuIO_HePT528k3iUgj6zbDTh-BGNnAqJlehJWi=s64",
      "userId": "02801971987668662503"
     },
     "user_tz": 180
    },
    "id": "gR1xbsZOkA9T",
    "outputId": "557b738e-07b6-469a-8d74-a07173e2feef"
   },
   "outputs": [
    {
     "data": {
      "text/plain": [
       "M3_unknown    238295\n",
       "T             184780\n",
       "F              49357\n",
       "Name: M3, dtype: int64"
      ]
     },
     "execution_count": 58,
     "metadata": {},
     "output_type": "execute_result"
    }
   ],
   "source": [
    "x_train.M3.value_counts()"
   ]
  },
  {
   "cell_type": "code",
   "execution_count": null,
   "metadata": {
    "id": "upW8XifhmiRm"
   },
   "outputs": [],
   "source": [
    "x_train.M3 = pd.Series(np.where(x_train.M3.values == ('T' or 'F'), 1, 0), x_train.index)\n",
    "x_test.M3 = pd.Series(np.where(x_test.M3.values == ('T' or 'F'), 1, 0), x_test.index)\n",
    "df_test.M3 = pd.Series(np.where(df_test.M3.values == ('T' or 'F'), 1, 0), df_test.index)"
   ]
  },
  {
   "cell_type": "code",
   "execution_count": null,
   "metadata": {
    "colab": {
     "base_uri": "https://localhost:8080/"
    },
    "executionInfo": {
     "elapsed": 8,
     "status": "ok",
     "timestamp": 1637935781471,
     "user": {
      "displayName": "Ángel Martín Veiga",
      "photoUrl": "https://lh3.googleusercontent.com/a-/AOh14GhuIO_HePT528k3iUgj6zbDTh-BGNnAqJlehJWi=s64",
      "userId": "02801971987668662503"
     },
     "user_tz": 180
    },
    "id": "MOHnKdGikA9U",
    "outputId": "bc86d1f0-b565-4851-9cb0-cba994db9dd8"
   },
   "outputs": [
    {
     "data": {
      "text/plain": [
       "M5_unknown    283514\n",
       "F             104333\n",
       "T              84585\n",
       "Name: M5, dtype: int64"
      ]
     },
     "execution_count": 60,
     "metadata": {},
     "output_type": "execute_result"
    }
   ],
   "source": [
    "x_train.M5.value_counts()"
   ]
  },
  {
   "cell_type": "code",
   "execution_count": null,
   "metadata": {
    "id": "Px3Jyfssmn5B"
   },
   "outputs": [],
   "source": [
    "x_train.M5 = pd.Series(np.where(x_train.M5.values == ('T' or 'F'), 1, 0), x_train.index)\n",
    "x_test.M5 = pd.Series(np.where(x_test.M5.values == ('T' or 'F'), 1, 0), x_test.index)\n",
    "df_test.M5 = pd.Series(np.where(df_test.M5.values == ('T' or 'F'), 1, 0), df_test.index)"
   ]
  },
  {
   "cell_type": "code",
   "execution_count": null,
   "metadata": {
    "colab": {
     "base_uri": "https://localhost:8080/"
    },
    "executionInfo": {
     "elapsed": 3,
     "status": "ok",
     "timestamp": 1637935781759,
     "user": {
      "displayName": "Ángel Martín Veiga",
      "photoUrl": "https://lh3.googleusercontent.com/a-/AOh14GhuIO_HePT528k3iUgj6zbDTh-BGNnAqJlehJWi=s64",
      "userId": "02801971987668662503"
     },
     "user_tz": 180
    },
    "id": "ID374AHPkA9U",
    "outputId": "a857c49e-c5d7-4554-bf8f-abcd77ac7b8f"
   },
   "outputs": [
    {
     "data": {
      "text/plain": [
       "F             179001\n",
       "T             152016\n",
       "M6_unknown    141415\n",
       "Name: M6, dtype: int64"
      ]
     },
     "execution_count": 62,
     "metadata": {},
     "output_type": "execute_result"
    }
   ],
   "source": [
    "x_train.M6.value_counts()"
   ]
  },
  {
   "cell_type": "code",
   "execution_count": null,
   "metadata": {
    "id": "n3D5ulOhmvw5"
   },
   "outputs": [],
   "source": [
    "x_train.M6 = pd.Series(np.where(x_train.M6.values == 'F', 1, 0), x_train.index)\n",
    "x_test.M6 = pd.Series(np.where(x_test.M6.values == 'F', 1, 0), x_test.index)\n",
    "df_test.M6 = pd.Series(np.where(df_test.M6.values == 'F', 1, 0), df_test.index)"
   ]
  },
  {
   "cell_type": "code",
   "execution_count": null,
   "metadata": {
    "colab": {
     "base_uri": "https://localhost:8080/"
    },
    "executionInfo": {
     "elapsed": 3,
     "status": "ok",
     "timestamp": 1637935782050,
     "user": {
      "displayName": "Ángel Martín Veiga",
      "photoUrl": "https://lh3.googleusercontent.com/a-/AOh14GhuIO_HePT528k3iUgj6zbDTh-BGNnAqJlehJWi=s64",
      "userId": "02801971987668662503"
     },
     "user_tz": 180
    },
    "id": "XkF6QEIpkA9U",
    "outputId": "fcc28742-343b-4570-803e-e533e5a6da86"
   },
   "outputs": [
    {
     "data": {
      "text/plain": [
       "M7_unknown    299980\n",
       "F             149126\n",
       "T              23326\n",
       "Name: M7, dtype: int64"
      ]
     },
     "execution_count": 64,
     "metadata": {},
     "output_type": "execute_result"
    }
   ],
   "source": [
    "x_train.M7.value_counts()"
   ]
  },
  {
   "cell_type": "code",
   "execution_count": null,
   "metadata": {
    "id": "k_YefAPIntaM"
   },
   "outputs": [],
   "source": [
    "x_train.M7 = pd.Series(np.where(x_train.M7.values == ('T' or 'F'), 1, 0), x_train.index)\n",
    "x_test.M7 = pd.Series(np.where(x_test.M7.values == ('T' or 'F'), 1, 0), x_test.index)\n",
    "df_test.M7 = pd.Series(np.where(df_test.M7.values == ('T' or 'F'), 1, 0), df_test.index)"
   ]
  },
  {
   "cell_type": "code",
   "execution_count": null,
   "metadata": {
    "colab": {
     "base_uri": "https://localhost:8080/"
    },
    "executionInfo": {
     "elapsed": 3,
     "status": "ok",
     "timestamp": 1637935782051,
     "user": {
      "displayName": "Ángel Martín Veiga",
      "photoUrl": "https://lh3.googleusercontent.com/a-/AOh14GhuIO_HePT528k3iUgj6zbDTh-BGNnAqJlehJWi=s64",
      "userId": "02801971987668662503"
     },
     "user_tz": 180
    },
    "id": "3YvYhqqAkA9U",
    "outputId": "c8e3a992-103c-49b8-aef3-c6e8682f8dbf"
   },
   "outputs": [
    {
     "data": {
      "text/plain": [
       "M8_unknown    299974\n",
       "F             109063\n",
       "T              63395\n",
       "Name: M8, dtype: int64"
      ]
     },
     "execution_count": 66,
     "metadata": {},
     "output_type": "execute_result"
    }
   ],
   "source": [
    "x_train.M8.value_counts()"
   ]
  },
  {
   "cell_type": "code",
   "execution_count": null,
   "metadata": {
    "id": "N_vGm7lQnx2s"
   },
   "outputs": [],
   "source": [
    "x_train.M8 = pd.Series(np.where(x_train.M8.values == ('T' or 'F'), 1, 0), x_train.index)\n",
    "x_test.M8 = pd.Series(np.where(x_test.M8.values == ('T' or 'F'), 1, 0), x_test.index)\n",
    "df_test.M8 = pd.Series(np.where(df_test.M8.values == ('T' or 'F'), 1, 0), df_test.index)"
   ]
  },
  {
   "cell_type": "code",
   "execution_count": null,
   "metadata": {
    "colab": {
     "base_uri": "https://localhost:8080/"
    },
    "executionInfo": {
     "elapsed": 5,
     "status": "ok",
     "timestamp": 1637935782394,
     "user": {
      "displayName": "Ángel Martín Veiga",
      "photoUrl": "https://lh3.googleusercontent.com/a-/AOh14GhuIO_HePT528k3iUgj6zbDTh-BGNnAqJlehJWi=s64",
      "userId": "02801971987668662503"
     },
     "user_tz": 180
    },
    "id": "W3A4fz2JkA9U",
    "outputId": "ad1f57e4-ecce-4473-ca1f-9ce27257e775"
   },
   "outputs": [
    {
     "data": {
      "text/plain": [
       "M9_unknown    299974\n",
       "T             145732\n",
       "F              26726\n",
       "Name: M9, dtype: int64"
      ]
     },
     "execution_count": 68,
     "metadata": {},
     "output_type": "execute_result"
    }
   ],
   "source": [
    "x_train.M9.value_counts()"
   ]
  },
  {
   "cell_type": "code",
   "execution_count": null,
   "metadata": {
    "id": "Ei0VNwjtn1i4"
   },
   "outputs": [],
   "source": [
    "x_train.M9 = pd.Series(np.where(x_train.M9.values == ('T' or 'F'), 1, 0), x_train.index)\n",
    "x_test.M9 = pd.Series(np.where(x_test.M9.values == ('T' or 'F'), 1, 0), x_test.index)\n",
    "df_test.M9 = pd.Series(np.where(df_test.M9.values == ('T' or 'F'), 1, 0), df_test.index)"
   ]
  },
  {
   "cell_type": "code",
   "execution_count": null,
   "metadata": {
    "colab": {
     "base_uri": "https://localhost:8080/"
    },
    "executionInfo": {
     "elapsed": 5,
     "status": "ok",
     "timestamp": 1637935782395,
     "user": {
      "displayName": "Ángel Martín Veiga",
      "photoUrl": "https://lh3.googleusercontent.com/a-/AOh14GhuIO_HePT528k3iUgj6zbDTh-BGNnAqJlehJWi=s64",
      "userId": "02801971987668662503"
     },
     "user_tz": 180
    },
    "id": "p6QTKhOOkA9U",
    "outputId": "49e85aaa-dce4-4cb2-e396-dc994625d85c"
   },
   "outputs": [
    {
     "data": {
      "text/plain": [
       "M4_unknown    227191\n",
       "M0            155071\n",
       "M2             48778\n",
       "M1             41392\n",
       "Name: M4, dtype: int64"
      ]
     },
     "execution_count": 70,
     "metadata": {},
     "output_type": "execute_result"
    }
   ],
   "source": [
    "x_train.M4.value_counts()"
   ]
  },
  {
   "cell_type": "code",
   "execution_count": null,
   "metadata": {
    "colab": {
     "base_uri": "https://localhost:8080/"
    },
    "executionInfo": {
     "elapsed": 1759,
     "status": "ok",
     "timestamp": 1637935784150,
     "user": {
      "displayName": "Ángel Martín Veiga",
      "photoUrl": "https://lh3.googleusercontent.com/a-/AOh14GhuIO_HePT528k3iUgj6zbDTh-BGNnAqJlehJWi=s64",
      "userId": "02801971987668662503"
     },
     "user_tz": 180
    },
    "id": "16LYUCBa2w_r",
    "outputId": "d25c1e7e-0665-4f72-c354-0280e26e570b"
   },
   "outputs": [
    {
     "data": {
      "text/plain": [
       "array([[0., 0., 1., 0.],\n",
       "       [1., 0., 0., 0.],\n",
       "       [1., 0., 0., 0.],\n",
       "       ...,\n",
       "       [0., 0., 0., 1.],\n",
       "       [1., 0., 0., 0.],\n",
       "       [1., 0., 0., 0.]])"
      ]
     },
     "execution_count": 71,
     "metadata": {},
     "output_type": "execute_result"
    }
   ],
   "source": [
    "matrix = hot_encoder.fit_transform(x_train[['M4']])\n",
    "matrix.toarray()"
   ]
  },
  {
   "cell_type": "code",
   "execution_count": null,
   "metadata": {
    "colab": {
     "base_uri": "https://localhost:8080/"
    },
    "executionInfo": {
     "elapsed": 23,
     "status": "ok",
     "timestamp": 1637935784152,
     "user": {
      "displayName": "Ángel Martín Veiga",
      "photoUrl": "https://lh3.googleusercontent.com/a-/AOh14GhuIO_HePT528k3iUgj6zbDTh-BGNnAqJlehJWi=s64",
      "userId": "02801971987668662503"
     },
     "user_tz": 180
    },
    "id": "ZM1mnRWg2w_s",
    "outputId": "6ff7471b-6725-4b44-db4a-55fda255a76c"
   },
   "outputs": [
    {
     "data": {
      "text/plain": [
       "array(['M4_M0', 'M4_M1', 'M4_M2', 'M4_M4_unknown'], dtype=object)"
      ]
     },
     "execution_count": 72,
     "metadata": {},
     "output_type": "execute_result"
    }
   ],
   "source": [
    "hot_encoder.get_feature_names_out()"
   ]
  },
  {
   "cell_type": "code",
   "execution_count": null,
   "metadata": {
    "id": "_r1z1vca2w_s"
   },
   "outputs": [],
   "source": [
    "x_train=x_train.join(pd.DataFrame(matrix.toarray(),columns=hot_encoder.get_feature_names_out(),index=x_train.index))\n",
    "del x_train['M4']\n",
    "x_test=x_test.join(pd.DataFrame(hot_encoder.transform(x_test[['M4']]).toarray(),columns=hot_encoder.get_feature_names_out(),index=x_test.index))\n",
    "del x_test['M4']\n",
    "df_test=df_test.join(pd.DataFrame(hot_encoder.transform(df_test[['M4']]).toarray(),columns=hot_encoder.get_feature_names_out(),index=df_test.index))\n",
    "del df_test['M4']"
   ]
  },
  {
   "cell_type": "code",
   "execution_count": null,
   "metadata": {
    "id": "Qf-O6cMbn-p2"
   },
   "outputs": [],
   "source": [
    "# x_train=x_train.join(pd.get_dummies(x_train.pop('M4')),rsuffix='_M4')\n",
    "# x_test=x_test.join(pd.get_dummies(x_test.pop('M4')),rsuffix='_M4')\n",
    "# df_test=df_test.join(pd.get_dummies(df_test.pop('M4')),rsuffix='_M4')"
   ]
  },
  {
   "cell_type": "markdown",
   "metadata": {
    "id": "KBth5xoYx6eV"
   },
   "source": [
    "### id_X"
   ]
  },
  {
   "cell_type": "code",
   "execution_count": null,
   "metadata": {
    "colab": {
     "base_uri": "https://localhost:8080/"
    },
    "executionInfo": {
     "elapsed": 7,
     "status": "ok",
     "timestamp": 1637935787646,
     "user": {
      "displayName": "Ángel Martín Veiga",
      "photoUrl": "https://lh3.googleusercontent.com/a-/AOh14GhuIO_HePT528k3iUgj6zbDTh-BGNnAqJlehJWi=s64",
      "userId": "02801971987668662503"
     },
     "user_tz": 180
    },
    "id": "baWBCJ1qKv_Z",
    "outputId": "7605a39e-e30e-4e24-af53-d0a0e058cb39"
   },
   "outputs": [
    {
     "data": {
      "text/plain": [
       "id_12_unknown    351968\n",
       "NotFound         104387\n",
       "Found             16077\n",
       "Name: id_12, dtype: int64"
      ]
     },
     "execution_count": 75,
     "metadata": {},
     "output_type": "execute_result"
    }
   ],
   "source": [
    "x_train.id_12.value_counts()"
   ]
  },
  {
   "cell_type": "code",
   "execution_count": null,
   "metadata": {
    "id": "OicPLevPL_P9"
   },
   "outputs": [],
   "source": [
    "x_train.id_12 = pd.Series(np.where(x_train.id_12.values == ('NotFound' or 'Found'), 1, 0), x_train.index)\n",
    "x_test.id_12 = pd.Series(np.where(x_test.id_12.values == ('NotFound' or 'Found'), 1, 0), x_test.index)\n",
    "df_test.id_12 = pd.Series(np.where(df_test.id_12.values == ('NotFound' or 'Found'), 1, 0), df_test.index)"
   ]
  },
  {
   "cell_type": "code",
   "execution_count": null,
   "metadata": {
    "colab": {
     "base_uri": "https://localhost:8080/"
    },
    "executionInfo": {
     "elapsed": 392,
     "status": "ok",
     "timestamp": 1637935788034,
     "user": {
      "displayName": "Ángel Martín Veiga",
      "photoUrl": "https://lh3.googleusercontent.com/a-/AOh14GhuIO_HePT528k3iUgj6zbDTh-BGNnAqJlehJWi=s64",
      "userId": "02801971987668662503"
     },
     "user_tz": 180
    },
    "id": "TQMGCqhkK_CG",
    "outputId": "c1f36f24-2011-4441-e2a2-90216926d24a"
   },
   "outputs": [
    {
     "data": {
      "text/plain": [
       "id_15_unknown    354636\n",
       "Found             55413\n",
       "New               52755\n",
       "Unknown            9628\n",
       "Name: id_15, dtype: int64"
      ]
     },
     "execution_count": 77,
     "metadata": {},
     "output_type": "execute_result"
    }
   ],
   "source": [
    "x_train.id_15.value_counts()"
   ]
  },
  {
   "cell_type": "code",
   "execution_count": null,
   "metadata": {
    "id": "n-vJv-0qMOFY"
   },
   "outputs": [],
   "source": [
    "x_train.id_15 = pd.Series(np.where(x_train.id_15.values == ('New' or 'Found' or 'Unknown'), 1, 0), x_train.index)\n",
    "x_test.id_15 = pd.Series(np.where(x_test.id_15.values == ('New' or 'Found' or 'Unknown'), 1, 0), x_test.index)\n",
    "df_test.id_15 = pd.Series(np.where(df_test.id_15.values == ('New' or 'Found' or 'Unknown'), 1, 0), df_test.index)"
   ]
  },
  {
   "cell_type": "code",
   "execution_count": null,
   "metadata": {
    "colab": {
     "base_uri": "https://localhost:8080/"
    },
    "executionInfo": {
     "elapsed": 6,
     "status": "ok",
     "timestamp": 1637935788035,
     "user": {
      "displayName": "Ángel Martín Veiga",
      "photoUrl": "https://lh3.googleusercontent.com/a-/AOh14GhuIO_HePT528k3iUgj6zbDTh-BGNnAqJlehJWi=s64",
      "userId": "02801971987668662503"
     },
     "user_tz": 180
    },
    "id": "kKkdQwzeLBrp",
    "outputId": "57ac911f-bf5f-4405-f383-a8f475775de0"
   },
   "outputs": [
    {
     "data": {
      "text/plain": [
       "id_16_unknown    364264\n",
       "Found             54090\n",
       "NotFound          54078\n",
       "Name: id_16, dtype: int64"
      ]
     },
     "execution_count": 79,
     "metadata": {},
     "output_type": "execute_result"
    }
   ],
   "source": [
    "x_train.id_16.value_counts()"
   ]
  },
  {
   "cell_type": "code",
   "execution_count": null,
   "metadata": {
    "id": "tWdhL9D0NGmn"
   },
   "outputs": [],
   "source": [
    "x_train.id_16 = pd.Series(np.where(x_train.id_16.values == ('NotFound' or 'Found'), 1, 0), x_train.index)\n",
    "x_test.id_16 = pd.Series(np.where(x_test.id_16.values == ('NotFound' or 'Found'), 1, 0), x_test.index)\n",
    "df_test.id_16 = pd.Series(np.where(df_test.id_16.values == ('NotFound' or 'Found'), 1, 0), df_test.index)"
   ]
  },
  {
   "cell_type": "code",
   "execution_count": null,
   "metadata": {
    "colab": {
     "base_uri": "https://localhost:8080/"
    },
    "executionInfo": {
     "elapsed": 10,
     "status": "ok",
     "timestamp": 1637935788040,
     "user": {
      "displayName": "Ángel Martín Veiga",
      "photoUrl": "https://lh3.googleusercontent.com/a-/AOh14GhuIO_HePT528k3iUgj6zbDTh-BGNnAqJlehJWi=s64",
      "userId": "02801971987668662503"
     },
     "user_tz": 180
    },
    "id": "gsCzsRlvLDPS",
    "outputId": "62b0e2ca-de84-4e57-fa8b-9f005783d786"
   },
   "outputs": [
    {
     "data": {
      "text/plain": [
       "id_23_unknown           468159\n",
       "IP_PROXY:TRANSPARENT      2847\n",
       "IP_PROXY:ANONYMOUS         895\n",
       "IP_PROXY:HIDDEN            531\n",
       "Name: id_23, dtype: int64"
      ]
     },
     "execution_count": 81,
     "metadata": {},
     "output_type": "execute_result"
    }
   ],
   "source": [
    "x_train.id_23.value_counts()"
   ]
  },
  {
   "cell_type": "markdown",
   "metadata": {
    "id": "49WAIRiCNv2U"
   },
   "source": [
    "Parece un feature interesante, voy a hacer One Hot para este."
   ]
  },
  {
   "cell_type": "code",
   "execution_count": null,
   "metadata": {
    "colab": {
     "base_uri": "https://localhost:8080/"
    },
    "executionInfo": {
     "elapsed": 1274,
     "status": "ok",
     "timestamp": 1637935789305,
     "user": {
      "displayName": "Ángel Martín Veiga",
      "photoUrl": "https://lh3.googleusercontent.com/a-/AOh14GhuIO_HePT528k3iUgj6zbDTh-BGNnAqJlehJWi=s64",
      "userId": "02801971987668662503"
     },
     "user_tz": 180
    },
    "id": "qeGozt6F28__",
    "outputId": "ed001d69-701f-4c24-ae8b-e968ea4ecb80"
   },
   "outputs": [
    {
     "data": {
      "text/plain": [
       "array([[0., 0., 0., 1.],\n",
       "       [0., 0., 0., 1.],\n",
       "       [0., 0., 0., 1.],\n",
       "       ...,\n",
       "       [0., 0., 0., 1.],\n",
       "       [0., 0., 0., 1.],\n",
       "       [0., 0., 0., 1.]])"
      ]
     },
     "execution_count": 82,
     "metadata": {},
     "output_type": "execute_result"
    }
   ],
   "source": [
    "matrix = hot_encoder.fit_transform(x_train[['id_23']])\n",
    "matrix.toarray()"
   ]
  },
  {
   "cell_type": "code",
   "execution_count": null,
   "metadata": {
    "colab": {
     "base_uri": "https://localhost:8080/"
    },
    "executionInfo": {
     "elapsed": 328,
     "status": "ok",
     "timestamp": 1637935789627,
     "user": {
      "displayName": "Ángel Martín Veiga",
      "photoUrl": "https://lh3.googleusercontent.com/a-/AOh14GhuIO_HePT528k3iUgj6zbDTh-BGNnAqJlehJWi=s64",
      "userId": "02801971987668662503"
     },
     "user_tz": 180
    },
    "id": "uO8jfo9q28__",
    "outputId": "8eddea21-27e8-4e9f-b5ec-efe1b6eaa751"
   },
   "outputs": [
    {
     "data": {
      "text/plain": [
       "array(['id_23_IP_PROXY:ANONYMOUS', 'id_23_IP_PROXY:HIDDEN',\n",
       "       'id_23_IP_PROXY:TRANSPARENT', 'id_23_id_23_unknown'], dtype=object)"
      ]
     },
     "execution_count": 83,
     "metadata": {},
     "output_type": "execute_result"
    }
   ],
   "source": [
    "hot_encoder.get_feature_names_out()"
   ]
  },
  {
   "cell_type": "code",
   "execution_count": null,
   "metadata": {
    "id": "rIrxWah229AA"
   },
   "outputs": [],
   "source": [
    "x_train=x_train.join(pd.DataFrame(matrix.toarray(),columns=hot_encoder.get_feature_names_out(),index=x_train.index))\n",
    "del x_train['id_23']\n",
    "x_test=x_test.join(pd.DataFrame(hot_encoder.transform(x_test[['id_23']]).toarray(),columns=hot_encoder.get_feature_names_out(),index=x_test.index))\n",
    "del x_test['id_23']\n",
    "df_test=df_test.join(pd.DataFrame(hot_encoder.transform(df_test[['id_23']]).toarray(),columns=hot_encoder.get_feature_names_out(),index=df_test.index))\n",
    "del df_test['id_23']"
   ]
  },
  {
   "cell_type": "code",
   "execution_count": null,
   "metadata": {
    "id": "nkITOo_ENVvO"
   },
   "outputs": [],
   "source": [
    "# x_train=x_train.join(pd.get_dummies(x_train.pop('id_23')))\n",
    "# x_test=x_test.join(pd.get_dummies(x_test.pop('id_23')))\n",
    "# df_test=df_test.join(pd.get_dummies(df_test.pop('id_23')))"
   ]
  },
  {
   "cell_type": "code",
   "execution_count": null,
   "metadata": {
    "colab": {
     "base_uri": "https://localhost:8080/"
    },
    "executionInfo": {
     "elapsed": 405,
     "status": "ok",
     "timestamp": 1637935793176,
     "user": {
      "displayName": "Ángel Martín Veiga",
      "photoUrl": "https://lh3.googleusercontent.com/a-/AOh14GhuIO_HePT528k3iUgj6zbDTh-BGNnAqJlehJWi=s64",
      "userId": "02801971987668662503"
     },
     "user_tz": 180
    },
    "id": "o2efQxFXLGZs",
    "outputId": "8687dbf5-6af0-440a-b031-0afa32429b43"
   },
   "outputs": [
    {
     "data": {
      "text/plain": [
       "id_27_unknown    468159\n",
       "Found              4261\n",
       "NotFound             12\n",
       "Name: id_27, dtype: int64"
      ]
     },
     "execution_count": 86,
     "metadata": {},
     "output_type": "execute_result"
    }
   ],
   "source": [
    "x_train.id_27.value_counts()"
   ]
  },
  {
   "cell_type": "code",
   "execution_count": null,
   "metadata": {
    "id": "U_Dg7svoN-WZ"
   },
   "outputs": [],
   "source": [
    "x_train.id_27 = pd.Series(np.where(x_train.id_27.values == ('NotFound' or 'Found'), 1, 0), x_train.index)\n",
    "x_test.id_27 = pd.Series(np.where(x_test.id_27.values == ('NotFound' or 'Found'), 1, 0), x_test.index)\n",
    "df_test.id_27 = pd.Series(np.where(df_test.id_27.values == ('NotFound' or 'Found'), 1, 0), df_test.index)"
   ]
  },
  {
   "cell_type": "code",
   "execution_count": null,
   "metadata": {
    "colab": {
     "base_uri": "https://localhost:8080/"
    },
    "executionInfo": {
     "elapsed": 8,
     "status": "ok",
     "timestamp": 1637935793176,
     "user": {
      "displayName": "Ángel Martín Veiga",
      "photoUrl": "https://lh3.googleusercontent.com/a-/AOh14GhuIO_HePT528k3iUgj6zbDTh-BGNnAqJlehJWi=s64",
      "userId": "02801971987668662503"
     },
     "user_tz": 180
    },
    "id": "xUUxKm9YLIdX",
    "outputId": "9ea512fe-d21b-4b1d-8ee1-71548545f37f"
   },
   "outputs": [
    {
     "data": {
      "text/plain": [
       "id_28_unknown    354636\n",
       "Found             62843\n",
       "New               54953\n",
       "Name: id_28, dtype: int64"
      ]
     },
     "execution_count": 88,
     "metadata": {},
     "output_type": "execute_result"
    }
   ],
   "source": [
    "x_train.id_28.value_counts()"
   ]
  },
  {
   "cell_type": "code",
   "execution_count": null,
   "metadata": {
    "id": "symPg_SJOHrg"
   },
   "outputs": [],
   "source": [
    "x_train.id_28 = pd.Series(np.where(x_train.id_28.values == ('Found' or 'New'), 1, 0), x_train.index)\n",
    "x_test.id_28 = pd.Series(np.where(x_test.id_28.values == ('Found' or 'New'), 1, 0), x_test.index)\n",
    "df_test.id_28 = pd.Series(np.where(df_test.id_28.values == ('Found' or 'New'), 1, 0), df_test.index)"
   ]
  },
  {
   "cell_type": "code",
   "execution_count": null,
   "metadata": {
    "colab": {
     "base_uri": "https://localhost:8080/"
    },
    "executionInfo": {
     "elapsed": 321,
     "status": "ok",
     "timestamp": 1637935793493,
     "user": {
      "displayName": "Ángel Martín Veiga",
      "photoUrl": "https://lh3.googleusercontent.com/a-/AOh14GhuIO_HePT528k3iUgj6zbDTh-BGNnAqJlehJWi=s64",
      "userId": "02801971987668662503"
     },
     "user_tz": 180
    },
    "id": "ZjuBNLV6LLYp",
    "outputId": "b50c73ce-429d-4853-8fe5-a5c098b4b991"
   },
   "outputs": [
    {
     "data": {
      "text/plain": [
       "id_29_unknown    354636\n",
       "Found             61610\n",
       "NotFound          56186\n",
       "Name: id_29, dtype: int64"
      ]
     },
     "execution_count": 90,
     "metadata": {},
     "output_type": "execute_result"
    }
   ],
   "source": [
    "x_train.id_29.value_counts()"
   ]
  },
  {
   "cell_type": "code",
   "execution_count": null,
   "metadata": {
    "id": "lSXgLRYGORZo"
   },
   "outputs": [],
   "source": [
    "x_train.id_29 = pd.Series(np.where(x_train.id_29.values == ('NotFound' or 'Found'), 1, 0), x_train.index)\n",
    "x_test.id_29 = pd.Series(np.where(x_test.id_29.values == ('NotFound' or 'Found'), 1, 0), x_test.index)\n",
    "df_test.id_29 = pd.Series(np.where(df_test.id_29.values == ('NotFound' or 'Found'), 1, 0), df_test.index)"
   ]
  },
  {
   "cell_type": "code",
   "execution_count": null,
   "metadata": {
    "colab": {
     "base_uri": "https://localhost:8080/"
    },
    "executionInfo": {
     "elapsed": 10,
     "status": "ok",
     "timestamp": 1637935793494,
     "user": {
      "displayName": "Ángel Martín Veiga",
      "photoUrl": "https://lh3.googleusercontent.com/a-/AOh14GhuIO_HePT528k3iUgj6zbDTh-BGNnAqJlehJWi=s64",
      "userId": "02801971987668662503"
     },
     "user_tz": 180
    },
    "id": "qaFhirFTLNPi",
    "outputId": "e10daedc-0ef2-47bd-bc49-d085fb3031d7"
   },
   "outputs": [
    {
     "data": {
      "text/plain": [
       "id_30_unknown       406343\n",
       "Windows 10           17208\n",
       "Windows 7            11509\n",
       "iOS 11.1.2            3670\n",
       "iOS 11.2.1            3668\n",
       "                     ...  \n",
       "Mac OS X 10_12_2        29\n",
       "func                    10\n",
       "other                    9\n",
       "Windows                  3\n",
       "Mac OS X 10_13_5         1\n",
       "Name: id_30, Length: 73, dtype: int64"
      ]
     },
     "execution_count": 92,
     "metadata": {},
     "output_type": "execute_result"
    }
   ],
   "source": [
    "x_train.id_30.value_counts()"
   ]
  },
  {
   "cell_type": "code",
   "execution_count": null,
   "metadata": {
    "id": "of-MWvvDXD5U"
   },
   "outputs": [],
   "source": [
    "def change_name_if_not_in_list(item,list_,name_changer):\n",
    "  if not item in list_:\n",
    "    return name_changer\n",
    "  return item"
   ]
  },
  {
   "cell_type": "code",
   "execution_count": null,
   "metadata": {
    "id": "aeE3E_6fl0MX"
   },
   "outputs": [],
   "source": [
    "top_id_30_appearances = x_train.id_30.value_counts().index[:10]\n",
    "\n",
    "x_train['id_30']=x_train['id_30'].apply(lambda x: change_name_if_not_in_list(x,top_id_30_appearances,'others'))\n",
    "x_test['id_30']=x_test['id_30'].apply(lambda x: change_name_if_not_in_list(x,top_id_30_appearances,'others'))\n",
    "df_test['id_30']=df_test['id_30'].apply(lambda x: change_name_if_not_in_list(x,top_id_30_appearances,'others'))\n",
    "\n",
    "\n",
    "mean_encoded_id_30=x_train.groupby(['id_30'])['isFraud'].mean().to_dict()\n",
    "x_train['id_30'] = x_train['id_30'].map(mean_encoded_id_30)\n",
    "x_test['id_30'] = x_test['id_30'].map(mean_encoded_id_30)\n",
    "df_test['id_30'] = df_test['id_30'].map(mean_encoded_id_30)"
   ]
  },
  {
   "cell_type": "code",
   "execution_count": null,
   "metadata": {
    "colab": {
     "base_uri": "https://localhost:8080/"
    },
    "executionInfo": {
     "elapsed": 5,
     "status": "ok",
     "timestamp": 1637935794461,
     "user": {
      "displayName": "Ángel Martín Veiga",
      "photoUrl": "https://lh3.googleusercontent.com/a-/AOh14GhuIO_HePT528k3iUgj6zbDTh-BGNnAqJlehJWi=s64",
      "userId": "02801971987668662503"
     },
     "user_tz": 180
    },
    "id": "eFSnIpxjjp_e",
    "outputId": "a1ba486a-2112-4bd0-eb9b-94be038c4b59"
   },
   "outputs": [
    {
     "data": {
      "text/plain": [
       "id_31_unknown            354969\n",
       "chrome 63.0               21897\n",
       "mobile safari 11.0        11029\n",
       "mobile safari generic      9978\n",
       "ie 11.0 for desktop        7855\n",
       "                          ...  \n",
       "iron                          1\n",
       "LG/K-200                      1\n",
       "Samsung/SCH                   1\n",
       "BLU/Dash                      1\n",
       "Cherry                        1\n",
       "Name: id_31, Length: 111, dtype: int64"
      ]
     },
     "execution_count": 95,
     "metadata": {},
     "output_type": "execute_result"
    }
   ],
   "source": [
    "x_train.id_31.value_counts()"
   ]
  },
  {
   "cell_type": "code",
   "execution_count": null,
   "metadata": {
    "id": "D5m9E7SKOWij"
   },
   "outputs": [],
   "source": [
    "top_id_31_appearances = x_train.id_31.value_counts().index[:10]\n",
    "\n",
    "x_train['id_31']=x_train['id_31'].apply(lambda x: change_name_if_not_in_list(x,top_id_31_appearances,'others'))\n",
    "x_test['id_31']=x_test['id_31'].apply(lambda x: change_name_if_not_in_list(x,top_id_31_appearances,'others'))\n",
    "df_test['id_31']=df_test['id_31'].apply(lambda x: change_name_if_not_in_list(x,top_id_31_appearances,'others'))\n",
    "\n",
    "\n",
    "mean_encoded_id_31=x_train.groupby(['id_31'])['isFraud'].mean().to_dict()\n",
    "x_train['id_31'] = x_train['id_31'].map(mean_encoded_id_31)\n",
    "x_test['id_31'] = x_test['id_31'].map(mean_encoded_id_31)\n",
    "df_test['id_31'] = df_test['id_31'].map(mean_encoded_id_31)"
   ]
  },
  {
   "cell_type": "code",
   "execution_count": null,
   "metadata": {
    "colab": {
     "base_uri": "https://localhost:8080/"
    },
    "executionInfo": {
     "elapsed": 5,
     "status": "ok",
     "timestamp": 1637935795496,
     "user": {
      "displayName": "Ángel Martín Veiga",
      "photoUrl": "https://lh3.googleusercontent.com/a-/AOh14GhuIO_HePT528k3iUgj6zbDTh-BGNnAqJlehJWi=s64",
      "userId": "02801971987668662503"
     },
     "user_tz": 180
    },
    "id": "5Tlp0_oyLRtx",
    "outputId": "68292d08-0566-4d86-b5db-4adada3050f8"
   },
   "outputs": [
    {
     "data": {
      "text/plain": [
       "id_33_unknown    410619\n",
       "1920x1080         14460\n",
       "1366x768           6669\n",
       "1334x750           5602\n",
       "2208x1242          4166\n",
       "                  ...  \n",
       "2160x1439             1\n",
       "1366x1024             1\n",
       "1024x767              1\n",
       "2048x1080             1\n",
       "1200x720              1\n",
       "Name: id_33, Length: 213, dtype: int64"
      ]
     },
     "execution_count": 97,
     "metadata": {},
     "output_type": "execute_result"
    }
   ],
   "source": [
    "x_train.id_33.value_counts()"
   ]
  },
  {
   "cell_type": "markdown",
   "metadata": {
    "id": "KaGKxXaJRSuE"
   },
   "source": [
    "Esto lo podriamos pasar a unos valores numericos"
   ]
  },
  {
   "cell_type": "code",
   "execution_count": null,
   "metadata": {
    "id": "E7XXeHqgRVx8"
   },
   "outputs": [],
   "source": [
    "def replace_pixels_for_product(pixels):\n",
    "  if pixels == 'id_33_unknown': return 0\n",
    "  split_pixel=pixels.split(sep='x')\n",
    "  split_pixel = [int(i) for i in split_pixel]\n",
    "  prod_pixel = np.prod(split_pixel)\n",
    "  return prod_pixel"
   ]
  },
  {
   "cell_type": "code",
   "execution_count": null,
   "metadata": {
    "id": "yJeqtUJeTV_9"
   },
   "outputs": [],
   "source": [
    "x_train.id_33=x_train.id_33.apply(lambda x: replace_pixels_for_product(x))\n",
    "x_test.id_33=x_test.id_33.apply(lambda x: replace_pixels_for_product(x))\n",
    "df_test.id_33=df_test.id_33.apply(lambda x: replace_pixels_for_product(x))"
   ]
  },
  {
   "cell_type": "code",
   "execution_count": null,
   "metadata": {
    "colab": {
     "base_uri": "https://localhost:8080/"
    },
    "executionInfo": {
     "elapsed": 4,
     "status": "ok",
     "timestamp": 1637935797255,
     "user": {
      "displayName": "Ángel Martín Veiga",
      "photoUrl": "https://lh3.googleusercontent.com/a-/AOh14GhuIO_HePT528k3iUgj6zbDTh-BGNnAqJlehJWi=s64",
      "userId": "02801971987668662503"
     },
     "user_tz": 180
    },
    "id": "QIk9Zrj3LUvi",
    "outputId": "f7e83311-43dd-457c-ca60-595f482f8fb4"
   },
   "outputs": [
    {
     "data": {
      "text/plain": [
       "id_34_unknown      406268\n",
       "match_status:2      50098\n",
       "match_status:1      15675\n",
       "match_status:0        388\n",
       "match_status:-1         3\n",
       "Name: id_34, dtype: int64"
      ]
     },
     "execution_count": 100,
     "metadata": {},
     "output_type": "execute_result"
    }
   ],
   "source": [
    "x_train.id_34.value_counts()"
   ]
  },
  {
   "cell_type": "code",
   "execution_count": null,
   "metadata": {
    "id": "4z9tl-azUpQj"
   },
   "outputs": [],
   "source": [
    "x_train.id_34 = pd.Series(np.where(x_train.id_34.values == ('NotFound' or 'Found'), 1, 0), x_train.index)\n",
    "x_test.id_34 = pd.Series(np.where(x_test.id_34.values == ('NotFound' or 'Found'), 1, 0), x_test.index)\n",
    "df_test.id_34 = pd.Series(np.where(df_test.id_34.values == ('NotFound' or 'Found'), 1, 0), df_test.index)"
   ]
  },
  {
   "cell_type": "code",
   "execution_count": null,
   "metadata": {
    "colab": {
     "base_uri": "https://localhost:8080/"
    },
    "executionInfo": {
     "elapsed": 6,
     "status": "ok",
     "timestamp": 1637935797517,
     "user": {
      "displayName": "Ángel Martín Veiga",
      "photoUrl": "https://lh3.googleusercontent.com/a-/AOh14GhuIO_HePT528k3iUgj6zbDTh-BGNnAqJlehJWi=s64",
      "userId": "02801971987668662503"
     },
     "user_tz": 180
    },
    "id": "0NlNKcX3LXQX",
    "outputId": "78dfd542-3183-413c-e7e1-95391f10bec8"
   },
   "outputs": [
    {
     "data": {
      "text/plain": [
       "id_35_unknown    354636\n",
       "T                 66152\n",
       "F                 51644\n",
       "Name: id_35, dtype: int64"
      ]
     },
     "execution_count": 102,
     "metadata": {},
     "output_type": "execute_result"
    }
   ],
   "source": [
    "x_train.id_35.value_counts()"
   ]
  },
  {
   "cell_type": "code",
   "execution_count": null,
   "metadata": {
    "id": "KIAXLEi8UvcX"
   },
   "outputs": [],
   "source": [
    "x_train.id_35 = pd.Series(np.where(x_train.id_35.values == ('NotFound' or 'Found'), 1, 0), x_train.index)\n",
    "x_test.id_35 = pd.Series(np.where(x_test.id_35.values == ('NotFound' or 'Found'), 1, 0), x_test.index)\n",
    "df_test.id_35 = pd.Series(np.where(df_test.id_35.values == ('NotFound' or 'Found'), 1, 0), df_test.index)"
   ]
  },
  {
   "cell_type": "code",
   "execution_count": null,
   "metadata": {
    "colab": {
     "base_uri": "https://localhost:8080/"
    },
    "executionInfo": {
     "elapsed": 5,
     "status": "ok",
     "timestamp": 1637935797518,
     "user": {
      "displayName": "Ángel Martín Veiga",
      "photoUrl": "https://lh3.googleusercontent.com/a-/AOh14GhuIO_HePT528k3iUgj6zbDTh-BGNnAqJlehJWi=s64",
      "userId": "02801971987668662503"
     },
     "user_tz": 180
    },
    "id": "ulHY7CHTLZbb",
    "outputId": "39a97d64-e3e8-4ba3-e796-aeccde1bf5c1"
   },
   "outputs": [
    {
     "data": {
      "text/plain": [
       "id_36_unknown    354636\n",
       "F                111699\n",
       "T                  6097\n",
       "Name: id_36, dtype: int64"
      ]
     },
     "execution_count": 104,
     "metadata": {},
     "output_type": "execute_result"
    }
   ],
   "source": [
    "x_train.id_36.value_counts()"
   ]
  },
  {
   "cell_type": "code",
   "execution_count": null,
   "metadata": {
    "id": "GsUWysdmUzFh"
   },
   "outputs": [],
   "source": [
    "x_train.id_36 = pd.Series(np.where(x_train.id_36.values == ('NotFound' or 'Found'), 1, 0), x_train.index)\n",
    "x_test.id_36 = pd.Series(np.where(x_test.id_36.values == ('NotFound' or 'Found'), 1, 0), x_test.index)\n",
    "df_test.id_36 = pd.Series(np.where(df_test.id_36.values == ('NotFound' or 'Found'), 1, 0), df_test.index)"
   ]
  },
  {
   "cell_type": "code",
   "execution_count": null,
   "metadata": {
    "colab": {
     "base_uri": "https://localhost:8080/"
    },
    "executionInfo": {
     "elapsed": 6,
     "status": "ok",
     "timestamp": 1637935797768,
     "user": {
      "displayName": "Ángel Martín Veiga",
      "photoUrl": "https://lh3.googleusercontent.com/a-/AOh14GhuIO_HePT528k3iUgj6zbDTh-BGNnAqJlehJWi=s64",
      "userId": "02801971987668662503"
     },
     "user_tz": 180
    },
    "id": "7XKgkDn9LbeR",
    "outputId": "5ab32ca6-147c-485d-a8e4-0e7f4be9805a"
   },
   "outputs": [
    {
     "data": {
      "text/plain": [
       "id_37_unknown    354636\n",
       "T                 92073\n",
       "F                 25723\n",
       "Name: id_37, dtype: int64"
      ]
     },
     "execution_count": 106,
     "metadata": {},
     "output_type": "execute_result"
    }
   ],
   "source": [
    "x_train.id_37.value_counts()"
   ]
  },
  {
   "cell_type": "code",
   "execution_count": null,
   "metadata": {
    "id": "2B1vAujUU3Za"
   },
   "outputs": [],
   "source": [
    "x_train.id_37 = pd.Series(np.where(x_train.id_37.values == ('NotFound' or 'Found'), 1, 0), x_train.index)\n",
    "x_test.id_37 = pd.Series(np.where(x_test.id_37.values == ('NotFound' or 'Found'), 1, 0), x_test.index)\n",
    "df_test.id_37 = pd.Series(np.where(df_test.id_37.values == ('NotFound' or 'Found'), 1, 0), df_test.index)"
   ]
  },
  {
   "cell_type": "code",
   "execution_count": null,
   "metadata": {
    "colab": {
     "base_uri": "https://localhost:8080/"
    },
    "executionInfo": {
     "elapsed": 413,
     "status": "ok",
     "timestamp": 1637935798178,
     "user": {
      "displayName": "Ángel Martín Veiga",
      "photoUrl": "https://lh3.googleusercontent.com/a-/AOh14GhuIO_HePT528k3iUgj6zbDTh-BGNnAqJlehJWi=s64",
      "userId": "02801971987668662503"
     },
     "user_tz": 180
    },
    "id": "aPok2hDNLeUX",
    "outputId": "10d43320-6576-4c38-8ca1-e0cd94ebb14b"
   },
   "outputs": [
    {
     "data": {
      "text/plain": [
       "id_38_unknown    354636\n",
       "T                 60372\n",
       "F                 57424\n",
       "Name: id_38, dtype: int64"
      ]
     },
     "execution_count": 108,
     "metadata": {},
     "output_type": "execute_result"
    }
   ],
   "source": [
    "x_train.id_38.value_counts()"
   ]
  },
  {
   "cell_type": "code",
   "execution_count": null,
   "metadata": {
    "id": "WPUN6kTEU59z"
   },
   "outputs": [],
   "source": [
    "x_train.id_38 = pd.Series(np.where(x_train.id_38.values == ('NotFound' or 'Found'), 1, 0), x_train.index)\n",
    "x_test.id_38 = pd.Series(np.where(x_test.id_38.values == ('NotFound' or 'Found'), 1, 0), x_test.index)\n",
    "df_test.id_38 = pd.Series(np.where(df_test.id_38.values == ('NotFound' or 'Found'), 1, 0), df_test.index)"
   ]
  },
  {
   "cell_type": "markdown",
   "metadata": {
    "id": "cIOOXZmsuNN2"
   },
   "source": [
    "### Device Type"
   ]
  },
  {
   "cell_type": "code",
   "execution_count": null,
   "metadata": {
    "colab": {
     "base_uri": "https://localhost:8080/"
    },
    "executionInfo": {
     "elapsed": 13,
     "status": "ok",
     "timestamp": 1637935798179,
     "user": {
      "displayName": "Ángel Martín Veiga",
      "photoUrl": "https://lh3.googleusercontent.com/a-/AOh14GhuIO_HePT528k3iUgj6zbDTh-BGNnAqJlehJWi=s64",
      "userId": "02801971987668662503"
     },
     "user_tz": 180
    },
    "id": "42DQzVw3uTEb",
    "outputId": "b127c440-f98f-4fca-ea65-29e3981e67c0"
   },
   "outputs": [
    {
     "data": {
      "text/plain": [
       "DeviceType_unknown    354794\n",
       "desktop                71545\n",
       "mobile                 46093\n",
       "Name: DeviceType, dtype: int64"
      ]
     },
     "execution_count": 110,
     "metadata": {},
     "output_type": "execute_result"
    }
   ],
   "source": [
    "x_train.DeviceType.value_counts()"
   ]
  },
  {
   "cell_type": "code",
   "execution_count": null,
   "metadata": {
    "id": "WsnvZfMYFv8e"
   },
   "outputs": [],
   "source": [
    "# x_train=x_train.join(pd.get_dummies(x_train.pop('DeviceType')))\n",
    "# x_test=x_test.join(pd.get_dummies(x_test.pop('DeviceType')))\n",
    "# df_test=df_test.join(pd.get_dummies(df_test.pop('DeviceType')))"
   ]
  },
  {
   "cell_type": "code",
   "execution_count": null,
   "metadata": {
    "colab": {
     "base_uri": "https://localhost:8080/"
    },
    "executionInfo": {
     "elapsed": 1273,
     "status": "ok",
     "timestamp": 1637935799447,
     "user": {
      "displayName": "Ángel Martín Veiga",
      "photoUrl": "https://lh3.googleusercontent.com/a-/AOh14GhuIO_HePT528k3iUgj6zbDTh-BGNnAqJlehJWi=s64",
      "userId": "02801971987668662503"
     },
     "user_tz": 180
    },
    "id": "vf6cbGQf3Zz5",
    "outputId": "762533ac-46ee-4fd8-ca65-be9cb2948a18"
   },
   "outputs": [
    {
     "data": {
      "text/plain": [
       "array([[1., 0., 0.],\n",
       "       [1., 0., 0.],\n",
       "       [1., 0., 0.],\n",
       "       ...,\n",
       "       [0., 1., 0.],\n",
       "       [1., 0., 0.],\n",
       "       [1., 0., 0.]])"
      ]
     },
     "execution_count": 112,
     "metadata": {},
     "output_type": "execute_result"
    }
   ],
   "source": [
    "matrix = hot_encoder.fit_transform(x_train[['DeviceType']])\n",
    "matrix.toarray()"
   ]
  },
  {
   "cell_type": "code",
   "execution_count": null,
   "metadata": {
    "colab": {
     "base_uri": "https://localhost:8080/"
    },
    "executionInfo": {
     "elapsed": 6,
     "status": "ok",
     "timestamp": 1637935799448,
     "user": {
      "displayName": "Ángel Martín Veiga",
      "photoUrl": "https://lh3.googleusercontent.com/a-/AOh14GhuIO_HePT528k3iUgj6zbDTh-BGNnAqJlehJWi=s64",
      "userId": "02801971987668662503"
     },
     "user_tz": 180
    },
    "id": "Kri4_kh-3Zz5",
    "outputId": "c8a2dcc0-6834-4126-daa0-1ad00d4e70fe"
   },
   "outputs": [
    {
     "data": {
      "text/plain": [
       "array(['DeviceType_DeviceType_unknown', 'DeviceType_desktop',\n",
       "       'DeviceType_mobile'], dtype=object)"
      ]
     },
     "execution_count": 113,
     "metadata": {},
     "output_type": "execute_result"
    }
   ],
   "source": [
    "hot_encoder.get_feature_names_out()"
   ]
  },
  {
   "cell_type": "code",
   "execution_count": null,
   "metadata": {
    "id": "oIpXggO33Zz5"
   },
   "outputs": [],
   "source": [
    "x_train=x_train.join(pd.DataFrame(matrix.toarray(),columns=hot_encoder.get_feature_names_out(),index=x_train.index))\n",
    "del x_train['DeviceType']\n",
    "x_test=x_test.join(pd.DataFrame(hot_encoder.transform(x_test[['DeviceType']]).toarray(),columns=hot_encoder.get_feature_names_out(),index=x_test.index))\n",
    "del x_test['DeviceType']\n",
    "df_test=df_test.join(pd.DataFrame(hot_encoder.transform(df_test[['DeviceType']]).toarray(),columns=hot_encoder.get_feature_names_out(),index=df_test.index))\n",
    "del df_test['DeviceType']"
   ]
  },
  {
   "cell_type": "markdown",
   "metadata": {
    "id": "wGz5D640uVFa"
   },
   "source": [
    "### Device Info"
   ]
  },
  {
   "cell_type": "code",
   "execution_count": null,
   "metadata": {
    "colab": {
     "base_uri": "https://localhost:8080/"
    },
    "executionInfo": {
     "elapsed": 8,
     "status": "ok",
     "timestamp": 1637935804155,
     "user": {
      "displayName": "Ángel Martín Veiga",
      "photoUrl": "https://lh3.googleusercontent.com/a-/AOh14GhuIO_HePT528k3iUgj6zbDTh-BGNnAqJlehJWi=s64",
      "userId": "02801971987668662503"
     },
     "user_tz": 180
    },
    "id": "8DNL8tqGFoCL",
    "outputId": "d48b7db8-4bf2-44da-b8d4-09db2b22de71"
   },
   "outputs": [
    {
     "data": {
      "text/plain": [
       "DeviceInfo_unknown    372896\n",
       "Windows                39681\n",
       "iOS Device             17083\n",
       "MacOS                  10843\n",
       "Trident/7.0             6453\n",
       "                       ...  \n",
       "LGL163BL                   1\n",
       "G25524K                    1\n",
       "GT-I8190N                  1\n",
       "SENS                       1\n",
       "GRACE                      1\n",
       "Name: DeviceInfo, Length: 1640, dtype: int64"
      ]
     },
     "execution_count": 115,
     "metadata": {},
     "output_type": "execute_result"
    }
   ],
   "source": [
    "x_train.DeviceInfo.value_counts()"
   ]
  },
  {
   "cell_type": "code",
   "execution_count": null,
   "metadata": {
    "id": "Y7QkuzPVmeoA"
   },
   "outputs": [],
   "source": [
    "top_DeviceInfo_appearances = x_train.DeviceInfo.value_counts().index[:10]\n",
    "\n",
    "x_train['DeviceInfo']=x_train['DeviceInfo'].apply(lambda x: change_name_if_not_in_list(x,top_DeviceInfo_appearances,'others'))\n",
    "x_test['DeviceInfo']=x_test['DeviceInfo'].apply(lambda x: change_name_if_not_in_list(x,top_DeviceInfo_appearances,'others'))\n",
    "df_test['DeviceInfo']=df_test['DeviceInfo'].apply(lambda x: change_name_if_not_in_list(x,top_DeviceInfo_appearances,'others'))\n",
    "\n",
    "\n",
    "mean_encoded_DeviceInfo=x_train.groupby(['DeviceInfo'])['isFraud'].mean().to_dict()\n",
    "x_train['DeviceInfo'] = x_train['DeviceInfo'].map(mean_encoded_DeviceInfo)\n",
    "x_test['DeviceInfo'] = x_test['DeviceInfo'].map(mean_encoded_DeviceInfo)\n",
    "df_test['DeviceInfo'] = df_test['DeviceInfo'].map(mean_encoded_DeviceInfo)"
   ]
  },
  {
   "cell_type": "markdown",
   "metadata": {
    "id": "FpcBbMnFaSmw"
   },
   "source": [
    "## Pequeño chequeo de datasets correctos"
   ]
  },
  {
   "cell_type": "code",
   "execution_count": null,
   "metadata": {
    "id": "c4nkZ-zCVPKD"
   },
   "outputs": [],
   "source": [
    "del x_train['TransactionDT']\n",
    "x_train.to_csv('/content/drive/MyDrive/2021-2C/ORGANIZACION DE DATOS (7506)/TPs/TP3/ieee-fraud-detection/x_train_isFraud.csv',index=False)\n",
    "del x_train['isFraud']"
   ]
  },
  {
   "cell_type": "code",
   "execution_count": null,
   "metadata": {
    "colab": {
     "base_uri": "https://localhost:8080/",
     "height": 273
    },
    "executionInfo": {
     "elapsed": 15,
     "status": "ok",
     "timestamp": 1637936007286,
     "user": {
      "displayName": "Ángel Martín Veiga",
      "photoUrl": "https://lh3.googleusercontent.com/a-/AOh14GhuIO_HePT528k3iUgj6zbDTh-BGNnAqJlehJWi=s64",
      "userId": "02801971987668662503"
     },
     "user_tz": 180
    },
    "id": "bUU7z1O8aWPB",
    "outputId": "55c1f4bb-19c2-463a-851a-a06d45d7817a"
   },
   "outputs": [
    {
     "data": {
      "text/html": [
       "<div>\n",
       "<style scoped>\n",
       "    .dataframe tbody tr th:only-of-type {\n",
       "        vertical-align: middle;\n",
       "    }\n",
       "\n",
       "    .dataframe tbody tr th {\n",
       "        vertical-align: top;\n",
       "    }\n",
       "\n",
       "    .dataframe thead th {\n",
       "        text-align: right;\n",
       "    }\n",
       "</style>\n",
       "<table border=\"1\" class=\"dataframe\">\n",
       "  <thead>\n",
       "    <tr style=\"text-align: right;\">\n",
       "      <th></th>\n",
       "      <th>TransactionAmt</th>\n",
       "      <th>card1</th>\n",
       "      <th>card2</th>\n",
       "      <th>card3</th>\n",
       "      <th>card5</th>\n",
       "      <th>addr1</th>\n",
       "      <th>addr2</th>\n",
       "      <th>dist1</th>\n",
       "      <th>dist2</th>\n",
       "      <th>C1</th>\n",
       "      <th>C2</th>\n",
       "      <th>C3</th>\n",
       "      <th>C4</th>\n",
       "      <th>C5</th>\n",
       "      <th>C6</th>\n",
       "      <th>C7</th>\n",
       "      <th>C8</th>\n",
       "      <th>C9</th>\n",
       "      <th>C10</th>\n",
       "      <th>C11</th>\n",
       "      <th>C12</th>\n",
       "      <th>C13</th>\n",
       "      <th>C14</th>\n",
       "      <th>D1</th>\n",
       "      <th>D2</th>\n",
       "      <th>D3</th>\n",
       "      <th>D4</th>\n",
       "      <th>D5</th>\n",
       "      <th>D6</th>\n",
       "      <th>D7</th>\n",
       "      <th>D8</th>\n",
       "      <th>D9</th>\n",
       "      <th>D10</th>\n",
       "      <th>D11</th>\n",
       "      <th>D12</th>\n",
       "      <th>D13</th>\n",
       "      <th>D14</th>\n",
       "      <th>D15</th>\n",
       "      <th>M1</th>\n",
       "      <th>M2</th>\n",
       "      <th>...</th>\n",
       "      <th>net_R_emaildomain</th>\n",
       "      <th>mx_R_emaildomain</th>\n",
       "      <th>comcast_R_emaildomain</th>\n",
       "      <th>live_R_emaildomain</th>\n",
       "      <th>icloud_R_emaildomain</th>\n",
       "      <th>yahoo_R_emaildomain</th>\n",
       "      <th>aol_R_emaildomain</th>\n",
       "      <th>verizon_R_emaildomain</th>\n",
       "      <th>es</th>\n",
       "      <th>msn_R_emaildomain</th>\n",
       "      <th>de</th>\n",
       "      <th>me_R_emaildomain</th>\n",
       "      <th>cox</th>\n",
       "      <th>sbcglobal_R_emaildomain</th>\n",
       "      <th>ProductCD_C</th>\n",
       "      <th>ProductCD_H</th>\n",
       "      <th>ProductCD_R</th>\n",
       "      <th>ProductCD_S</th>\n",
       "      <th>ProductCD_W</th>\n",
       "      <th>card4_american express</th>\n",
       "      <th>card4_card4_unknown</th>\n",
       "      <th>card4_discover</th>\n",
       "      <th>card4_mastercard</th>\n",
       "      <th>card4_visa</th>\n",
       "      <th>card6_card6_unknown</th>\n",
       "      <th>card6_charge card</th>\n",
       "      <th>card6_credit</th>\n",
       "      <th>card6_debit</th>\n",
       "      <th>card6_debit or credit</th>\n",
       "      <th>M4_M0</th>\n",
       "      <th>M4_M1</th>\n",
       "      <th>M4_M2</th>\n",
       "      <th>M4_M4_unknown</th>\n",
       "      <th>id_23_IP_PROXY:ANONYMOUS</th>\n",
       "      <th>id_23_IP_PROXY:HIDDEN</th>\n",
       "      <th>id_23_IP_PROXY:TRANSPARENT</th>\n",
       "      <th>id_23_id_23_unknown</th>\n",
       "      <th>DeviceType_DeviceType_unknown</th>\n",
       "      <th>DeviceType_desktop</th>\n",
       "      <th>DeviceType_mobile</th>\n",
       "    </tr>\n",
       "  </thead>\n",
       "  <tbody>\n",
       "    <tr>\n",
       "      <th>0</th>\n",
       "      <td>68.5</td>\n",
       "      <td>13926</td>\n",
       "      <td>0.0</td>\n",
       "      <td>150.0</td>\n",
       "      <td>142.0</td>\n",
       "      <td>315.0</td>\n",
       "      <td>87.0</td>\n",
       "      <td>19.0</td>\n",
       "      <td>0.0</td>\n",
       "      <td>1.0</td>\n",
       "      <td>1.0</td>\n",
       "      <td>0.0</td>\n",
       "      <td>0.0</td>\n",
       "      <td>0.0</td>\n",
       "      <td>1.0</td>\n",
       "      <td>0.0</td>\n",
       "      <td>0.0</td>\n",
       "      <td>1.0</td>\n",
       "      <td>0.0</td>\n",
       "      <td>2.0</td>\n",
       "      <td>0.0</td>\n",
       "      <td>1.0</td>\n",
       "      <td>1.0</td>\n",
       "      <td>14.0</td>\n",
       "      <td>0.0</td>\n",
       "      <td>13.0</td>\n",
       "      <td>0.0</td>\n",
       "      <td>0.0</td>\n",
       "      <td>0.0</td>\n",
       "      <td>0.0</td>\n",
       "      <td>0.0</td>\n",
       "      <td>0.0</td>\n",
       "      <td>13.0</td>\n",
       "      <td>13.0</td>\n",
       "      <td>0.0</td>\n",
       "      <td>0.0</td>\n",
       "      <td>0.0</td>\n",
       "      <td>0.0</td>\n",
       "      <td>1</td>\n",
       "      <td>1</td>\n",
       "      <td>...</td>\n",
       "      <td>0</td>\n",
       "      <td>0</td>\n",
       "      <td>0</td>\n",
       "      <td>0</td>\n",
       "      <td>0</td>\n",
       "      <td>0</td>\n",
       "      <td>0</td>\n",
       "      <td>0</td>\n",
       "      <td>0</td>\n",
       "      <td>0</td>\n",
       "      <td>1</td>\n",
       "      <td>0</td>\n",
       "      <td>0</td>\n",
       "      <td>0</td>\n",
       "      <td>0.0</td>\n",
       "      <td>0.0</td>\n",
       "      <td>0.0</td>\n",
       "      <td>0.0</td>\n",
       "      <td>1.0</td>\n",
       "      <td>0.0</td>\n",
       "      <td>0.0</td>\n",
       "      <td>1.0</td>\n",
       "      <td>0.0</td>\n",
       "      <td>0.0</td>\n",
       "      <td>0.0</td>\n",
       "      <td>0.0</td>\n",
       "      <td>1.0</td>\n",
       "      <td>0.0</td>\n",
       "      <td>0.0</td>\n",
       "      <td>0.0</td>\n",
       "      <td>0.0</td>\n",
       "      <td>1.0</td>\n",
       "      <td>0.0</td>\n",
       "      <td>0.0</td>\n",
       "      <td>0.0</td>\n",
       "      <td>0.0</td>\n",
       "      <td>1.0</td>\n",
       "      <td>1.0</td>\n",
       "      <td>0.0</td>\n",
       "      <td>0.0</td>\n",
       "    </tr>\n",
       "    <tr>\n",
       "      <th>1</th>\n",
       "      <td>29.0</td>\n",
       "      <td>2755</td>\n",
       "      <td>404.0</td>\n",
       "      <td>150.0</td>\n",
       "      <td>102.0</td>\n",
       "      <td>325.0</td>\n",
       "      <td>87.0</td>\n",
       "      <td>0.0</td>\n",
       "      <td>0.0</td>\n",
       "      <td>1.0</td>\n",
       "      <td>1.0</td>\n",
       "      <td>0.0</td>\n",
       "      <td>0.0</td>\n",
       "      <td>0.0</td>\n",
       "      <td>1.0</td>\n",
       "      <td>0.0</td>\n",
       "      <td>0.0</td>\n",
       "      <td>0.0</td>\n",
       "      <td>0.0</td>\n",
       "      <td>1.0</td>\n",
       "      <td>0.0</td>\n",
       "      <td>1.0</td>\n",
       "      <td>1.0</td>\n",
       "      <td>0.0</td>\n",
       "      <td>0.0</td>\n",
       "      <td>0.0</td>\n",
       "      <td>0.0</td>\n",
       "      <td>0.0</td>\n",
       "      <td>0.0</td>\n",
       "      <td>0.0</td>\n",
       "      <td>0.0</td>\n",
       "      <td>0.0</td>\n",
       "      <td>0.0</td>\n",
       "      <td>0.0</td>\n",
       "      <td>0.0</td>\n",
       "      <td>0.0</td>\n",
       "      <td>0.0</td>\n",
       "      <td>0.0</td>\n",
       "      <td>0</td>\n",
       "      <td>0</td>\n",
       "      <td>...</td>\n",
       "      <td>0</td>\n",
       "      <td>0</td>\n",
       "      <td>0</td>\n",
       "      <td>0</td>\n",
       "      <td>0</td>\n",
       "      <td>0</td>\n",
       "      <td>0</td>\n",
       "      <td>0</td>\n",
       "      <td>0</td>\n",
       "      <td>0</td>\n",
       "      <td>1</td>\n",
       "      <td>0</td>\n",
       "      <td>0</td>\n",
       "      <td>0</td>\n",
       "      <td>0.0</td>\n",
       "      <td>0.0</td>\n",
       "      <td>0.0</td>\n",
       "      <td>0.0</td>\n",
       "      <td>1.0</td>\n",
       "      <td>0.0</td>\n",
       "      <td>0.0</td>\n",
       "      <td>0.0</td>\n",
       "      <td>1.0</td>\n",
       "      <td>0.0</td>\n",
       "      <td>0.0</td>\n",
       "      <td>0.0</td>\n",
       "      <td>1.0</td>\n",
       "      <td>0.0</td>\n",
       "      <td>0.0</td>\n",
       "      <td>1.0</td>\n",
       "      <td>0.0</td>\n",
       "      <td>0.0</td>\n",
       "      <td>0.0</td>\n",
       "      <td>0.0</td>\n",
       "      <td>0.0</td>\n",
       "      <td>0.0</td>\n",
       "      <td>1.0</td>\n",
       "      <td>1.0</td>\n",
       "      <td>0.0</td>\n",
       "      <td>0.0</td>\n",
       "    </tr>\n",
       "    <tr>\n",
       "      <th>2</th>\n",
       "      <td>59.0</td>\n",
       "      <td>4663</td>\n",
       "      <td>490.0</td>\n",
       "      <td>150.0</td>\n",
       "      <td>166.0</td>\n",
       "      <td>330.0</td>\n",
       "      <td>87.0</td>\n",
       "      <td>287.0</td>\n",
       "      <td>0.0</td>\n",
       "      <td>1.0</td>\n",
       "      <td>1.0</td>\n",
       "      <td>0.0</td>\n",
       "      <td>0.0</td>\n",
       "      <td>0.0</td>\n",
       "      <td>1.0</td>\n",
       "      <td>0.0</td>\n",
       "      <td>0.0</td>\n",
       "      <td>1.0</td>\n",
       "      <td>0.0</td>\n",
       "      <td>1.0</td>\n",
       "      <td>0.0</td>\n",
       "      <td>1.0</td>\n",
       "      <td>1.0</td>\n",
       "      <td>0.0</td>\n",
       "      <td>0.0</td>\n",
       "      <td>0.0</td>\n",
       "      <td>0.0</td>\n",
       "      <td>0.0</td>\n",
       "      <td>0.0</td>\n",
       "      <td>0.0</td>\n",
       "      <td>0.0</td>\n",
       "      <td>0.0</td>\n",
       "      <td>0.0</td>\n",
       "      <td>315.0</td>\n",
       "      <td>0.0</td>\n",
       "      <td>0.0</td>\n",
       "      <td>0.0</td>\n",
       "      <td>315.0</td>\n",
       "      <td>1</td>\n",
       "      <td>1</td>\n",
       "      <td>...</td>\n",
       "      <td>0</td>\n",
       "      <td>0</td>\n",
       "      <td>0</td>\n",
       "      <td>0</td>\n",
       "      <td>0</td>\n",
       "      <td>0</td>\n",
       "      <td>0</td>\n",
       "      <td>0</td>\n",
       "      <td>0</td>\n",
       "      <td>0</td>\n",
       "      <td>1</td>\n",
       "      <td>0</td>\n",
       "      <td>0</td>\n",
       "      <td>0</td>\n",
       "      <td>0.0</td>\n",
       "      <td>0.0</td>\n",
       "      <td>0.0</td>\n",
       "      <td>0.0</td>\n",
       "      <td>1.0</td>\n",
       "      <td>0.0</td>\n",
       "      <td>0.0</td>\n",
       "      <td>0.0</td>\n",
       "      <td>0.0</td>\n",
       "      <td>1.0</td>\n",
       "      <td>0.0</td>\n",
       "      <td>0.0</td>\n",
       "      <td>0.0</td>\n",
       "      <td>1.0</td>\n",
       "      <td>0.0</td>\n",
       "      <td>1.0</td>\n",
       "      <td>0.0</td>\n",
       "      <td>0.0</td>\n",
       "      <td>0.0</td>\n",
       "      <td>0.0</td>\n",
       "      <td>0.0</td>\n",
       "      <td>0.0</td>\n",
       "      <td>1.0</td>\n",
       "      <td>1.0</td>\n",
       "      <td>0.0</td>\n",
       "      <td>0.0</td>\n",
       "    </tr>\n",
       "    <tr>\n",
       "      <th>3</th>\n",
       "      <td>50.0</td>\n",
       "      <td>18132</td>\n",
       "      <td>567.0</td>\n",
       "      <td>150.0</td>\n",
       "      <td>117.0</td>\n",
       "      <td>476.0</td>\n",
       "      <td>87.0</td>\n",
       "      <td>0.0</td>\n",
       "      <td>0.0</td>\n",
       "      <td>2.0</td>\n",
       "      <td>5.0</td>\n",
       "      <td>0.0</td>\n",
       "      <td>0.0</td>\n",
       "      <td>0.0</td>\n",
       "      <td>4.0</td>\n",
       "      <td>0.0</td>\n",
       "      <td>0.0</td>\n",
       "      <td>1.0</td>\n",
       "      <td>0.0</td>\n",
       "      <td>1.0</td>\n",
       "      <td>0.0</td>\n",
       "      <td>25.0</td>\n",
       "      <td>1.0</td>\n",
       "      <td>112.0</td>\n",
       "      <td>112.0</td>\n",
       "      <td>0.0</td>\n",
       "      <td>94.0</td>\n",
       "      <td>0.0</td>\n",
       "      <td>0.0</td>\n",
       "      <td>0.0</td>\n",
       "      <td>0.0</td>\n",
       "      <td>0.0</td>\n",
       "      <td>84.0</td>\n",
       "      <td>0.0</td>\n",
       "      <td>0.0</td>\n",
       "      <td>0.0</td>\n",
       "      <td>0.0</td>\n",
       "      <td>111.0</td>\n",
       "      <td>0</td>\n",
       "      <td>0</td>\n",
       "      <td>...</td>\n",
       "      <td>0</td>\n",
       "      <td>0</td>\n",
       "      <td>0</td>\n",
       "      <td>0</td>\n",
       "      <td>0</td>\n",
       "      <td>0</td>\n",
       "      <td>0</td>\n",
       "      <td>0</td>\n",
       "      <td>0</td>\n",
       "      <td>0</td>\n",
       "      <td>1</td>\n",
       "      <td>0</td>\n",
       "      <td>0</td>\n",
       "      <td>0</td>\n",
       "      <td>0.0</td>\n",
       "      <td>0.0</td>\n",
       "      <td>0.0</td>\n",
       "      <td>0.0</td>\n",
       "      <td>1.0</td>\n",
       "      <td>0.0</td>\n",
       "      <td>0.0</td>\n",
       "      <td>0.0</td>\n",
       "      <td>1.0</td>\n",
       "      <td>0.0</td>\n",
       "      <td>0.0</td>\n",
       "      <td>0.0</td>\n",
       "      <td>0.0</td>\n",
       "      <td>1.0</td>\n",
       "      <td>0.0</td>\n",
       "      <td>1.0</td>\n",
       "      <td>0.0</td>\n",
       "      <td>0.0</td>\n",
       "      <td>0.0</td>\n",
       "      <td>0.0</td>\n",
       "      <td>0.0</td>\n",
       "      <td>0.0</td>\n",
       "      <td>1.0</td>\n",
       "      <td>1.0</td>\n",
       "      <td>0.0</td>\n",
       "      <td>0.0</td>\n",
       "    </tr>\n",
       "    <tr>\n",
       "      <th>4</th>\n",
       "      <td>50.0</td>\n",
       "      <td>4497</td>\n",
       "      <td>514.0</td>\n",
       "      <td>150.0</td>\n",
       "      <td>102.0</td>\n",
       "      <td>420.0</td>\n",
       "      <td>87.0</td>\n",
       "      <td>0.0</td>\n",
       "      <td>0.0</td>\n",
       "      <td>1.0</td>\n",
       "      <td>1.0</td>\n",
       "      <td>0.0</td>\n",
       "      <td>0.0</td>\n",
       "      <td>0.0</td>\n",
       "      <td>1.0</td>\n",
       "      <td>0.0</td>\n",
       "      <td>1.0</td>\n",
       "      <td>0.0</td>\n",
       "      <td>1.0</td>\n",
       "      <td>1.0</td>\n",
       "      <td>0.0</td>\n",
       "      <td>1.0</td>\n",
       "      <td>1.0</td>\n",
       "      <td>0.0</td>\n",
       "      <td>0.0</td>\n",
       "      <td>0.0</td>\n",
       "      <td>0.0</td>\n",
       "      <td>0.0</td>\n",
       "      <td>0.0</td>\n",
       "      <td>0.0</td>\n",
       "      <td>0.0</td>\n",
       "      <td>0.0</td>\n",
       "      <td>0.0</td>\n",
       "      <td>0.0</td>\n",
       "      <td>0.0</td>\n",
       "      <td>0.0</td>\n",
       "      <td>0.0</td>\n",
       "      <td>0.0</td>\n",
       "      <td>0</td>\n",
       "      <td>0</td>\n",
       "      <td>...</td>\n",
       "      <td>0</td>\n",
       "      <td>0</td>\n",
       "      <td>0</td>\n",
       "      <td>0</td>\n",
       "      <td>0</td>\n",
       "      <td>0</td>\n",
       "      <td>0</td>\n",
       "      <td>0</td>\n",
       "      <td>0</td>\n",
       "      <td>0</td>\n",
       "      <td>1</td>\n",
       "      <td>0</td>\n",
       "      <td>0</td>\n",
       "      <td>0</td>\n",
       "      <td>0.0</td>\n",
       "      <td>1.0</td>\n",
       "      <td>0.0</td>\n",
       "      <td>0.0</td>\n",
       "      <td>0.0</td>\n",
       "      <td>0.0</td>\n",
       "      <td>0.0</td>\n",
       "      <td>0.0</td>\n",
       "      <td>1.0</td>\n",
       "      <td>0.0</td>\n",
       "      <td>0.0</td>\n",
       "      <td>0.0</td>\n",
       "      <td>1.0</td>\n",
       "      <td>0.0</td>\n",
       "      <td>0.0</td>\n",
       "      <td>0.0</td>\n",
       "      <td>0.0</td>\n",
       "      <td>0.0</td>\n",
       "      <td>1.0</td>\n",
       "      <td>0.0</td>\n",
       "      <td>0.0</td>\n",
       "      <td>0.0</td>\n",
       "      <td>1.0</td>\n",
       "      <td>0.0</td>\n",
       "      <td>0.0</td>\n",
       "      <td>1.0</td>\n",
       "    </tr>\n",
       "  </tbody>\n",
       "</table>\n",
       "<p>5 rows × 489 columns</p>\n",
       "</div>"
      ],
      "text/plain": [
       "   TransactionAmt  card1  ...  DeviceType_desktop  DeviceType_mobile\n",
       "0            68.5  13926  ...                 0.0                0.0\n",
       "1            29.0   2755  ...                 0.0                0.0\n",
       "2            59.0   4663  ...                 0.0                0.0\n",
       "3            50.0  18132  ...                 0.0                0.0\n",
       "4            50.0   4497  ...                 0.0                1.0\n",
       "\n",
       "[5 rows x 489 columns]"
      ]
     },
     "execution_count": 118,
     "metadata": {},
     "output_type": "execute_result"
    }
   ],
   "source": [
    "x_train.head()"
   ]
  },
  {
   "cell_type": "code",
   "execution_count": null,
   "metadata": {
    "colab": {
     "base_uri": "https://localhost:8080/"
    },
    "executionInfo": {
     "elapsed": 1959,
     "status": "ok",
     "timestamp": 1637936009234,
     "user": {
      "displayName": "Ángel Martín Veiga",
      "photoUrl": "https://lh3.googleusercontent.com/a-/AOh14GhuIO_HePT528k3iUgj6zbDTh-BGNnAqJlehJWi=s64",
      "userId": "02801971987668662503"
     },
     "user_tz": 180
    },
    "id": "ZJH7F4Leg2Gc",
    "outputId": "0f084697-e401-4d89-b773-dad3c0a6ef18"
   },
   "outputs": [
    {
     "data": {
      "text/plain": [
       "0"
      ]
     },
     "execution_count": 119,
     "metadata": {},
     "output_type": "execute_result"
    }
   ],
   "source": [
    "x_train.isnull().sum().sum()"
   ]
  },
  {
   "cell_type": "code",
   "execution_count": null,
   "metadata": {
    "id": "LbgzQZTa6bqS"
   },
   "outputs": [],
   "source": [
    "del x_test['TransactionDT']\n",
    "del x_test['isFraud']\n",
    "x_test = x_test[x_train.columns]"
   ]
  },
  {
   "cell_type": "code",
   "execution_count": null,
   "metadata": {
    "colab": {
     "base_uri": "https://localhost:8080/",
     "height": 273
    },
    "executionInfo": {
     "elapsed": 419,
     "status": "ok",
     "timestamp": 1637936010493,
     "user": {
      "displayName": "Ángel Martín Veiga",
      "photoUrl": "https://lh3.googleusercontent.com/a-/AOh14GhuIO_HePT528k3iUgj6zbDTh-BGNnAqJlehJWi=s64",
      "userId": "02801971987668662503"
     },
     "user_tz": 180
    },
    "id": "bJUY7aMDacJK",
    "outputId": "03847b9a-4df9-45aa-9749-b324e2f5d408"
   },
   "outputs": [
    {
     "data": {
      "text/html": [
       "<div>\n",
       "<style scoped>\n",
       "    .dataframe tbody tr th:only-of-type {\n",
       "        vertical-align: middle;\n",
       "    }\n",
       "\n",
       "    .dataframe tbody tr th {\n",
       "        vertical-align: top;\n",
       "    }\n",
       "\n",
       "    .dataframe thead th {\n",
       "        text-align: right;\n",
       "    }\n",
       "</style>\n",
       "<table border=\"1\" class=\"dataframe\">\n",
       "  <thead>\n",
       "    <tr style=\"text-align: right;\">\n",
       "      <th></th>\n",
       "      <th>TransactionAmt</th>\n",
       "      <th>card1</th>\n",
       "      <th>card2</th>\n",
       "      <th>card3</th>\n",
       "      <th>card5</th>\n",
       "      <th>addr1</th>\n",
       "      <th>addr2</th>\n",
       "      <th>dist1</th>\n",
       "      <th>dist2</th>\n",
       "      <th>C1</th>\n",
       "      <th>C2</th>\n",
       "      <th>C3</th>\n",
       "      <th>C4</th>\n",
       "      <th>C5</th>\n",
       "      <th>C6</th>\n",
       "      <th>C7</th>\n",
       "      <th>C8</th>\n",
       "      <th>C9</th>\n",
       "      <th>C10</th>\n",
       "      <th>C11</th>\n",
       "      <th>C12</th>\n",
       "      <th>C13</th>\n",
       "      <th>C14</th>\n",
       "      <th>D1</th>\n",
       "      <th>D2</th>\n",
       "      <th>D3</th>\n",
       "      <th>D4</th>\n",
       "      <th>D5</th>\n",
       "      <th>D6</th>\n",
       "      <th>D7</th>\n",
       "      <th>D8</th>\n",
       "      <th>D9</th>\n",
       "      <th>D10</th>\n",
       "      <th>D11</th>\n",
       "      <th>D12</th>\n",
       "      <th>D13</th>\n",
       "      <th>D14</th>\n",
       "      <th>D15</th>\n",
       "      <th>M1</th>\n",
       "      <th>M2</th>\n",
       "      <th>...</th>\n",
       "      <th>net_R_emaildomain</th>\n",
       "      <th>mx_R_emaildomain</th>\n",
       "      <th>comcast_R_emaildomain</th>\n",
       "      <th>live_R_emaildomain</th>\n",
       "      <th>icloud_R_emaildomain</th>\n",
       "      <th>yahoo_R_emaildomain</th>\n",
       "      <th>aol_R_emaildomain</th>\n",
       "      <th>verizon_R_emaildomain</th>\n",
       "      <th>es</th>\n",
       "      <th>msn_R_emaildomain</th>\n",
       "      <th>de</th>\n",
       "      <th>me_R_emaildomain</th>\n",
       "      <th>cox</th>\n",
       "      <th>sbcglobal_R_emaildomain</th>\n",
       "      <th>ProductCD_C</th>\n",
       "      <th>ProductCD_H</th>\n",
       "      <th>ProductCD_R</th>\n",
       "      <th>ProductCD_S</th>\n",
       "      <th>ProductCD_W</th>\n",
       "      <th>card4_american express</th>\n",
       "      <th>card4_card4_unknown</th>\n",
       "      <th>card4_discover</th>\n",
       "      <th>card4_mastercard</th>\n",
       "      <th>card4_visa</th>\n",
       "      <th>card6_card6_unknown</th>\n",
       "      <th>card6_charge card</th>\n",
       "      <th>card6_credit</th>\n",
       "      <th>card6_debit</th>\n",
       "      <th>card6_debit or credit</th>\n",
       "      <th>M4_M0</th>\n",
       "      <th>M4_M1</th>\n",
       "      <th>M4_M2</th>\n",
       "      <th>M4_M4_unknown</th>\n",
       "      <th>id_23_IP_PROXY:ANONYMOUS</th>\n",
       "      <th>id_23_IP_PROXY:HIDDEN</th>\n",
       "      <th>id_23_IP_PROXY:TRANSPARENT</th>\n",
       "      <th>id_23_id_23_unknown</th>\n",
       "      <th>DeviceType_DeviceType_unknown</th>\n",
       "      <th>DeviceType_desktop</th>\n",
       "      <th>DeviceType_mobile</th>\n",
       "    </tr>\n",
       "  </thead>\n",
       "  <tbody>\n",
       "    <tr>\n",
       "      <th>472432</th>\n",
       "      <td>33.261</td>\n",
       "      <td>9300</td>\n",
       "      <td>103.0</td>\n",
       "      <td>185.0</td>\n",
       "      <td>138.0</td>\n",
       "      <td>0.0</td>\n",
       "      <td>0.0</td>\n",
       "      <td>0.0</td>\n",
       "      <td>0.0</td>\n",
       "      <td>1.0</td>\n",
       "      <td>1.0</td>\n",
       "      <td>0.0</td>\n",
       "      <td>1.0</td>\n",
       "      <td>0.0</td>\n",
       "      <td>1.0</td>\n",
       "      <td>1.0</td>\n",
       "      <td>1.0</td>\n",
       "      <td>0.0</td>\n",
       "      <td>1.0</td>\n",
       "      <td>1.0</td>\n",
       "      <td>1.0</td>\n",
       "      <td>1.0</td>\n",
       "      <td>1.0</td>\n",
       "      <td>0.0</td>\n",
       "      <td>0.0</td>\n",
       "      <td>0.0</td>\n",
       "      <td>0.0</td>\n",
       "      <td>0.0</td>\n",
       "      <td>0.0</td>\n",
       "      <td>0.0</td>\n",
       "      <td>0.000000</td>\n",
       "      <td>0.000000</td>\n",
       "      <td>0.0</td>\n",
       "      <td>0.0</td>\n",
       "      <td>0.0</td>\n",
       "      <td>0.0</td>\n",
       "      <td>0.0</td>\n",
       "      <td>0.0</td>\n",
       "      <td>0</td>\n",
       "      <td>0</td>\n",
       "      <td>...</td>\n",
       "      <td>0</td>\n",
       "      <td>1</td>\n",
       "      <td>0</td>\n",
       "      <td>0</td>\n",
       "      <td>0</td>\n",
       "      <td>0</td>\n",
       "      <td>0</td>\n",
       "      <td>0</td>\n",
       "      <td>0</td>\n",
       "      <td>0</td>\n",
       "      <td>0</td>\n",
       "      <td>0</td>\n",
       "      <td>0</td>\n",
       "      <td>0</td>\n",
       "      <td>1.0</td>\n",
       "      <td>0.0</td>\n",
       "      <td>0.0</td>\n",
       "      <td>0.0</td>\n",
       "      <td>0.0</td>\n",
       "      <td>0.0</td>\n",
       "      <td>0.0</td>\n",
       "      <td>0.0</td>\n",
       "      <td>0.0</td>\n",
       "      <td>1.0</td>\n",
       "      <td>0.0</td>\n",
       "      <td>0.0</td>\n",
       "      <td>0.0</td>\n",
       "      <td>1.0</td>\n",
       "      <td>0.0</td>\n",
       "      <td>0.0</td>\n",
       "      <td>0.0</td>\n",
       "      <td>1.0</td>\n",
       "      <td>0.0</td>\n",
       "      <td>0.0</td>\n",
       "      <td>0.0</td>\n",
       "      <td>0.0</td>\n",
       "      <td>1.0</td>\n",
       "      <td>0.0</td>\n",
       "      <td>1.0</td>\n",
       "      <td>0.0</td>\n",
       "    </tr>\n",
       "    <tr>\n",
       "      <th>472433</th>\n",
       "      <td>52.811</td>\n",
       "      <td>8809</td>\n",
       "      <td>179.0</td>\n",
       "      <td>106.0</td>\n",
       "      <td>137.0</td>\n",
       "      <td>0.0</td>\n",
       "      <td>0.0</td>\n",
       "      <td>0.0</td>\n",
       "      <td>0.0</td>\n",
       "      <td>1.0</td>\n",
       "      <td>1.0</td>\n",
       "      <td>0.0</td>\n",
       "      <td>1.0</td>\n",
       "      <td>0.0</td>\n",
       "      <td>1.0</td>\n",
       "      <td>1.0</td>\n",
       "      <td>1.0</td>\n",
       "      <td>0.0</td>\n",
       "      <td>1.0</td>\n",
       "      <td>1.0</td>\n",
       "      <td>1.0</td>\n",
       "      <td>1.0</td>\n",
       "      <td>1.0</td>\n",
       "      <td>0.0</td>\n",
       "      <td>0.0</td>\n",
       "      <td>0.0</td>\n",
       "      <td>0.0</td>\n",
       "      <td>0.0</td>\n",
       "      <td>0.0</td>\n",
       "      <td>0.0</td>\n",
       "      <td>0.000000</td>\n",
       "      <td>0.000000</td>\n",
       "      <td>0.0</td>\n",
       "      <td>0.0</td>\n",
       "      <td>0.0</td>\n",
       "      <td>0.0</td>\n",
       "      <td>0.0</td>\n",
       "      <td>0.0</td>\n",
       "      <td>0</td>\n",
       "      <td>0</td>\n",
       "      <td>...</td>\n",
       "      <td>0</td>\n",
       "      <td>0</td>\n",
       "      <td>1</td>\n",
       "      <td>0</td>\n",
       "      <td>0</td>\n",
       "      <td>0</td>\n",
       "      <td>0</td>\n",
       "      <td>0</td>\n",
       "      <td>0</td>\n",
       "      <td>0</td>\n",
       "      <td>0</td>\n",
       "      <td>0</td>\n",
       "      <td>0</td>\n",
       "      <td>0</td>\n",
       "      <td>1.0</td>\n",
       "      <td>0.0</td>\n",
       "      <td>0.0</td>\n",
       "      <td>0.0</td>\n",
       "      <td>0.0</td>\n",
       "      <td>0.0</td>\n",
       "      <td>0.0</td>\n",
       "      <td>0.0</td>\n",
       "      <td>0.0</td>\n",
       "      <td>1.0</td>\n",
       "      <td>0.0</td>\n",
       "      <td>0.0</td>\n",
       "      <td>0.0</td>\n",
       "      <td>1.0</td>\n",
       "      <td>0.0</td>\n",
       "      <td>0.0</td>\n",
       "      <td>0.0</td>\n",
       "      <td>1.0</td>\n",
       "      <td>0.0</td>\n",
       "      <td>0.0</td>\n",
       "      <td>0.0</td>\n",
       "      <td>0.0</td>\n",
       "      <td>1.0</td>\n",
       "      <td>0.0</td>\n",
       "      <td>0.0</td>\n",
       "      <td>1.0</td>\n",
       "    </tr>\n",
       "    <tr>\n",
       "      <th>472434</th>\n",
       "      <td>136.956</td>\n",
       "      <td>10819</td>\n",
       "      <td>555.0</td>\n",
       "      <td>185.0</td>\n",
       "      <td>226.0</td>\n",
       "      <td>0.0</td>\n",
       "      <td>0.0</td>\n",
       "      <td>0.0</td>\n",
       "      <td>0.0</td>\n",
       "      <td>1.0</td>\n",
       "      <td>1.0</td>\n",
       "      <td>0.0</td>\n",
       "      <td>1.0</td>\n",
       "      <td>0.0</td>\n",
       "      <td>1.0</td>\n",
       "      <td>1.0</td>\n",
       "      <td>1.0</td>\n",
       "      <td>0.0</td>\n",
       "      <td>1.0</td>\n",
       "      <td>1.0</td>\n",
       "      <td>1.0</td>\n",
       "      <td>0.0</td>\n",
       "      <td>0.0</td>\n",
       "      <td>0.0</td>\n",
       "      <td>0.0</td>\n",
       "      <td>0.0</td>\n",
       "      <td>0.0</td>\n",
       "      <td>0.0</td>\n",
       "      <td>0.0</td>\n",
       "      <td>0.0</td>\n",
       "      <td>0.083333</td>\n",
       "      <td>0.083333</td>\n",
       "      <td>0.0</td>\n",
       "      <td>0.0</td>\n",
       "      <td>0.0</td>\n",
       "      <td>0.0</td>\n",
       "      <td>0.0</td>\n",
       "      <td>0.0</td>\n",
       "      <td>0</td>\n",
       "      <td>0</td>\n",
       "      <td>...</td>\n",
       "      <td>0</td>\n",
       "      <td>0</td>\n",
       "      <td>1</td>\n",
       "      <td>0</td>\n",
       "      <td>0</td>\n",
       "      <td>0</td>\n",
       "      <td>0</td>\n",
       "      <td>0</td>\n",
       "      <td>0</td>\n",
       "      <td>0</td>\n",
       "      <td>0</td>\n",
       "      <td>0</td>\n",
       "      <td>0</td>\n",
       "      <td>0</td>\n",
       "      <td>1.0</td>\n",
       "      <td>0.0</td>\n",
       "      <td>0.0</td>\n",
       "      <td>0.0</td>\n",
       "      <td>0.0</td>\n",
       "      <td>0.0</td>\n",
       "      <td>0.0</td>\n",
       "      <td>0.0</td>\n",
       "      <td>0.0</td>\n",
       "      <td>1.0</td>\n",
       "      <td>0.0</td>\n",
       "      <td>0.0</td>\n",
       "      <td>0.0</td>\n",
       "      <td>1.0</td>\n",
       "      <td>0.0</td>\n",
       "      <td>1.0</td>\n",
       "      <td>0.0</td>\n",
       "      <td>0.0</td>\n",
       "      <td>0.0</td>\n",
       "      <td>0.0</td>\n",
       "      <td>0.0</td>\n",
       "      <td>0.0</td>\n",
       "      <td>1.0</td>\n",
       "      <td>0.0</td>\n",
       "      <td>1.0</td>\n",
       "      <td>0.0</td>\n",
       "    </tr>\n",
       "    <tr>\n",
       "      <th>472435</th>\n",
       "      <td>136.956</td>\n",
       "      <td>9633</td>\n",
       "      <td>130.0</td>\n",
       "      <td>185.0</td>\n",
       "      <td>138.0</td>\n",
       "      <td>0.0</td>\n",
       "      <td>0.0</td>\n",
       "      <td>0.0</td>\n",
       "      <td>0.0</td>\n",
       "      <td>2.0</td>\n",
       "      <td>2.0</td>\n",
       "      <td>0.0</td>\n",
       "      <td>1.0</td>\n",
       "      <td>0.0</td>\n",
       "      <td>1.0</td>\n",
       "      <td>1.0</td>\n",
       "      <td>1.0</td>\n",
       "      <td>0.0</td>\n",
       "      <td>1.0</td>\n",
       "      <td>1.0</td>\n",
       "      <td>1.0</td>\n",
       "      <td>1.0</td>\n",
       "      <td>1.0</td>\n",
       "      <td>0.0</td>\n",
       "      <td>0.0</td>\n",
       "      <td>0.0</td>\n",
       "      <td>0.0</td>\n",
       "      <td>0.0</td>\n",
       "      <td>0.0</td>\n",
       "      <td>0.0</td>\n",
       "      <td>0.083333</td>\n",
       "      <td>0.083333</td>\n",
       "      <td>0.0</td>\n",
       "      <td>0.0</td>\n",
       "      <td>0.0</td>\n",
       "      <td>0.0</td>\n",
       "      <td>0.0</td>\n",
       "      <td>0.0</td>\n",
       "      <td>0</td>\n",
       "      <td>0</td>\n",
       "      <td>...</td>\n",
       "      <td>0</td>\n",
       "      <td>0</td>\n",
       "      <td>1</td>\n",
       "      <td>0</td>\n",
       "      <td>0</td>\n",
       "      <td>0</td>\n",
       "      <td>0</td>\n",
       "      <td>0</td>\n",
       "      <td>0</td>\n",
       "      <td>0</td>\n",
       "      <td>0</td>\n",
       "      <td>0</td>\n",
       "      <td>0</td>\n",
       "      <td>0</td>\n",
       "      <td>1.0</td>\n",
       "      <td>0.0</td>\n",
       "      <td>0.0</td>\n",
       "      <td>0.0</td>\n",
       "      <td>0.0</td>\n",
       "      <td>0.0</td>\n",
       "      <td>0.0</td>\n",
       "      <td>0.0</td>\n",
       "      <td>0.0</td>\n",
       "      <td>1.0</td>\n",
       "      <td>0.0</td>\n",
       "      <td>0.0</td>\n",
       "      <td>0.0</td>\n",
       "      <td>1.0</td>\n",
       "      <td>0.0</td>\n",
       "      <td>0.0</td>\n",
       "      <td>0.0</td>\n",
       "      <td>1.0</td>\n",
       "      <td>0.0</td>\n",
       "      <td>0.0</td>\n",
       "      <td>0.0</td>\n",
       "      <td>0.0</td>\n",
       "      <td>1.0</td>\n",
       "      <td>0.0</td>\n",
       "      <td>1.0</td>\n",
       "      <td>0.0</td>\n",
       "    </tr>\n",
       "    <tr>\n",
       "      <th>472436</th>\n",
       "      <td>25.000</td>\n",
       "      <td>17188</td>\n",
       "      <td>321.0</td>\n",
       "      <td>150.0</td>\n",
       "      <td>226.0</td>\n",
       "      <td>310.0</td>\n",
       "      <td>87.0</td>\n",
       "      <td>0.0</td>\n",
       "      <td>0.0</td>\n",
       "      <td>1.0</td>\n",
       "      <td>1.0</td>\n",
       "      <td>0.0</td>\n",
       "      <td>0.0</td>\n",
       "      <td>0.0</td>\n",
       "      <td>1.0</td>\n",
       "      <td>0.0</td>\n",
       "      <td>1.0</td>\n",
       "      <td>0.0</td>\n",
       "      <td>1.0</td>\n",
       "      <td>1.0</td>\n",
       "      <td>0.0</td>\n",
       "      <td>1.0</td>\n",
       "      <td>1.0</td>\n",
       "      <td>0.0</td>\n",
       "      <td>0.0</td>\n",
       "      <td>0.0</td>\n",
       "      <td>0.0</td>\n",
       "      <td>0.0</td>\n",
       "      <td>0.0</td>\n",
       "      <td>0.0</td>\n",
       "      <td>0.000000</td>\n",
       "      <td>0.000000</td>\n",
       "      <td>0.0</td>\n",
       "      <td>0.0</td>\n",
       "      <td>0.0</td>\n",
       "      <td>0.0</td>\n",
       "      <td>0.0</td>\n",
       "      <td>0.0</td>\n",
       "      <td>0</td>\n",
       "      <td>0</td>\n",
       "      <td>...</td>\n",
       "      <td>0</td>\n",
       "      <td>0</td>\n",
       "      <td>0</td>\n",
       "      <td>0</td>\n",
       "      <td>0</td>\n",
       "      <td>0</td>\n",
       "      <td>0</td>\n",
       "      <td>0</td>\n",
       "      <td>0</td>\n",
       "      <td>0</td>\n",
       "      <td>1</td>\n",
       "      <td>0</td>\n",
       "      <td>0</td>\n",
       "      <td>0</td>\n",
       "      <td>0.0</td>\n",
       "      <td>1.0</td>\n",
       "      <td>0.0</td>\n",
       "      <td>0.0</td>\n",
       "      <td>0.0</td>\n",
       "      <td>0.0</td>\n",
       "      <td>0.0</td>\n",
       "      <td>0.0</td>\n",
       "      <td>0.0</td>\n",
       "      <td>1.0</td>\n",
       "      <td>0.0</td>\n",
       "      <td>0.0</td>\n",
       "      <td>0.0</td>\n",
       "      <td>1.0</td>\n",
       "      <td>0.0</td>\n",
       "      <td>0.0</td>\n",
       "      <td>0.0</td>\n",
       "      <td>0.0</td>\n",
       "      <td>1.0</td>\n",
       "      <td>0.0</td>\n",
       "      <td>0.0</td>\n",
       "      <td>0.0</td>\n",
       "      <td>1.0</td>\n",
       "      <td>0.0</td>\n",
       "      <td>1.0</td>\n",
       "      <td>0.0</td>\n",
       "    </tr>\n",
       "  </tbody>\n",
       "</table>\n",
       "<p>5 rows × 489 columns</p>\n",
       "</div>"
      ],
      "text/plain": [
       "        TransactionAmt  card1  ...  DeviceType_desktop  DeviceType_mobile\n",
       "472432          33.261   9300  ...                 1.0                0.0\n",
       "472433          52.811   8809  ...                 0.0                1.0\n",
       "472434         136.956  10819  ...                 1.0                0.0\n",
       "472435         136.956   9633  ...                 1.0                0.0\n",
       "472436          25.000  17188  ...                 1.0                0.0\n",
       "\n",
       "[5 rows x 489 columns]"
      ]
     },
     "execution_count": 121,
     "metadata": {},
     "output_type": "execute_result"
    }
   ],
   "source": [
    "x_test.head()"
   ]
  },
  {
   "cell_type": "code",
   "execution_count": null,
   "metadata": {
    "colab": {
     "base_uri": "https://localhost:8080/"
    },
    "executionInfo": {
     "elapsed": 11,
     "status": "ok",
     "timestamp": 1637936010493,
     "user": {
      "displayName": "Ángel Martín Veiga",
      "photoUrl": "https://lh3.googleusercontent.com/a-/AOh14GhuIO_HePT528k3iUgj6zbDTh-BGNnAqJlehJWi=s64",
      "userId": "02801971987668662503"
     },
     "user_tz": 180
    },
    "id": "udaLdF6mgkwc",
    "outputId": "9030424c-4dec-46c7-cac7-147e31d959d2"
   },
   "outputs": [
    {
     "data": {
      "text/plain": [
       "0"
      ]
     },
     "execution_count": 122,
     "metadata": {},
     "output_type": "execute_result"
    }
   ],
   "source": [
    "x_test.isnull().sum().sum()"
   ]
  },
  {
   "cell_type": "code",
   "execution_count": null,
   "metadata": {
    "id": "iaDWOj2wVWzk"
   },
   "outputs": [],
   "source": [
    "del df_test['TransactionDT']"
   ]
  },
  {
   "cell_type": "code",
   "execution_count": null,
   "metadata": {
    "id": "P50KU_s69NbU"
   },
   "outputs": [],
   "source": [
    "df_test = df_test[x_train.columns]"
   ]
  },
  {
   "cell_type": "code",
   "execution_count": null,
   "metadata": {
    "colab": {
     "base_uri": "https://localhost:8080/",
     "height": 273
    },
    "executionInfo": {
     "elapsed": 43,
     "status": "ok",
     "timestamp": 1637936016321,
     "user": {
      "displayName": "Ángel Martín Veiga",
      "photoUrl": "https://lh3.googleusercontent.com/a-/AOh14GhuIO_HePT528k3iUgj6zbDTh-BGNnAqJlehJWi=s64",
      "userId": "02801971987668662503"
     },
     "user_tz": 180
    },
    "id": "27HYDDajafdl",
    "outputId": "9649e95d-b472-4774-fcea-e9ed81b3904b"
   },
   "outputs": [
    {
     "data": {
      "text/html": [
       "<div>\n",
       "<style scoped>\n",
       "    .dataframe tbody tr th:only-of-type {\n",
       "        vertical-align: middle;\n",
       "    }\n",
       "\n",
       "    .dataframe tbody tr th {\n",
       "        vertical-align: top;\n",
       "    }\n",
       "\n",
       "    .dataframe thead th {\n",
       "        text-align: right;\n",
       "    }\n",
       "</style>\n",
       "<table border=\"1\" class=\"dataframe\">\n",
       "  <thead>\n",
       "    <tr style=\"text-align: right;\">\n",
       "      <th></th>\n",
       "      <th>TransactionAmt</th>\n",
       "      <th>card1</th>\n",
       "      <th>card2</th>\n",
       "      <th>card3</th>\n",
       "      <th>card5</th>\n",
       "      <th>addr1</th>\n",
       "      <th>addr2</th>\n",
       "      <th>dist1</th>\n",
       "      <th>dist2</th>\n",
       "      <th>C1</th>\n",
       "      <th>C2</th>\n",
       "      <th>C3</th>\n",
       "      <th>C4</th>\n",
       "      <th>C5</th>\n",
       "      <th>C6</th>\n",
       "      <th>C7</th>\n",
       "      <th>C8</th>\n",
       "      <th>C9</th>\n",
       "      <th>C10</th>\n",
       "      <th>C11</th>\n",
       "      <th>C12</th>\n",
       "      <th>C13</th>\n",
       "      <th>C14</th>\n",
       "      <th>D1</th>\n",
       "      <th>D2</th>\n",
       "      <th>D3</th>\n",
       "      <th>D4</th>\n",
       "      <th>D5</th>\n",
       "      <th>D6</th>\n",
       "      <th>D7</th>\n",
       "      <th>D8</th>\n",
       "      <th>D9</th>\n",
       "      <th>D10</th>\n",
       "      <th>D11</th>\n",
       "      <th>D12</th>\n",
       "      <th>D13</th>\n",
       "      <th>D14</th>\n",
       "      <th>D15</th>\n",
       "      <th>M1</th>\n",
       "      <th>M2</th>\n",
       "      <th>...</th>\n",
       "      <th>net_R_emaildomain</th>\n",
       "      <th>mx_R_emaildomain</th>\n",
       "      <th>comcast_R_emaildomain</th>\n",
       "      <th>live_R_emaildomain</th>\n",
       "      <th>icloud_R_emaildomain</th>\n",
       "      <th>yahoo_R_emaildomain</th>\n",
       "      <th>aol_R_emaildomain</th>\n",
       "      <th>verizon_R_emaildomain</th>\n",
       "      <th>es</th>\n",
       "      <th>msn_R_emaildomain</th>\n",
       "      <th>de</th>\n",
       "      <th>me_R_emaildomain</th>\n",
       "      <th>cox</th>\n",
       "      <th>sbcglobal_R_emaildomain</th>\n",
       "      <th>ProductCD_C</th>\n",
       "      <th>ProductCD_H</th>\n",
       "      <th>ProductCD_R</th>\n",
       "      <th>ProductCD_S</th>\n",
       "      <th>ProductCD_W</th>\n",
       "      <th>card4_american express</th>\n",
       "      <th>card4_card4_unknown</th>\n",
       "      <th>card4_discover</th>\n",
       "      <th>card4_mastercard</th>\n",
       "      <th>card4_visa</th>\n",
       "      <th>card6_card6_unknown</th>\n",
       "      <th>card6_charge card</th>\n",
       "      <th>card6_credit</th>\n",
       "      <th>card6_debit</th>\n",
       "      <th>card6_debit or credit</th>\n",
       "      <th>M4_M0</th>\n",
       "      <th>M4_M1</th>\n",
       "      <th>M4_M2</th>\n",
       "      <th>M4_M4_unknown</th>\n",
       "      <th>id_23_IP_PROXY:ANONYMOUS</th>\n",
       "      <th>id_23_IP_PROXY:HIDDEN</th>\n",
       "      <th>id_23_IP_PROXY:TRANSPARENT</th>\n",
       "      <th>id_23_id_23_unknown</th>\n",
       "      <th>DeviceType_DeviceType_unknown</th>\n",
       "      <th>DeviceType_desktop</th>\n",
       "      <th>DeviceType_mobile</th>\n",
       "    </tr>\n",
       "  </thead>\n",
       "  <tbody>\n",
       "    <tr>\n",
       "      <th>0</th>\n",
       "      <td>31.95</td>\n",
       "      <td>10409</td>\n",
       "      <td>111.0</td>\n",
       "      <td>150.0</td>\n",
       "      <td>226.0</td>\n",
       "      <td>170.0</td>\n",
       "      <td>87.0</td>\n",
       "      <td>1.0</td>\n",
       "      <td>0.0</td>\n",
       "      <td>6.0</td>\n",
       "      <td>6.0</td>\n",
       "      <td>0.0</td>\n",
       "      <td>0.0</td>\n",
       "      <td>3.0</td>\n",
       "      <td>4.0</td>\n",
       "      <td>0.0</td>\n",
       "      <td>0.0</td>\n",
       "      <td>6.0</td>\n",
       "      <td>0.0</td>\n",
       "      <td>5.0</td>\n",
       "      <td>1.0</td>\n",
       "      <td>115.0</td>\n",
       "      <td>6.0</td>\n",
       "      <td>419.0</td>\n",
       "      <td>419.0</td>\n",
       "      <td>27.0</td>\n",
       "      <td>398.0</td>\n",
       "      <td>27.0</td>\n",
       "      <td>0.0</td>\n",
       "      <td>0.0</td>\n",
       "      <td>0.0</td>\n",
       "      <td>0.0</td>\n",
       "      <td>418.0</td>\n",
       "      <td>203.0</td>\n",
       "      <td>0.0</td>\n",
       "      <td>0.0</td>\n",
       "      <td>0.0</td>\n",
       "      <td>409.0</td>\n",
       "      <td>1</td>\n",
       "      <td>1</td>\n",
       "      <td>...</td>\n",
       "      <td>0</td>\n",
       "      <td>0</td>\n",
       "      <td>0</td>\n",
       "      <td>0</td>\n",
       "      <td>0</td>\n",
       "      <td>0</td>\n",
       "      <td>0</td>\n",
       "      <td>0</td>\n",
       "      <td>0</td>\n",
       "      <td>0</td>\n",
       "      <td>1</td>\n",
       "      <td>0</td>\n",
       "      <td>0</td>\n",
       "      <td>0</td>\n",
       "      <td>0.0</td>\n",
       "      <td>0.0</td>\n",
       "      <td>0.0</td>\n",
       "      <td>0.0</td>\n",
       "      <td>1.0</td>\n",
       "      <td>0.0</td>\n",
       "      <td>0.0</td>\n",
       "      <td>0.0</td>\n",
       "      <td>0.0</td>\n",
       "      <td>1.0</td>\n",
       "      <td>0.0</td>\n",
       "      <td>0.0</td>\n",
       "      <td>0.0</td>\n",
       "      <td>1.0</td>\n",
       "      <td>0.0</td>\n",
       "      <td>0.0</td>\n",
       "      <td>0.0</td>\n",
       "      <td>0.0</td>\n",
       "      <td>1.0</td>\n",
       "      <td>0.0</td>\n",
       "      <td>0.0</td>\n",
       "      <td>0.0</td>\n",
       "      <td>1.0</td>\n",
       "      <td>1.0</td>\n",
       "      <td>0.0</td>\n",
       "      <td>0.0</td>\n",
       "    </tr>\n",
       "    <tr>\n",
       "      <th>1</th>\n",
       "      <td>49.00</td>\n",
       "      <td>4272</td>\n",
       "      <td>111.0</td>\n",
       "      <td>150.0</td>\n",
       "      <td>226.0</td>\n",
       "      <td>299.0</td>\n",
       "      <td>87.0</td>\n",
       "      <td>4.0</td>\n",
       "      <td>0.0</td>\n",
       "      <td>3.0</td>\n",
       "      <td>2.0</td>\n",
       "      <td>0.0</td>\n",
       "      <td>0.0</td>\n",
       "      <td>0.0</td>\n",
       "      <td>1.0</td>\n",
       "      <td>0.0</td>\n",
       "      <td>0.0</td>\n",
       "      <td>2.0</td>\n",
       "      <td>0.0</td>\n",
       "      <td>1.0</td>\n",
       "      <td>1.0</td>\n",
       "      <td>12.0</td>\n",
       "      <td>2.0</td>\n",
       "      <td>149.0</td>\n",
       "      <td>149.0</td>\n",
       "      <td>7.0</td>\n",
       "      <td>634.0</td>\n",
       "      <td>7.0</td>\n",
       "      <td>0.0</td>\n",
       "      <td>0.0</td>\n",
       "      <td>0.0</td>\n",
       "      <td>0.0</td>\n",
       "      <td>231.0</td>\n",
       "      <td>634.0</td>\n",
       "      <td>0.0</td>\n",
       "      <td>0.0</td>\n",
       "      <td>0.0</td>\n",
       "      <td>634.0</td>\n",
       "      <td>1</td>\n",
       "      <td>0</td>\n",
       "      <td>...</td>\n",
       "      <td>0</td>\n",
       "      <td>0</td>\n",
       "      <td>0</td>\n",
       "      <td>0</td>\n",
       "      <td>0</td>\n",
       "      <td>0</td>\n",
       "      <td>0</td>\n",
       "      <td>0</td>\n",
       "      <td>0</td>\n",
       "      <td>0</td>\n",
       "      <td>1</td>\n",
       "      <td>0</td>\n",
       "      <td>0</td>\n",
       "      <td>0</td>\n",
       "      <td>0.0</td>\n",
       "      <td>0.0</td>\n",
       "      <td>0.0</td>\n",
       "      <td>0.0</td>\n",
       "      <td>1.0</td>\n",
       "      <td>0.0</td>\n",
       "      <td>0.0</td>\n",
       "      <td>0.0</td>\n",
       "      <td>0.0</td>\n",
       "      <td>1.0</td>\n",
       "      <td>0.0</td>\n",
       "      <td>0.0</td>\n",
       "      <td>0.0</td>\n",
       "      <td>1.0</td>\n",
       "      <td>0.0</td>\n",
       "      <td>1.0</td>\n",
       "      <td>0.0</td>\n",
       "      <td>0.0</td>\n",
       "      <td>0.0</td>\n",
       "      <td>0.0</td>\n",
       "      <td>0.0</td>\n",
       "      <td>0.0</td>\n",
       "      <td>1.0</td>\n",
       "      <td>1.0</td>\n",
       "      <td>0.0</td>\n",
       "      <td>0.0</td>\n",
       "    </tr>\n",
       "    <tr>\n",
       "      <th>2</th>\n",
       "      <td>171.00</td>\n",
       "      <td>4476</td>\n",
       "      <td>574.0</td>\n",
       "      <td>150.0</td>\n",
       "      <td>226.0</td>\n",
       "      <td>472.0</td>\n",
       "      <td>87.0</td>\n",
       "      <td>2635.0</td>\n",
       "      <td>0.0</td>\n",
       "      <td>2.0</td>\n",
       "      <td>2.0</td>\n",
       "      <td>0.0</td>\n",
       "      <td>0.0</td>\n",
       "      <td>0.0</td>\n",
       "      <td>5.0</td>\n",
       "      <td>0.0</td>\n",
       "      <td>0.0</td>\n",
       "      <td>4.0</td>\n",
       "      <td>0.0</td>\n",
       "      <td>2.0</td>\n",
       "      <td>0.0</td>\n",
       "      <td>22.0</td>\n",
       "      <td>2.0</td>\n",
       "      <td>137.0</td>\n",
       "      <td>137.0</td>\n",
       "      <td>10.0</td>\n",
       "      <td>97.0</td>\n",
       "      <td>10.0</td>\n",
       "      <td>0.0</td>\n",
       "      <td>0.0</td>\n",
       "      <td>0.0</td>\n",
       "      <td>0.0</td>\n",
       "      <td>136.0</td>\n",
       "      <td>136.0</td>\n",
       "      <td>0.0</td>\n",
       "      <td>0.0</td>\n",
       "      <td>0.0</td>\n",
       "      <td>97.0</td>\n",
       "      <td>1</td>\n",
       "      <td>1</td>\n",
       "      <td>...</td>\n",
       "      <td>0</td>\n",
       "      <td>0</td>\n",
       "      <td>0</td>\n",
       "      <td>0</td>\n",
       "      <td>0</td>\n",
       "      <td>0</td>\n",
       "      <td>0</td>\n",
       "      <td>0</td>\n",
       "      <td>0</td>\n",
       "      <td>0</td>\n",
       "      <td>1</td>\n",
       "      <td>0</td>\n",
       "      <td>0</td>\n",
       "      <td>0</td>\n",
       "      <td>0.0</td>\n",
       "      <td>0.0</td>\n",
       "      <td>0.0</td>\n",
       "      <td>0.0</td>\n",
       "      <td>1.0</td>\n",
       "      <td>0.0</td>\n",
       "      <td>0.0</td>\n",
       "      <td>0.0</td>\n",
       "      <td>0.0</td>\n",
       "      <td>1.0</td>\n",
       "      <td>0.0</td>\n",
       "      <td>0.0</td>\n",
       "      <td>0.0</td>\n",
       "      <td>1.0</td>\n",
       "      <td>0.0</td>\n",
       "      <td>1.0</td>\n",
       "      <td>0.0</td>\n",
       "      <td>0.0</td>\n",
       "      <td>0.0</td>\n",
       "      <td>0.0</td>\n",
       "      <td>0.0</td>\n",
       "      <td>0.0</td>\n",
       "      <td>1.0</td>\n",
       "      <td>1.0</td>\n",
       "      <td>0.0</td>\n",
       "      <td>0.0</td>\n",
       "    </tr>\n",
       "    <tr>\n",
       "      <th>3</th>\n",
       "      <td>284.95</td>\n",
       "      <td>10989</td>\n",
       "      <td>360.0</td>\n",
       "      <td>150.0</td>\n",
       "      <td>166.0</td>\n",
       "      <td>205.0</td>\n",
       "      <td>87.0</td>\n",
       "      <td>17.0</td>\n",
       "      <td>0.0</td>\n",
       "      <td>5.0</td>\n",
       "      <td>2.0</td>\n",
       "      <td>0.0</td>\n",
       "      <td>0.0</td>\n",
       "      <td>1.0</td>\n",
       "      <td>1.0</td>\n",
       "      <td>0.0</td>\n",
       "      <td>0.0</td>\n",
       "      <td>2.0</td>\n",
       "      <td>0.0</td>\n",
       "      <td>2.0</td>\n",
       "      <td>0.0</td>\n",
       "      <td>7.0</td>\n",
       "      <td>4.0</td>\n",
       "      <td>42.0</td>\n",
       "      <td>42.0</td>\n",
       "      <td>41.0</td>\n",
       "      <td>242.0</td>\n",
       "      <td>41.0</td>\n",
       "      <td>0.0</td>\n",
       "      <td>0.0</td>\n",
       "      <td>0.0</td>\n",
       "      <td>0.0</td>\n",
       "      <td>242.0</td>\n",
       "      <td>242.0</td>\n",
       "      <td>0.0</td>\n",
       "      <td>0.0</td>\n",
       "      <td>0.0</td>\n",
       "      <td>242.0</td>\n",
       "      <td>1</td>\n",
       "      <td>1</td>\n",
       "      <td>...</td>\n",
       "      <td>0</td>\n",
       "      <td>0</td>\n",
       "      <td>0</td>\n",
       "      <td>0</td>\n",
       "      <td>0</td>\n",
       "      <td>0</td>\n",
       "      <td>0</td>\n",
       "      <td>0</td>\n",
       "      <td>0</td>\n",
       "      <td>0</td>\n",
       "      <td>1</td>\n",
       "      <td>0</td>\n",
       "      <td>0</td>\n",
       "      <td>0</td>\n",
       "      <td>0.0</td>\n",
       "      <td>0.0</td>\n",
       "      <td>0.0</td>\n",
       "      <td>0.0</td>\n",
       "      <td>1.0</td>\n",
       "      <td>0.0</td>\n",
       "      <td>0.0</td>\n",
       "      <td>0.0</td>\n",
       "      <td>0.0</td>\n",
       "      <td>1.0</td>\n",
       "      <td>0.0</td>\n",
       "      <td>0.0</td>\n",
       "      <td>0.0</td>\n",
       "      <td>1.0</td>\n",
       "      <td>0.0</td>\n",
       "      <td>0.0</td>\n",
       "      <td>0.0</td>\n",
       "      <td>0.0</td>\n",
       "      <td>1.0</td>\n",
       "      <td>0.0</td>\n",
       "      <td>0.0</td>\n",
       "      <td>0.0</td>\n",
       "      <td>1.0</td>\n",
       "      <td>1.0</td>\n",
       "      <td>0.0</td>\n",
       "      <td>0.0</td>\n",
       "    </tr>\n",
       "    <tr>\n",
       "      <th>4</th>\n",
       "      <td>67.95</td>\n",
       "      <td>18018</td>\n",
       "      <td>452.0</td>\n",
       "      <td>150.0</td>\n",
       "      <td>117.0</td>\n",
       "      <td>264.0</td>\n",
       "      <td>87.0</td>\n",
       "      <td>6.0</td>\n",
       "      <td>0.0</td>\n",
       "      <td>6.0</td>\n",
       "      <td>6.0</td>\n",
       "      <td>0.0</td>\n",
       "      <td>0.0</td>\n",
       "      <td>2.0</td>\n",
       "      <td>5.0</td>\n",
       "      <td>0.0</td>\n",
       "      <td>0.0</td>\n",
       "      <td>5.0</td>\n",
       "      <td>0.0</td>\n",
       "      <td>6.0</td>\n",
       "      <td>0.0</td>\n",
       "      <td>14.0</td>\n",
       "      <td>6.0</td>\n",
       "      <td>22.0</td>\n",
       "      <td>22.0</td>\n",
       "      <td>0.0</td>\n",
       "      <td>22.0</td>\n",
       "      <td>0.0</td>\n",
       "      <td>0.0</td>\n",
       "      <td>0.0</td>\n",
       "      <td>0.0</td>\n",
       "      <td>0.0</td>\n",
       "      <td>22.0</td>\n",
       "      <td>22.0</td>\n",
       "      <td>0.0</td>\n",
       "      <td>0.0</td>\n",
       "      <td>0.0</td>\n",
       "      <td>22.0</td>\n",
       "      <td>1</td>\n",
       "      <td>1</td>\n",
       "      <td>...</td>\n",
       "      <td>0</td>\n",
       "      <td>0</td>\n",
       "      <td>0</td>\n",
       "      <td>0</td>\n",
       "      <td>0</td>\n",
       "      <td>0</td>\n",
       "      <td>0</td>\n",
       "      <td>0</td>\n",
       "      <td>0</td>\n",
       "      <td>0</td>\n",
       "      <td>1</td>\n",
       "      <td>0</td>\n",
       "      <td>0</td>\n",
       "      <td>0</td>\n",
       "      <td>0.0</td>\n",
       "      <td>0.0</td>\n",
       "      <td>0.0</td>\n",
       "      <td>0.0</td>\n",
       "      <td>1.0</td>\n",
       "      <td>0.0</td>\n",
       "      <td>0.0</td>\n",
       "      <td>0.0</td>\n",
       "      <td>1.0</td>\n",
       "      <td>0.0</td>\n",
       "      <td>0.0</td>\n",
       "      <td>0.0</td>\n",
       "      <td>0.0</td>\n",
       "      <td>1.0</td>\n",
       "      <td>0.0</td>\n",
       "      <td>0.0</td>\n",
       "      <td>0.0</td>\n",
       "      <td>0.0</td>\n",
       "      <td>1.0</td>\n",
       "      <td>0.0</td>\n",
       "      <td>0.0</td>\n",
       "      <td>0.0</td>\n",
       "      <td>1.0</td>\n",
       "      <td>1.0</td>\n",
       "      <td>0.0</td>\n",
       "      <td>0.0</td>\n",
       "    </tr>\n",
       "  </tbody>\n",
       "</table>\n",
       "<p>5 rows × 489 columns</p>\n",
       "</div>"
      ],
      "text/plain": [
       "   TransactionAmt  card1  ...  DeviceType_desktop  DeviceType_mobile\n",
       "0           31.95  10409  ...                 0.0                0.0\n",
       "1           49.00   4272  ...                 0.0                0.0\n",
       "2          171.00   4476  ...                 0.0                0.0\n",
       "3          284.95  10989  ...                 0.0                0.0\n",
       "4           67.95  18018  ...                 0.0                0.0\n",
       "\n",
       "[5 rows x 489 columns]"
      ]
     },
     "execution_count": 125,
     "metadata": {},
     "output_type": "execute_result"
    }
   ],
   "source": [
    "df_test.head()"
   ]
  },
  {
   "cell_type": "code",
   "execution_count": null,
   "metadata": {
    "colab": {
     "base_uri": "https://localhost:8080/"
    },
    "executionInfo": {
     "elapsed": 1056,
     "status": "ok",
     "timestamp": 1637936017340,
     "user": {
      "displayName": "Ángel Martín Veiga",
      "photoUrl": "https://lh3.googleusercontent.com/a-/AOh14GhuIO_HePT528k3iUgj6zbDTh-BGNnAqJlehJWi=s64",
      "userId": "02801971987668662503"
     },
     "user_tz": 180
    },
    "id": "1K6Oco5tgjMm",
    "outputId": "892cc280-5c49-4788-f4a6-0a67e4d9d802"
   },
   "outputs": [
    {
     "data": {
      "text/plain": [
       "0"
      ]
     },
     "execution_count": 126,
     "metadata": {},
     "output_type": "execute_result"
    }
   ],
   "source": [
    "df_test.isnull().sum().sum()"
   ]
  },
  {
   "cell_type": "markdown",
   "metadata": {
    "id": "NEyWIMPQOHwS"
   },
   "source": [
    "## Exporto datasets como csvs"
   ]
  },
  {
   "cell_type": "code",
   "execution_count": null,
   "metadata": {
    "id": "O4dhW_w_OEUO"
   },
   "outputs": [],
   "source": [
    "x_train.to_csv('/content/drive/MyDrive/2021-2C/ORGANIZACION DE DATOS (7506)/TPs/TP3/ieee-fraud-detection/x_train.csv',index=False)\n",
    "y_train.to_csv('/content/drive/MyDrive/2021-2C/ORGANIZACION DE DATOS (7506)/TPs/TP3/ieee-fraud-detection/y_train.csv',index=False)\n",
    "x_test.to_csv('/content/drive/MyDrive/2021-2C/ORGANIZACION DE DATOS (7506)/TPs/TP3/ieee-fraud-detection/x_val.csv',index=False)\n",
    "y_test.to_csv('/content/drive/MyDrive/2021-2C/ORGANIZACION DE DATOS (7506)/TPs/TP3/ieee-fraud-detection/y_val.csv',index=False)\n",
    "df_test.to_csv('/content/drive/MyDrive/2021-2C/ORGANIZACION DE DATOS (7506)/TPs/TP3/ieee-fraud-detection/df_test.csv',index=False)"
   ]
  }
 ],
 "metadata": {
  "colab": {
   "collapsed_sections": [
    "_GP3j8HrR5U1",
    "jnvedDyHJ2uq",
    "x4-vCGMeJ54N",
    "duydnYPYKWLn",
    "snSSXlvgkA9T",
    "KBth5xoYx6eV",
    "cIOOXZmsuNN2",
    "wGz5D640uVFa",
    "FpcBbMnFaSmw"
   ],
   "name": "Encoding malardo.ipynb",
   "provenance": [
    {
     "file_id": "1LzZoz6vZOGXoyJONGeyQFKs52kWGPui-",
     "timestamp": 1637881440004
    }
   ]
  },
  "kernelspec": {
   "display_name": "Python 3 (ipykernel)",
   "language": "python",
   "name": "python3"
  },
  "language_info": {
   "codemirror_mode": {
    "name": "ipython",
    "version": 3
   },
   "file_extension": ".py",
   "mimetype": "text/x-python",
   "name": "python",
   "nbconvert_exporter": "python",
   "pygments_lexer": "ipython3",
   "version": "3.9.7"
  }
 },
 "nbformat": 4,
 "nbformat_minor": 4
}
