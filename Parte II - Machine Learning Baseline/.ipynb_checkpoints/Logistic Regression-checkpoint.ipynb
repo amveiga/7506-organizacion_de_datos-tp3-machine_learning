{
 "cells": [
  {
   "cell_type": "code",
   "execution_count": 8,
   "metadata": {
    "executionInfo": {
     "elapsed": 423,
     "status": "ok",
     "timestamp": 1638146667390,
     "user": {
      "displayName": "Ángel Martín Veiga",
      "photoUrl": "https://lh3.googleusercontent.com/a-/AOh14GhuIO_HePT528k3iUgj6zbDTh-BGNnAqJlehJWi=s64",
      "userId": "02801971987668662503"
     },
     "user_tz": 180
    },
    "id": "in5UqYHGbsIk"
   },
   "outputs": [],
   "source": [
    "import pandas as pd\n",
    "from sklearn.linear_model import LogisticRegression\n",
    "from sklearn.metrics import classification_report, accuracy_score, roc_auc_score, ConfusionMatrixDisplay, confusion_matrix\n",
    "from sklearn.model_selection import RandomizedSearchCV\n",
    "from scipy.stats import uniform\n",
    "import pickle"
   ]
  },
  {
   "cell_type": "markdown",
   "metadata": {
    "id": "nPwa4XiRcVzP"
   },
   "source": [
    "Importo los datasets encodeados"
   ]
  },
  {
   "cell_type": "code",
   "execution_count": 2,
   "metadata": {
    "colab": {
     "base_uri": "https://localhost:8080/"
    },
    "executionInfo": {
     "elapsed": 31,
     "status": "ok",
     "timestamp": 1638146018738,
     "user": {
      "displayName": "Ángel Martín Veiga",
      "photoUrl": "https://lh3.googleusercontent.com/a-/AOh14GhuIO_HePT528k3iUgj6zbDTh-BGNnAqJlehJWi=s64",
      "userId": "02801971987668662503"
     },
     "user_tz": 180
    },
    "id": "S8kwjWbT885y",
    "outputId": "5dde522b-b43f-4a0a-b002-04a67ae21f52"
   },
   "outputs": [
    {
     "name": "stdout",
     "output_type": "stream",
     "text": [
      "Drive already mounted at /content/drive; to attempt to forcibly remount, call drive.mount(\"/content/drive\", force_remount=True).\n"
     ]
    }
   ],
   "source": [
    "from google.colab import drive\n",
    "drive.mount('/content/drive')"
   ]
  },
  {
   "cell_type": "code",
   "execution_count": 3,
   "metadata": {
    "colab": {
     "base_uri": "https://localhost:8080/"
    },
    "executionInfo": {
     "elapsed": 418,
     "status": "ok",
     "timestamp": 1638146019136,
     "user": {
      "displayName": "Ángel Martín Veiga",
      "photoUrl": "https://lh3.googleusercontent.com/a-/AOh14GhuIO_HePT528k3iUgj6zbDTh-BGNnAqJlehJWi=s64",
      "userId": "02801971987668662503"
     },
     "user_tz": 180
    },
    "id": "yMZPjOvM_DXs",
    "outputId": "aaa8f73b-c432-41a9-d8fb-5cde6580e4b7"
   },
   "outputs": [
    {
     "name": "stdout",
     "output_type": "stream",
     "text": [
      "\u001b[0m\u001b[01;34mdrive\u001b[0m/  \u001b[01;34msample_data\u001b[0m/\n"
     ]
    }
   ],
   "source": [
    "ls"
   ]
  },
  {
   "cell_type": "code",
   "execution_count": 4,
   "metadata": {
    "colab": {
     "base_uri": "https://localhost:8080/"
    },
    "executionInfo": {
     "elapsed": 566,
     "status": "ok",
     "timestamp": 1638146019694,
     "user": {
      "displayName": "Ángel Martín Veiga",
      "photoUrl": "https://lh3.googleusercontent.com/a-/AOh14GhuIO_HePT528k3iUgj6zbDTh-BGNnAqJlehJWi=s64",
      "userId": "02801971987668662503"
     },
     "user_tz": 180
    },
    "id": "CzL5UZPv_KnL",
    "outputId": "99651558-3583-40f0-9be8-23aa1ae467e6"
   },
   "outputs": [
    {
     "name": "stdout",
     "output_type": "stream",
     "text": [
      "/content/drive/MyDrive/2021-2C/ORGANIZACION DE DATOS (7506)/TPs/TP3/Parte II - Machine Learning Baseline\n"
     ]
    }
   ],
   "source": [
    "cd '/content/drive/MyDrive/2021-2C/ORGANIZACION DE DATOS (7506)/TPs/TP3/Parte II - Machine Learning Baseline'"
   ]
  },
  {
   "cell_type": "code",
   "execution_count": 5,
   "metadata": {
    "executionInfo": {
     "elapsed": 39841,
     "status": "ok",
     "timestamp": 1638146059532,
     "user": {
      "displayName": "Ángel Martín Veiga",
      "photoUrl": "https://lh3.googleusercontent.com/a-/AOh14GhuIO_HePT528k3iUgj6zbDTh-BGNnAqJlehJWi=s64",
      "userId": "02801971987668662503"
     },
     "user_tz": 180
    },
    "id": "wiENh47BgbC8"
   },
   "outputs": [],
   "source": [
    "x_train = pd.read_csv('../ieee-fraud-detection/x_train.csv')\n",
    "y_train = pd.read_csv('../ieee-fraud-detection/y_train.csv')\n",
    "x_val = pd.read_csv('../ieee-fraud-detection/x_val.csv')\n",
    "y_val = pd.read_csv('../ieee-fraud-detection/y_val.csv')"
   ]
  },
  {
   "cell_type": "code",
   "execution_count": 6,
   "metadata": {
    "executionInfo": {
     "elapsed": 1309,
     "status": "ok",
     "timestamp": 1638146060834,
     "user": {
      "displayName": "Ángel Martín Veiga",
      "photoUrl": "https://lh3.googleusercontent.com/a-/AOh14GhuIO_HePT528k3iUgj6zbDTh-BGNnAqJlehJWi=s64",
      "userId": "02801971987668662503"
     },
     "user_tz": 180
    },
    "id": "IIQznB0tgbC8"
   },
   "outputs": [],
   "source": [
    "x_train = x_train.values\n",
    "y_train = y_train.values.ravel() # al guardarlo como csv me quedo como un vector de columnas.\n",
    "\n",
    "x_val = x_val.values\n",
    "y_val = y_val.values.ravel() # al guardarlo como csv me quedo como un vector de columnas."
   ]
  },
  {
   "cell_type": "markdown",
   "metadata": {
    "id": "dG2Qw6dAd5jZ"
   },
   "source": [
    "# Logistic Regression"
   ]
  },
  {
   "cell_type": "markdown",
   "metadata": {
    "id": "r95ynmTvHNLc"
   },
   "source": [
    "#### Sin busqueda de parametros"
   ]
  },
  {
   "cell_type": "code",
   "execution_count": null,
   "metadata": {
    "id": "QdF-p7zw9umd"
   },
   "outputs": [],
   "source": [
    "model = LogisticRegression(random_state=0)"
   ]
  },
  {
   "cell_type": "code",
   "execution_count": null,
   "metadata": {
    "colab": {
     "base_uri": "https://localhost:8080/"
    },
    "executionInfo": {
     "elapsed": 53660,
     "status": "ok",
     "timestamp": 1638111198668,
     "user": {
      "displayName": "Ángel Martín Veiga",
      "photoUrl": "https://lh3.googleusercontent.com/a-/AOh14GhuIO_HePT528k3iUgj6zbDTh-BGNnAqJlehJWi=s64",
      "userId": "02801971987668662503"
     },
     "user_tz": 180
    },
    "id": "V509JOHhicMb",
    "outputId": "11e50ea7-f49b-486e-cf6f-f665890e2085"
   },
   "outputs": [
    {
     "name": "stderr",
     "output_type": "stream",
     "text": [
      "/usr/local/lib/python3.7/dist-packages/sklearn/linear_model/_logistic.py:818: ConvergenceWarning: lbfgs failed to converge (status=1):\n",
      "STOP: TOTAL NO. of ITERATIONS REACHED LIMIT.\n",
      "\n",
      "Increase the number of iterations (max_iter) or scale the data as shown in:\n",
      "    https://scikit-learn.org/stable/modules/preprocessing.html\n",
      "Please also refer to the documentation for alternative solver options:\n",
      "    https://scikit-learn.org/stable/modules/linear_model.html#logistic-regression\n",
      "  extra_warning_msg=_LOGISTIC_SOLVER_CONVERGENCE_MSG,\n"
     ]
    },
    {
     "data": {
      "text/plain": [
       "LogisticRegression(random_state=0)"
      ]
     },
     "execution_count": 9,
     "metadata": {},
     "output_type": "execute_result"
    }
   ],
   "source": [
    "model.fit(x_train,y_train)"
   ]
  },
  {
   "cell_type": "code",
   "execution_count": null,
   "metadata": {
    "colab": {
     "base_uri": "https://localhost:8080/"
    },
    "executionInfo": {
     "elapsed": 507,
     "status": "ok",
     "timestamp": 1638111199165,
     "user": {
      "displayName": "Ángel Martín Veiga",
      "photoUrl": "https://lh3.googleusercontent.com/a-/AOh14GhuIO_HePT528k3iUgj6zbDTh-BGNnAqJlehJWi=s64",
      "userId": "02801971987668662503"
     },
     "user_tz": 180
    },
    "id": "XMN5tt3AFejo",
    "outputId": "f4079481-a614-457e-c004-8b31ff838b22"
   },
   "outputs": [
    {
     "name": "stdout",
     "output_type": "stream",
     "text": [
      "              precision    recall  f1-score   support\n",
      "\n",
      "           0       0.97      0.99      0.98    114044\n",
      "           1       0.00      0.00      0.00      4064\n",
      "\n",
      "    accuracy                           0.95    118108\n",
      "   macro avg       0.48      0.49      0.49    118108\n",
      "weighted avg       0.93      0.95      0.94    118108\n",
      "\n"
     ]
    }
   ],
   "source": [
    "print(classification_report(y_val, model.predict(x_val)))"
   ]
  },
  {
   "cell_type": "code",
   "execution_count": null,
   "metadata": {
    "colab": {
     "base_uri": "https://localhost:8080/"
    },
    "executionInfo": {
     "elapsed": 33,
     "status": "ok",
     "timestamp": 1638111199166,
     "user": {
      "displayName": "Ángel Martín Veiga",
      "photoUrl": "https://lh3.googleusercontent.com/a-/AOh14GhuIO_HePT528k3iUgj6zbDTh-BGNnAqJlehJWi=s64",
      "userId": "02801971987668662503"
     },
     "user_tz": 180
    },
    "id": "P9V2mS9LFfg3",
    "outputId": "47d3c007-67d5-4a5f-fc1f-756673570ed8"
   },
   "outputs": [
    {
     "data": {
      "text/plain": [
       "0.6751837860376864"
      ]
     },
     "execution_count": 11,
     "metadata": {},
     "output_type": "execute_result"
    }
   ],
   "source": [
    "roc_auc_score(y_val, model.predict_proba(x_val)[:,1])"
   ]
  },
  {
   "cell_type": "markdown",
   "metadata": {
    "id": "6LUxT4ToJcCi"
   },
   "source": [
    "#### Con busqueda de hiper-parametros"
   ]
  },
  {
   "cell_type": "markdown",
   "metadata": {
    "id": "Z_WBYXH4Js1p"
   },
   "source": [
    "##### Entrenamiento"
   ]
  },
  {
   "cell_type": "code",
   "execution_count": null,
   "metadata": {
    "colab": {
     "base_uri": "https://localhost:8080/"
    },
    "executionInfo": {
     "elapsed": 683663,
     "status": "ok",
     "timestamp": 1638111882806,
     "user": {
      "displayName": "Ángel Martín Veiga",
      "photoUrl": "https://lh3.googleusercontent.com/a-/AOh14GhuIO_HePT528k3iUgj6zbDTh-BGNnAqJlehJWi=s64",
      "userId": "02801971987668662503"
     },
     "user_tz": 180
    },
    "id": "cw6f0FpNpR2T",
    "outputId": "95687fe5-1e9c-438e-f078-39c330288114"
   },
   "outputs": [
    {
     "name": "stderr",
     "output_type": "stream",
     "text": [
      "/usr/local/lib/python3.7/dist-packages/sklearn/linear_model/_logistic.py:818: ConvergenceWarning: lbfgs failed to converge (status=1):\n",
      "STOP: TOTAL NO. of ITERATIONS REACHED LIMIT.\n",
      "\n",
      "Increase the number of iterations (max_iter) or scale the data as shown in:\n",
      "    https://scikit-learn.org/stable/modules/preprocessing.html\n",
      "Please also refer to the documentation for alternative solver options:\n",
      "    https://scikit-learn.org/stable/modules/linear_model.html#logistic-regression\n",
      "  extra_warning_msg=_LOGISTIC_SOLVER_CONVERGENCE_MSG,\n",
      "/usr/local/lib/python3.7/dist-packages/sklearn/linear_model/_logistic.py:818: ConvergenceWarning: lbfgs failed to converge (status=1):\n",
      "STOP: TOTAL NO. of ITERATIONS REACHED LIMIT.\n",
      "\n",
      "Increase the number of iterations (max_iter) or scale the data as shown in:\n",
      "    https://scikit-learn.org/stable/modules/preprocessing.html\n",
      "Please also refer to the documentation for alternative solver options:\n",
      "    https://scikit-learn.org/stable/modules/linear_model.html#logistic-regression\n",
      "  extra_warning_msg=_LOGISTIC_SOLVER_CONVERGENCE_MSG,\n",
      "/usr/local/lib/python3.7/dist-packages/sklearn/linear_model/_logistic.py:818: ConvergenceWarning: lbfgs failed to converge (status=1):\n",
      "STOP: TOTAL NO. of ITERATIONS REACHED LIMIT.\n",
      "\n",
      "Increase the number of iterations (max_iter) or scale the data as shown in:\n",
      "    https://scikit-learn.org/stable/modules/preprocessing.html\n",
      "Please also refer to the documentation for alternative solver options:\n",
      "    https://scikit-learn.org/stable/modules/linear_model.html#logistic-regression\n",
      "  extra_warning_msg=_LOGISTIC_SOLVER_CONVERGENCE_MSG,\n",
      "/usr/local/lib/python3.7/dist-packages/sklearn/linear_model/_logistic.py:818: ConvergenceWarning: lbfgs failed to converge (status=1):\n",
      "STOP: TOTAL NO. of ITERATIONS REACHED LIMIT.\n",
      "\n",
      "Increase the number of iterations (max_iter) or scale the data as shown in:\n",
      "    https://scikit-learn.org/stable/modules/preprocessing.html\n",
      "Please also refer to the documentation for alternative solver options:\n",
      "    https://scikit-learn.org/stable/modules/linear_model.html#logistic-regression\n",
      "  extra_warning_msg=_LOGISTIC_SOLVER_CONVERGENCE_MSG,\n",
      "/usr/local/lib/python3.7/dist-packages/sklearn/linear_model/_logistic.py:818: ConvergenceWarning: lbfgs failed to converge (status=1):\n",
      "STOP: TOTAL NO. of ITERATIONS REACHED LIMIT.\n",
      "\n",
      "Increase the number of iterations (max_iter) or scale the data as shown in:\n",
      "    https://scikit-learn.org/stable/modules/preprocessing.html\n",
      "Please also refer to the documentation for alternative solver options:\n",
      "    https://scikit-learn.org/stable/modules/linear_model.html#logistic-regression\n",
      "  extra_warning_msg=_LOGISTIC_SOLVER_CONVERGENCE_MSG,\n",
      "/usr/local/lib/python3.7/dist-packages/sklearn/linear_model/_logistic.py:818: ConvergenceWarning: lbfgs failed to converge (status=1):\n",
      "STOP: TOTAL NO. of ITERATIONS REACHED LIMIT.\n",
      "\n",
      "Increase the number of iterations (max_iter) or scale the data as shown in:\n",
      "    https://scikit-learn.org/stable/modules/preprocessing.html\n",
      "Please also refer to the documentation for alternative solver options:\n",
      "    https://scikit-learn.org/stable/modules/linear_model.html#logistic-regression\n",
      "  extra_warning_msg=_LOGISTIC_SOLVER_CONVERGENCE_MSG,\n",
      "/usr/local/lib/python3.7/dist-packages/sklearn/linear_model/_logistic.py:1484: UserWarning: Setting penalty='none' will ignore the C and l1_ratio parameters\n",
      "  \"Setting penalty='none' will ignore the C and l1_ratio parameters\"\n",
      "/usr/local/lib/python3.7/dist-packages/sklearn/linear_model/_logistic.py:818: ConvergenceWarning: lbfgs failed to converge (status=1):\n",
      "STOP: TOTAL NO. of ITERATIONS REACHED LIMIT.\n",
      "\n",
      "Increase the number of iterations (max_iter) or scale the data as shown in:\n",
      "    https://scikit-learn.org/stable/modules/preprocessing.html\n",
      "Please also refer to the documentation for alternative solver options:\n",
      "    https://scikit-learn.org/stable/modules/linear_model.html#logistic-regression\n",
      "  extra_warning_msg=_LOGISTIC_SOLVER_CONVERGENCE_MSG,\n",
      "/usr/local/lib/python3.7/dist-packages/sklearn/linear_model/_logistic.py:1484: UserWarning: Setting penalty='none' will ignore the C and l1_ratio parameters\n",
      "  \"Setting penalty='none' will ignore the C and l1_ratio parameters\"\n",
      "/usr/local/lib/python3.7/dist-packages/sklearn/linear_model/_logistic.py:818: ConvergenceWarning: lbfgs failed to converge (status=1):\n",
      "STOP: TOTAL NO. of ITERATIONS REACHED LIMIT.\n",
      "\n",
      "Increase the number of iterations (max_iter) or scale the data as shown in:\n",
      "    https://scikit-learn.org/stable/modules/preprocessing.html\n",
      "Please also refer to the documentation for alternative solver options:\n",
      "    https://scikit-learn.org/stable/modules/linear_model.html#logistic-regression\n",
      "  extra_warning_msg=_LOGISTIC_SOLVER_CONVERGENCE_MSG,\n",
      "/usr/local/lib/python3.7/dist-packages/sklearn/linear_model/_logistic.py:1484: UserWarning: Setting penalty='none' will ignore the C and l1_ratio parameters\n",
      "  \"Setting penalty='none' will ignore the C and l1_ratio parameters\"\n",
      "/usr/local/lib/python3.7/dist-packages/sklearn/linear_model/_logistic.py:818: ConvergenceWarning: lbfgs failed to converge (status=1):\n",
      "STOP: TOTAL NO. of ITERATIONS REACHED LIMIT.\n",
      "\n",
      "Increase the number of iterations (max_iter) or scale the data as shown in:\n",
      "    https://scikit-learn.org/stable/modules/preprocessing.html\n",
      "Please also refer to the documentation for alternative solver options:\n",
      "    https://scikit-learn.org/stable/modules/linear_model.html#logistic-regression\n",
      "  extra_warning_msg=_LOGISTIC_SOLVER_CONVERGENCE_MSG,\n",
      "/usr/local/lib/python3.7/dist-packages/sklearn/linear_model/_logistic.py:818: ConvergenceWarning: lbfgs failed to converge (status=1):\n",
      "STOP: TOTAL NO. of ITERATIONS REACHED LIMIT.\n",
      "\n",
      "Increase the number of iterations (max_iter) or scale the data as shown in:\n",
      "    https://scikit-learn.org/stable/modules/preprocessing.html\n",
      "Please also refer to the documentation for alternative solver options:\n",
      "    https://scikit-learn.org/stable/modules/linear_model.html#logistic-regression\n",
      "  extra_warning_msg=_LOGISTIC_SOLVER_CONVERGENCE_MSG,\n",
      "/usr/local/lib/python3.7/dist-packages/sklearn/linear_model/_logistic.py:818: ConvergenceWarning: lbfgs failed to converge (status=1):\n",
      "STOP: TOTAL NO. of ITERATIONS REACHED LIMIT.\n",
      "\n",
      "Increase the number of iterations (max_iter) or scale the data as shown in:\n",
      "    https://scikit-learn.org/stable/modules/preprocessing.html\n",
      "Please also refer to the documentation for alternative solver options:\n",
      "    https://scikit-learn.org/stable/modules/linear_model.html#logistic-regression\n",
      "  extra_warning_msg=_LOGISTIC_SOLVER_CONVERGENCE_MSG,\n",
      "/usr/local/lib/python3.7/dist-packages/sklearn/linear_model/_logistic.py:818: ConvergenceWarning: lbfgs failed to converge (status=1):\n",
      "STOP: TOTAL NO. of ITERATIONS REACHED LIMIT.\n",
      "\n",
      "Increase the number of iterations (max_iter) or scale the data as shown in:\n",
      "    https://scikit-learn.org/stable/modules/preprocessing.html\n",
      "Please also refer to the documentation for alternative solver options:\n",
      "    https://scikit-learn.org/stable/modules/linear_model.html#logistic-regression\n",
      "  extra_warning_msg=_LOGISTIC_SOLVER_CONVERGENCE_MSG,\n",
      "/usr/local/lib/python3.7/dist-packages/sklearn/linear_model/_logistic.py:818: ConvergenceWarning: lbfgs failed to converge (status=1):\n",
      "STOP: TOTAL NO. of ITERATIONS REACHED LIMIT.\n",
      "\n",
      "Increase the number of iterations (max_iter) or scale the data as shown in:\n",
      "    https://scikit-learn.org/stable/modules/preprocessing.html\n",
      "Please also refer to the documentation for alternative solver options:\n",
      "    https://scikit-learn.org/stable/modules/linear_model.html#logistic-regression\n",
      "  extra_warning_msg=_LOGISTIC_SOLVER_CONVERGENCE_MSG,\n",
      "/usr/local/lib/python3.7/dist-packages/sklearn/linear_model/_logistic.py:818: ConvergenceWarning: lbfgs failed to converge (status=1):\n",
      "STOP: TOTAL NO. of ITERATIONS REACHED LIMIT.\n",
      "\n",
      "Increase the number of iterations (max_iter) or scale the data as shown in:\n",
      "    https://scikit-learn.org/stable/modules/preprocessing.html\n",
      "Please also refer to the documentation for alternative solver options:\n",
      "    https://scikit-learn.org/stable/modules/linear_model.html#logistic-regression\n",
      "  extra_warning_msg=_LOGISTIC_SOLVER_CONVERGENCE_MSG,\n",
      "/usr/local/lib/python3.7/dist-packages/sklearn/linear_model/_logistic.py:818: ConvergenceWarning: lbfgs failed to converge (status=1):\n",
      "STOP: TOTAL NO. of ITERATIONS REACHED LIMIT.\n",
      "\n",
      "Increase the number of iterations (max_iter) or scale the data as shown in:\n",
      "    https://scikit-learn.org/stable/modules/preprocessing.html\n",
      "Please also refer to the documentation for alternative solver options:\n",
      "    https://scikit-learn.org/stable/modules/linear_model.html#logistic-regression\n",
      "  extra_warning_msg=_LOGISTIC_SOLVER_CONVERGENCE_MSG,\n",
      "/usr/local/lib/python3.7/dist-packages/sklearn/linear_model/_logistic.py:1484: UserWarning: Setting penalty='none' will ignore the C and l1_ratio parameters\n",
      "  \"Setting penalty='none' will ignore the C and l1_ratio parameters\"\n",
      "/usr/local/lib/python3.7/dist-packages/sklearn/linear_model/_logistic.py:818: ConvergenceWarning: lbfgs failed to converge (status=1):\n",
      "STOP: TOTAL NO. of ITERATIONS REACHED LIMIT.\n",
      "\n",
      "Increase the number of iterations (max_iter) or scale the data as shown in:\n",
      "    https://scikit-learn.org/stable/modules/preprocessing.html\n",
      "Please also refer to the documentation for alternative solver options:\n",
      "    https://scikit-learn.org/stable/modules/linear_model.html#logistic-regression\n",
      "  extra_warning_msg=_LOGISTIC_SOLVER_CONVERGENCE_MSG,\n",
      "/usr/local/lib/python3.7/dist-packages/sklearn/linear_model/_logistic.py:1484: UserWarning: Setting penalty='none' will ignore the C and l1_ratio parameters\n",
      "  \"Setting penalty='none' will ignore the C and l1_ratio parameters\"\n",
      "/usr/local/lib/python3.7/dist-packages/sklearn/linear_model/_logistic.py:818: ConvergenceWarning: lbfgs failed to converge (status=1):\n",
      "STOP: TOTAL NO. of ITERATIONS REACHED LIMIT.\n",
      "\n",
      "Increase the number of iterations (max_iter) or scale the data as shown in:\n",
      "    https://scikit-learn.org/stable/modules/preprocessing.html\n",
      "Please also refer to the documentation for alternative solver options:\n",
      "    https://scikit-learn.org/stable/modules/linear_model.html#logistic-regression\n",
      "  extra_warning_msg=_LOGISTIC_SOLVER_CONVERGENCE_MSG,\n",
      "/usr/local/lib/python3.7/dist-packages/sklearn/linear_model/_logistic.py:1484: UserWarning: Setting penalty='none' will ignore the C and l1_ratio parameters\n",
      "  \"Setting penalty='none' will ignore the C and l1_ratio parameters\"\n",
      "/usr/local/lib/python3.7/dist-packages/sklearn/linear_model/_logistic.py:818: ConvergenceWarning: lbfgs failed to converge (status=1):\n",
      "STOP: TOTAL NO. of ITERATIONS REACHED LIMIT.\n",
      "\n",
      "Increase the number of iterations (max_iter) or scale the data as shown in:\n",
      "    https://scikit-learn.org/stable/modules/preprocessing.html\n",
      "Please also refer to the documentation for alternative solver options:\n",
      "    https://scikit-learn.org/stable/modules/linear_model.html#logistic-regression\n",
      "  extra_warning_msg=_LOGISTIC_SOLVER_CONVERGENCE_MSG,\n",
      "/usr/local/lib/python3.7/dist-packages/sklearn/model_selection/_validation.py:372: FitFailedWarning: \n",
      "12 fits failed out of a total of 30.\n",
      "The score on these train-test partitions for these parameters will be set to nan.\n",
      "If these failures are not expected, you can try to debug them by setting error_score='raise'.\n",
      "\n",
      "Below are more details about the failures:\n",
      "--------------------------------------------------------------------------------\n",
      "9 fits failed with the following error:\n",
      "Traceback (most recent call last):\n",
      "  File \"/usr/local/lib/python3.7/dist-packages/sklearn/model_selection/_validation.py\", line 681, in _fit_and_score\n",
      "    estimator.fit(X_train, y_train, **fit_params)\n",
      "  File \"/usr/local/lib/python3.7/dist-packages/sklearn/linear_model/_logistic.py\", line 1461, in fit\n",
      "    solver = _check_solver(self.solver, self.penalty, self.dual)\n",
      "  File \"/usr/local/lib/python3.7/dist-packages/sklearn/linear_model/_logistic.py\", line 449, in _check_solver\n",
      "    % (solver, penalty)\n",
      "ValueError: Solver lbfgs supports only 'l2' or 'none' penalties, got l1 penalty.\n",
      "\n",
      "--------------------------------------------------------------------------------\n",
      "3 fits failed with the following error:\n",
      "Traceback (most recent call last):\n",
      "  File \"/usr/local/lib/python3.7/dist-packages/sklearn/model_selection/_validation.py\", line 681, in _fit_and_score\n",
      "    estimator.fit(X_train, y_train, **fit_params)\n",
      "  File \"/usr/local/lib/python3.7/dist-packages/sklearn/linear_model/_logistic.py\", line 1461, in fit\n",
      "    solver = _check_solver(self.solver, self.penalty, self.dual)\n",
      "  File \"/usr/local/lib/python3.7/dist-packages/sklearn/linear_model/_logistic.py\", line 449, in _check_solver\n",
      "    % (solver, penalty)\n",
      "ValueError: Solver lbfgs supports only 'l2' or 'none' penalties, got elasticnet penalty.\n",
      "\n",
      "  warnings.warn(some_fits_failed_message, FitFailedWarning)\n",
      "/usr/local/lib/python3.7/dist-packages/sklearn/model_selection/_search.py:972: UserWarning: One or more of the test scores are non-finite: [       nan        nan        nan 0.67046785 0.66822281 0.6699481\n",
      " 0.66552221 0.66443182        nan 0.6699481 ]\n",
      "  category=UserWarning,\n"
     ]
    },
    {
     "name": "stdout",
     "output_type": "stream",
     "text": [
      "CPU times: user 19min 50s, sys: 2min 1s, total: 21min 52s\n",
      "Wall time: 11min 23s\n"
     ]
    },
    {
     "name": "stderr",
     "output_type": "stream",
     "text": [
      "/usr/local/lib/python3.7/dist-packages/sklearn/linear_model/_logistic.py:818: ConvergenceWarning: lbfgs failed to converge (status=1):\n",
      "STOP: TOTAL NO. of ITERATIONS REACHED LIMIT.\n",
      "\n",
      "Increase the number of iterations (max_iter) or scale the data as shown in:\n",
      "    https://scikit-learn.org/stable/modules/preprocessing.html\n",
      "Please also refer to the documentation for alternative solver options:\n",
      "    https://scikit-learn.org/stable/modules/linear_model.html#logistic-regression\n",
      "  extra_warning_msg=_LOGISTIC_SOLVER_CONVERGENCE_MSG,\n"
     ]
    }
   ],
   "source": [
    "%%time\n",
    "# defino el modelo \n",
    "modelLogR = LogisticRegression(random_state=0)\n",
    "\n",
    "# defino la busqueda\n",
    "param_grid = dict()\n",
    "param_grid['penalty'] = ['none', 'l1', 'l2', 'elasticnet']\n",
    "param_grid['C'] = uniform(2, 5)\n",
    "\n",
    "# define search\n",
    "modelLogR_random = RandomizedSearchCV(model, param_grid, n_iter=10, scoring='roc_auc', n_jobs=1, cv=3, random_state=0)\n",
    "# execute search\n",
    "search = modelLogR_random.fit(x_train, y_train)"
   ]
  },
  {
   "cell_type": "code",
   "execution_count": null,
   "metadata": {
    "id": "N0IVTdmmfJXd"
   },
   "outputs": [],
   "source": [
    "# guardo el modelo\n",
    "with open('logistic_backup', 'wb') as logistic_backup_file:\n",
    "    pickle.dump(search, logistic_backup_file)"
   ]
  },
  {
   "cell_type": "markdown",
   "metadata": {
    "id": "An9ZrSyEJ1Ji"
   },
   "source": [
    "##### Cargo el modelo"
   ]
  },
  {
   "cell_type": "code",
   "execution_count": 9,
   "metadata": {
    "executionInfo": {
     "elapsed": 550,
     "status": "ok",
     "timestamp": 1638146812919,
     "user": {
      "displayName": "Ángel Martín Veiga",
      "photoUrl": "https://lh3.googleusercontent.com/a-/AOh14GhuIO_HePT528k3iUgj6zbDTh-BGNnAqJlehJWi=s64",
      "userId": "02801971987668662503"
     },
     "user_tz": 180
    },
    "id": "mCi_P6XiJ0Bi"
   },
   "outputs": [],
   "source": [
    "with open('logistic_backup', 'rb') as file:\n",
    "    search = pickle.load(file)"
   ]
  },
  {
   "cell_type": "code",
   "execution_count": 10,
   "metadata": {
    "colab": {
     "base_uri": "https://localhost:8080/"
    },
    "executionInfo": {
     "elapsed": 364,
     "status": "ok",
     "timestamp": 1638146814655,
     "user": {
      "displayName": "Ángel Martín Veiga",
      "photoUrl": "https://lh3.googleusercontent.com/a-/AOh14GhuIO_HePT528k3iUgj6zbDTh-BGNnAqJlehJWi=s64",
      "userId": "02801971987668662503"
     },
     "user_tz": 180
    },
    "id": "tBa2HFMMUX8g",
    "outputId": "7e065cb1-b21c-4c8c-e444-5051c3f83865"
   },
   "outputs": [
    {
     "data": {
      "text/plain": [
       "{'C': 5.117818483929861, 'penalty': 'l2'}"
      ]
     },
     "execution_count": 10,
     "metadata": {},
     "output_type": "execute_result"
    }
   ],
   "source": [
    "search.best_params_"
   ]
  },
  {
   "cell_type": "code",
   "execution_count": 11,
   "metadata": {
    "colab": {
     "base_uri": "https://localhost:8080/"
    },
    "executionInfo": {
     "elapsed": 386,
     "status": "ok",
     "timestamp": 1638146817680,
     "user": {
      "displayName": "Ángel Martín Veiga",
      "photoUrl": "https://lh3.googleusercontent.com/a-/AOh14GhuIO_HePT528k3iUgj6zbDTh-BGNnAqJlehJWi=s64",
      "userId": "02801971987668662503"
     },
     "user_tz": 180
    },
    "id": "wA7SAdw6qJYU",
    "outputId": "b3d80d97-6dd8-4323-e0f6-5a64fda427ff"
   },
   "outputs": [
    {
     "name": "stdout",
     "output_type": "stream",
     "text": [
      "              precision    recall  f1-score   support\n",
      "\n",
      "           0       0.97      0.99      0.98    114044\n",
      "           1       0.00      0.00      0.00      4064\n",
      "\n",
      "    accuracy                           0.95    118108\n",
      "   macro avg       0.48      0.49      0.49    118108\n",
      "weighted avg       0.93      0.95      0.94    118108\n",
      "\n"
     ]
    }
   ],
   "source": [
    "print(classification_report(y_val, search.predict(x_val)))"
   ]
  },
  {
   "cell_type": "code",
   "execution_count": 12,
   "metadata": {
    "colab": {
     "base_uri": "https://localhost:8080/"
    },
    "executionInfo": {
     "elapsed": 13,
     "status": "ok",
     "timestamp": 1638146818646,
     "user": {
      "displayName": "Ángel Martín Veiga",
      "photoUrl": "https://lh3.googleusercontent.com/a-/AOh14GhuIO_HePT528k3iUgj6zbDTh-BGNnAqJlehJWi=s64",
      "userId": "02801971987668662503"
     },
     "user_tz": 180
    },
    "id": "60kkNql9qPd_",
    "outputId": "807940f9-2ec8-455c-baba-bbc62d251c28"
   },
   "outputs": [
    {
     "data": {
      "text/plain": [
       "0.6747615344001776"
      ]
     },
     "execution_count": 12,
     "metadata": {},
     "output_type": "execute_result"
    }
   ],
   "source": [
    "roc_auc_score(y_val, search.predict_proba(x_val)[:,1])"
   ]
  },
  {
   "cell_type": "markdown",
   "metadata": {
    "id": "PncbtWBMKS27"
   },
   "source": [
    "Exporto el csv para mandar a la competencia"
   ]
  },
  {
   "cell_type": "code",
   "execution_count": 13,
   "metadata": {
    "executionInfo": {
     "elapsed": 73891,
     "status": "ok",
     "timestamp": 1638146931218,
     "user": {
      "displayName": "Ángel Martín Veiga",
      "photoUrl": "https://lh3.googleusercontent.com/a-/AOh14GhuIO_HePT528k3iUgj6zbDTh-BGNnAqJlehJWi=s64",
      "userId": "02801971987668662503"
     },
     "user_tz": 180
    },
    "id": "VRqSJF8YKODJ"
   },
   "outputs": [],
   "source": [
    "df_test = pd.read_csv('../ieee-fraud-detection/df_test.csv')\n",
    "TransactionID = pd.read_csv('../ieee-fraud-detection/test_merged.csv')['TransactionID']"
   ]
  },
  {
   "cell_type": "code",
   "execution_count": 33,
   "metadata": {
    "colab": {
     "base_uri": "https://localhost:8080/",
     "height": 206
    },
    "executionInfo": {
     "elapsed": 1363,
     "status": "ok",
     "timestamp": 1638147422821,
     "user": {
      "displayName": "Ángel Martín Veiga",
      "photoUrl": "https://lh3.googleusercontent.com/a-/AOh14GhuIO_HePT528k3iUgj6zbDTh-BGNnAqJlehJWi=s64",
      "userId": "02801971987668662503"
     },
     "user_tz": 180
    },
    "id": "su7ZvtijKr3m",
    "outputId": "3fe29330-747a-41d8-8f33-82fdce043d72"
   },
   "outputs": [
    {
     "data": {
      "text/html": [
       "<div>\n",
       "<style scoped>\n",
       "    .dataframe tbody tr th:only-of-type {\n",
       "        vertical-align: middle;\n",
       "    }\n",
       "\n",
       "    .dataframe tbody tr th {\n",
       "        vertical-align: top;\n",
       "    }\n",
       "\n",
       "    .dataframe thead th {\n",
       "        text-align: right;\n",
       "    }\n",
       "</style>\n",
       "<table border=\"1\" class=\"dataframe\">\n",
       "  <thead>\n",
       "    <tr style=\"text-align: right;\">\n",
       "      <th></th>\n",
       "      <th>TransactionID</th>\n",
       "      <th>isFraud</th>\n",
       "    </tr>\n",
       "  </thead>\n",
       "  <tbody>\n",
       "    <tr>\n",
       "      <th>0</th>\n",
       "      <td>3663549</td>\n",
       "      <td>0.010012</td>\n",
       "    </tr>\n",
       "    <tr>\n",
       "      <th>1</th>\n",
       "      <td>3663550</td>\n",
       "      <td>0.008693</td>\n",
       "    </tr>\n",
       "    <tr>\n",
       "      <th>2</th>\n",
       "      <td>3663551</td>\n",
       "      <td>0.001153</td>\n",
       "    </tr>\n",
       "    <tr>\n",
       "      <th>3</th>\n",
       "      <td>3663552</td>\n",
       "      <td>0.015755</td>\n",
       "    </tr>\n",
       "    <tr>\n",
       "      <th>4</th>\n",
       "      <td>3663553</td>\n",
       "      <td>0.014662</td>\n",
       "    </tr>\n",
       "  </tbody>\n",
       "</table>\n",
       "</div>"
      ],
      "text/plain": [
       "   TransactionID   isFraud\n",
       "0        3663549  0.010012\n",
       "1        3663550  0.008693\n",
       "2        3663551  0.001153\n",
       "3        3663552  0.015755\n",
       "4        3663553  0.014662"
      ]
     },
     "execution_count": 33,
     "metadata": {},
     "output_type": "execute_result"
    }
   ],
   "source": [
    "logistic_submission=pd.DataFrame(TransactionID).join(pd.DataFrame(search.predict_proba(df_test.values)[:,1],columns=['isFraud']))\n",
    "logistic_submission.head()"
   ]
  },
  {
   "cell_type": "code",
   "execution_count": 37,
   "metadata": {
    "executionInfo": {
     "elapsed": 1790,
     "status": "ok",
     "timestamp": 1638147672048,
     "user": {
      "displayName": "Ángel Martín Veiga",
      "photoUrl": "https://lh3.googleusercontent.com/a-/AOh14GhuIO_HePT528k3iUgj6zbDTh-BGNnAqJlehJWi=s64",
      "userId": "02801971987668662503"
     },
     "user_tz": 180
    },
    "id": "Uo3lhdsVK2m8"
   },
   "outputs": [],
   "source": [
    "logistic_submission.to_csv('../ieee-fraud-detection/logistic_submission.csv',index=False)"
   ]
  }
 ],
 "metadata": {
  "colab": {
   "authorship_tag": "ABX9TyP9IMZsKO00Uwq6Tk6jRNNM",
   "collapsed_sections": [],
   "mount_file_id": "1AbhIfCBCueTT6ytK7YPlK1VGF7tPb8yq",
   "name": "Logistic Regression.ipynb",
   "provenance": []
  },
  "kernelspec": {
   "display_name": "Python 3 (ipykernel)",
   "language": "python",
   "name": "python3"
  },
  "language_info": {
   "codemirror_mode": {
    "name": "ipython",
    "version": 3
   },
   "file_extension": ".py",
   "mimetype": "text/x-python",
   "name": "python",
   "nbconvert_exporter": "python",
   "pygments_lexer": "ipython3",
   "version": "3.9.7"
  }
 },
 "nbformat": 4,
 "nbformat_minor": 4
}
