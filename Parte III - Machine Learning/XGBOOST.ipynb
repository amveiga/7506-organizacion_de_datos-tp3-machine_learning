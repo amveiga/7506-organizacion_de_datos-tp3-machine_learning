{
 "cells": [
  {
   "cell_type": "code",
   "execution_count": null,
   "metadata": {
    "id": "C6Qxgwyt1ci5",
    "outputId": "1ba74f09-54ff-40ec-9a07-02c91f29e908"
   },
   "outputs": [
    {
     "name": "stdout",
     "output_type": "stream",
     "text": [
      "Requirement already satisfied: xgboost in c:\\users\\marti\\anaconda3\\lib\\site-packages (1.5.1)\n",
      "Requirement already satisfied: scipy in c:\\users\\marti\\anaconda3\\lib\\site-packages (from xgboost) (1.6.2)\n",
      "Requirement already satisfied: numpy in c:\\users\\marti\\anaconda3\\lib\\site-packages (from xgboost) (1.20.1)\n"
     ]
    }
   ],
   "source": [
    "!pip install xgboost"
   ]
  },
  {
   "cell_type": "code",
   "execution_count": 1,
   "metadata": {
    "executionInfo": {
     "elapsed": 844,
     "status": "ok",
     "timestamp": 1638141388156,
     "user": {
      "displayName": "Ángel Martín Veiga",
      "photoUrl": "https://lh3.googleusercontent.com/a-/AOh14GhuIO_HePT528k3iUgj6zbDTh-BGNnAqJlehJWi=s64",
      "userId": "02801971987668662503"
     },
     "user_tz": 180
    },
    "id": "zj30iHBIPhuu"
   },
   "outputs": [],
   "source": [
    "import pandas as pd\n",
    "from xgboost import XGBClassifier\n",
    "from sklearn.model_selection import RandomizedSearchCV\n",
    "from sklearn.metrics import classification_report, accuracy_score, roc_auc_score, ConfusionMatrixDisplay, confusion_matrix\n",
    "import numpy as np\n",
    "from scipy import stats\n",
    "from scipy.stats import randint\n",
    "import pickle"
   ]
  },
  {
   "cell_type": "markdown",
   "metadata": {
    "id": "nPwa4XiRcVzP"
   },
   "source": [
    "## Import datasets encodeados"
   ]
  },
  {
   "cell_type": "code",
   "execution_count": 2,
   "metadata": {
    "colab": {
     "base_uri": "https://localhost:8080/"
    },
    "executionInfo": {
     "elapsed": 27271,
     "status": "ok",
     "timestamp": 1638141415421,
     "user": {
      "displayName": "Ángel Martín Veiga",
      "photoUrl": "https://lh3.googleusercontent.com/a-/AOh14GhuIO_HePT528k3iUgj6zbDTh-BGNnAqJlehJWi=s64",
      "userId": "02801971987668662503"
     },
     "user_tz": 180
    },
    "id": "S8kwjWbT885y",
    "outputId": "f55f14aa-2cd3-456e-a4e0-fdcc5d65a51a"
   },
   "outputs": [
    {
     "ename": "ModuleNotFoundError",
     "evalue": "No module named 'google'",
     "output_type": "error",
     "traceback": [
      "\u001b[1;31m---------------------------------------------------------------------------\u001b[0m",
      "\u001b[1;31mModuleNotFoundError\u001b[0m                       Traceback (most recent call last)",
      "\u001b[1;32m~\\AppData\\Local\\Temp/ipykernel_496/1408506528.py\u001b[0m in \u001b[0;36m<module>\u001b[1;34m\u001b[0m\n\u001b[1;32m----> 1\u001b[1;33m \u001b[1;32mfrom\u001b[0m \u001b[0mgoogle\u001b[0m\u001b[1;33m.\u001b[0m\u001b[0mcolab\u001b[0m \u001b[1;32mimport\u001b[0m \u001b[0mdrive\u001b[0m\u001b[1;33m\u001b[0m\u001b[1;33m\u001b[0m\u001b[0m\n\u001b[0m\u001b[0;32m      2\u001b[0m \u001b[0mdrive\u001b[0m\u001b[1;33m.\u001b[0m\u001b[0mmount\u001b[0m\u001b[1;33m(\u001b[0m\u001b[1;34m'/content/drive'\u001b[0m\u001b[1;33m)\u001b[0m\u001b[1;33m\u001b[0m\u001b[1;33m\u001b[0m\u001b[0m\n",
      "\u001b[1;31mModuleNotFoundError\u001b[0m: No module named 'google'"
     ]
    }
   ],
   "source": [
    "from google.colab import drive\n",
    "drive.mount('/content/drive')"
   ]
  },
  {
   "cell_type": "code",
   "execution_count": 3,
   "metadata": {
    "colab": {
     "base_uri": "https://localhost:8080/"
    },
    "executionInfo": {
     "elapsed": 23,
     "status": "ok",
     "timestamp": 1638141415422,
     "user": {
      "displayName": "Ángel Martín Veiga",
      "photoUrl": "https://lh3.googleusercontent.com/a-/AOh14GhuIO_HePT528k3iUgj6zbDTh-BGNnAqJlehJWi=s64",
      "userId": "02801971987668662503"
     },
     "user_tz": 180
    },
    "id": "yMZPjOvM_DXs",
    "outputId": "75515725-c827-4787-f353-0c57e1139a91"
   },
   "outputs": [
    {
     "name": "stdout",
     "output_type": "stream",
     "text": [
      "\u001b[0m\u001b[01;34mdrive\u001b[0m/  \u001b[01;34msample_data\u001b[0m/\n"
     ]
    }
   ],
   "source": [
    "ls"
   ]
  },
  {
   "cell_type": "code",
   "execution_count": 4,
   "metadata": {
    "colab": {
     "base_uri": "https://localhost:8080/"
    },
    "executionInfo": {
     "elapsed": 1459,
     "status": "ok",
     "timestamp": 1638141416875,
     "user": {
      "displayName": "Ángel Martín Veiga",
      "photoUrl": "https://lh3.googleusercontent.com/a-/AOh14GhuIO_HePT528k3iUgj6zbDTh-BGNnAqJlehJWi=s64",
      "userId": "02801971987668662503"
     },
     "user_tz": 180
    },
    "id": "CzL5UZPv_KnL",
    "outputId": "eeb3766f-0a94-422f-a7cb-3c3437eb0614"
   },
   "outputs": [
    {
     "name": "stdout",
     "output_type": "stream",
     "text": [
      "/content/drive/MyDrive/2021-2C/ORGANIZACION DE DATOS (7506)/TPs/TP3/Parte III - Machine Learning\n"
     ]
    }
   ],
   "source": [
    "cd '/content/drive/MyDrive/2021-2C/ORGANIZACION DE DATOS (7506)/TPs/TP3/Parte III - Machine Learning'"
   ]
  },
  {
   "cell_type": "code",
   "execution_count": 3,
   "metadata": {
    "executionInfo": {
     "elapsed": 36553,
     "status": "ok",
     "timestamp": 1638141453420,
     "user": {
      "displayName": "Ángel Martín Veiga",
      "photoUrl": "https://lh3.googleusercontent.com/a-/AOh14GhuIO_HePT528k3iUgj6zbDTh-BGNnAqJlehJWi=s64",
      "userId": "02801971987668662503"
     },
     "user_tz": 180
    },
    "id": "wiENh47BgbC8"
   },
   "outputs": [],
   "source": [
    "x_train = pd.read_csv('../ieee-fraud-detection/x_train.csv')\n",
    "y_train = pd.read_csv('../ieee-fraud-detection/y_train.csv')\n",
    "x_val = pd.read_csv('../ieee-fraud-detection/x_val.csv')\n",
    "y_val = pd.read_csv('../ieee-fraud-detection/y_val.csv')"
   ]
  },
  {
   "cell_type": "code",
   "execution_count": 4,
   "metadata": {
    "executionInfo": {
     "elapsed": 713,
     "status": "ok",
     "timestamp": 1638141454120,
     "user": {
      "displayName": "Ángel Martín Veiga",
      "photoUrl": "https://lh3.googleusercontent.com/a-/AOh14GhuIO_HePT528k3iUgj6zbDTh-BGNnAqJlehJWi=s64",
      "userId": "02801971987668662503"
     },
     "user_tz": 180
    },
    "id": "IIQznB0tgbC8"
   },
   "outputs": [],
   "source": [
    "x_train = x_train.values\n",
    "y_train = y_train.values.ravel() # al guardarlo como csv me quedo como un vector de columnas.\n",
    "\n",
    "x_val = x_val.values\n",
    "y_val = y_val.values.ravel() # al guardarlo como csv me quedo como un vector de columnas."
   ]
  },
  {
   "cell_type": "markdown",
   "metadata": {
    "id": "5qDCVY5N6xCE"
   },
   "source": [
    "## XGBClassifier"
   ]
  },
  {
   "cell_type": "markdown",
   "metadata": {
    "id": "iDnmR6CEuCuW"
   },
   "source": [
    "#### Sin busqueda de hiper-parametros"
   ]
  },
  {
   "cell_type": "code",
   "execution_count": 7,
   "metadata": {
    "executionInfo": {
     "elapsed": 13,
     "status": "ok",
     "timestamp": 1638141455084,
     "user": {
      "displayName": "Ángel Martín Veiga",
      "photoUrl": "https://lh3.googleusercontent.com/a-/AOh14GhuIO_HePT528k3iUgj6zbDTh-BGNnAqJlehJWi=s64",
      "userId": "02801971987668662503"
     },
     "user_tz": 180
    },
    "id": "z6oYf0RcmXXC"
   },
   "outputs": [],
   "source": [
    "modelXGClass = XGBClassifier(random_state=0)"
   ]
  },
  {
   "cell_type": "code",
   "execution_count": 8,
   "metadata": {
    "colab": {
     "base_uri": "https://localhost:8080/"
    },
    "executionInfo": {
     "elapsed": 471313,
     "status": "ok",
     "timestamp": 1638141926388,
     "user": {
      "displayName": "Ángel Martín Veiga",
      "photoUrl": "https://lh3.googleusercontent.com/a-/AOh14GhuIO_HePT528k3iUgj6zbDTh-BGNnAqJlehJWi=s64",
      "userId": "02801971987668662503"
     },
     "user_tz": 180
    },
    "id": "DtiPyDn5Ju3l",
    "outputId": "52f29c21-7e29-4f68-be68-c2551e860564"
   },
   "outputs": [
    {
     "data": {
      "text/plain": [
       "XGBClassifier()"
      ]
     },
     "execution_count": 8,
     "metadata": {},
     "output_type": "execute_result"
    }
   ],
   "source": [
    "modelXGClass.fit(x_train,y_train)"
   ]
  },
  {
   "cell_type": "code",
   "execution_count": 9,
   "metadata": {
    "colab": {
     "base_uri": "https://localhost:8080/"
    },
    "executionInfo": {
     "elapsed": 2394,
     "status": "ok",
     "timestamp": 1638141928772,
     "user": {
      "displayName": "Ángel Martín Veiga",
      "photoUrl": "https://lh3.googleusercontent.com/a-/AOh14GhuIO_HePT528k3iUgj6zbDTh-BGNnAqJlehJWi=s64",
      "userId": "02801971987668662503"
     },
     "user_tz": 180
    },
    "id": "G-9Z-RngJ0M-",
    "outputId": "18027b91-18c1-4cf9-a4be-ccc60c835524"
   },
   "outputs": [
    {
     "name": "stdout",
     "output_type": "stream",
     "text": [
      "              precision    recall  f1-score   support\n",
      "\n",
      "           0       0.97      1.00      0.99    114044\n",
      "           1       0.80      0.27      0.40      4064\n",
      "\n",
      "    accuracy                           0.97    118108\n",
      "   macro avg       0.89      0.63      0.69    118108\n",
      "weighted avg       0.97      0.97      0.97    118108\n",
      "\n"
     ]
    }
   ],
   "source": [
    "print(classification_report(y_val, modelXGClass.predict(x_val)))"
   ]
  },
  {
   "cell_type": "code",
   "execution_count": 10,
   "metadata": {
    "colab": {
     "base_uri": "https://localhost:8080/"
    },
    "executionInfo": {
     "elapsed": 1129,
     "status": "ok",
     "timestamp": 1638141929894,
     "user": {
      "displayName": "Ángel Martín Veiga",
      "photoUrl": "https://lh3.googleusercontent.com/a-/AOh14GhuIO_HePT528k3iUgj6zbDTh-BGNnAqJlehJWi=s64",
      "userId": "02801971987668662503"
     },
     "user_tz": 180
    },
    "id": "ZeeIMj5mJ6H1",
    "outputId": "761ef9fb-c198-4da5-9a1c-feca9cf923cd"
   },
   "outputs": [
    {
     "data": {
      "text/plain": [
       "0.8689963739043807"
      ]
     },
     "execution_count": 10,
     "metadata": {},
     "output_type": "execute_result"
    }
   ],
   "source": [
    "roc_auc_score(y_val, modelXGClass.predict_proba(x_val)[:,1])"
   ]
  },
  {
   "cell_type": "markdown",
   "metadata": {
    "id": "JF7wmrlt1cjM"
   },
   "source": [
    "#### RandomizedSearchCV entrenamiento"
   ]
  },
  {
   "cell_type": "code",
   "execution_count": 5,
   "metadata": {
    "id": "ejRrbSyrOCt2"
   },
   "outputs": [],
   "source": [
    "np.random.seed(seed=233423)\n",
    "# con estos parametros se me moria el kernel \n",
    "param_dist1 = { 'objective': ['binary:logistic'],\n",
    "                'learning_rate':np.arange(0.1,0.5,0.1),\n",
    "                'n_estimators':np.arange(16,116,15),\n",
    "                'scale_pos_weight':np.arange(2,6,1),\n",
    "                'max_depth':np.arange(4,12,1),\n",
    "                'min_child_weight':np.arange(1,10,1),\n",
    "                'gamma':np.arange(0,0.5,0.1),\n",
    "                'subsample':np.arange(0.6,1,0.1),\n",
    "                'colsample_bytree':np.arange(0.6,0.91,0.05),\n",
    "                'colsample_bylevel':np.arange(0.6,0.91,0.05)\n",
    "                }\n",
    "\n",
    "# con estos parametros estuvo entrenando más de 6 horas, lo corte\n",
    "param_dist2 = {'objective': ['binary:logistic'],\n",
    "              'n_estimators': stats.randint(150, 500),\n",
    "              'learning_rate': stats.uniform(0.01, 0.59),\n",
    "              'subsample': stats.uniform(0.3, 0.6),\n",
    "              'max_depth': [10,11,12,13,14,15],\n",
    "              'colsample_bytree': stats.uniform(0.5, 0.4),\n",
    "              'min_child_weight': [1, 2, 3, 4]\n",
    "             }\n",
    "\n",
    "# elijo los que me resultan mas importantes para poder buscar algo básico\n",
    "param_dist3 = { 'max_depth': [5,6,7,8,9,10],\n",
    "                'n_estimators': [100]    \n",
    "              }"
   ]
  },
  {
   "cell_type": "code",
   "execution_count": 6,
   "metadata": {
    "colab": {
     "base_uri": "https://localhost:8080/"
    },
    "executionInfo": {
     "elapsed": 6473737,
     "status": "ok",
     "timestamp": 1638134911647,
     "user": {
      "displayName": "Ángel Martín Veiga",
      "photoUrl": "https://lh3.googleusercontent.com/a-/AOh14GhuIO_HePT528k3iUgj6zbDTh-BGNnAqJlehJWi=s64",
      "userId": "02801971987668662503"
     },
     "user_tz": 180
    },
    "id": "JwTWozYKO28B",
    "outputId": "e85e4df6-75ea-4a92-97df-6e4861b0000c"
   },
   "outputs": [
    {
     "name": "stdout",
     "output_type": "stream",
     "text": [
      "Fitting 3 folds for each of 2 candidates, totalling 6 fits\n"
     ]
    },
    {
     "name": "stderr",
     "output_type": "stream",
     "text": [
      "C:\\Users\\marti\\anaconda3\\lib\\site-packages\\xgboost\\sklearn.py:1224: UserWarning: The use of label encoder in XGBClassifier is deprecated and will be removed in a future release. To remove this warning, do the following: 1) Pass option use_label_encoder=False when constructing XGBClassifier object; and 2) Encode your labels (y) as integers starting with 0, i.e. 0, 1, 2, ..., [num_class - 1].\n",
      "  warnings.warn(label_encoder_deprecation_msg, UserWarning)\n"
     ]
    },
    {
     "name": "stdout",
     "output_type": "stream",
     "text": [
      "[20:49:20] WARNING: C:/Users/Administrator/workspace/xgboost-win64_release_1.5.1/src/learner.cc:1115: Starting in XGBoost 1.3.0, the default evaluation metric used with the objective 'binary:logistic' was changed from 'error' to 'logloss'. Explicitly set eval_metric if you'd like to restore the old behavior.\n",
      "[CV] END .....................max_depth=10, n_estimators=100; total time=10.9min\n"
     ]
    },
    {
     "name": "stderr",
     "output_type": "stream",
     "text": [
      "C:\\Users\\marti\\anaconda3\\lib\\site-packages\\xgboost\\sklearn.py:1224: UserWarning: The use of label encoder in XGBClassifier is deprecated and will be removed in a future release. To remove this warning, do the following: 1) Pass option use_label_encoder=False when constructing XGBClassifier object; and 2) Encode your labels (y) as integers starting with 0, i.e. 0, 1, 2, ..., [num_class - 1].\n",
      "  warnings.warn(label_encoder_deprecation_msg, UserWarning)\n"
     ]
    },
    {
     "name": "stdout",
     "output_type": "stream",
     "text": [
      "[21:00:12] WARNING: C:/Users/Administrator/workspace/xgboost-win64_release_1.5.1/src/learner.cc:1115: Starting in XGBoost 1.3.0, the default evaluation metric used with the objective 'binary:logistic' was changed from 'error' to 'logloss'. Explicitly set eval_metric if you'd like to restore the old behavior.\n",
      "[CV] END .....................max_depth=10, n_estimators=100; total time=10.7min\n"
     ]
    },
    {
     "name": "stderr",
     "output_type": "stream",
     "text": [
      "C:\\Users\\marti\\anaconda3\\lib\\site-packages\\xgboost\\sklearn.py:1224: UserWarning: The use of label encoder in XGBClassifier is deprecated and will be removed in a future release. To remove this warning, do the following: 1) Pass option use_label_encoder=False when constructing XGBClassifier object; and 2) Encode your labels (y) as integers starting with 0, i.e. 0, 1, 2, ..., [num_class - 1].\n",
      "  warnings.warn(label_encoder_deprecation_msg, UserWarning)\n"
     ]
    },
    {
     "name": "stdout",
     "output_type": "stream",
     "text": [
      "[21:10:56] WARNING: C:/Users/Administrator/workspace/xgboost-win64_release_1.5.1/src/learner.cc:1115: Starting in XGBoost 1.3.0, the default evaluation metric used with the objective 'binary:logistic' was changed from 'error' to 'logloss'. Explicitly set eval_metric if you'd like to restore the old behavior.\n",
      "[CV] END .....................max_depth=10, n_estimators=100; total time=10.8min\n"
     ]
    },
    {
     "name": "stderr",
     "output_type": "stream",
     "text": [
      "C:\\Users\\marti\\anaconda3\\lib\\site-packages\\xgboost\\sklearn.py:1224: UserWarning: The use of label encoder in XGBClassifier is deprecated and will be removed in a future release. To remove this warning, do the following: 1) Pass option use_label_encoder=False when constructing XGBClassifier object; and 2) Encode your labels (y) as integers starting with 0, i.e. 0, 1, 2, ..., [num_class - 1].\n",
      "  warnings.warn(label_encoder_deprecation_msg, UserWarning)\n"
     ]
    },
    {
     "name": "stdout",
     "output_type": "stream",
     "text": [
      "[21:21:44] WARNING: C:/Users/Administrator/workspace/xgboost-win64_release_1.5.1/src/learner.cc:1115: Starting in XGBoost 1.3.0, the default evaluation metric used with the objective 'binary:logistic' was changed from 'error' to 'logloss'. Explicitly set eval_metric if you'd like to restore the old behavior.\n",
      "[CV] END ......................max_depth=7, n_estimators=100; total time= 7.6min\n"
     ]
    },
    {
     "name": "stderr",
     "output_type": "stream",
     "text": [
      "C:\\Users\\marti\\anaconda3\\lib\\site-packages\\xgboost\\sklearn.py:1224: UserWarning: The use of label encoder in XGBClassifier is deprecated and will be removed in a future release. To remove this warning, do the following: 1) Pass option use_label_encoder=False when constructing XGBClassifier object; and 2) Encode your labels (y) as integers starting with 0, i.e. 0, 1, 2, ..., [num_class - 1].\n",
      "  warnings.warn(label_encoder_deprecation_msg, UserWarning)\n"
     ]
    },
    {
     "name": "stdout",
     "output_type": "stream",
     "text": [
      "[21:29:21] WARNING: C:/Users/Administrator/workspace/xgboost-win64_release_1.5.1/src/learner.cc:1115: Starting in XGBoost 1.3.0, the default evaluation metric used with the objective 'binary:logistic' was changed from 'error' to 'logloss'. Explicitly set eval_metric if you'd like to restore the old behavior.\n",
      "[CV] END ......................max_depth=7, n_estimators=100; total time= 7.7min\n"
     ]
    },
    {
     "name": "stderr",
     "output_type": "stream",
     "text": [
      "C:\\Users\\marti\\anaconda3\\lib\\site-packages\\xgboost\\sklearn.py:1224: UserWarning: The use of label encoder in XGBClassifier is deprecated and will be removed in a future release. To remove this warning, do the following: 1) Pass option use_label_encoder=False when constructing XGBClassifier object; and 2) Encode your labels (y) as integers starting with 0, i.e. 0, 1, 2, ..., [num_class - 1].\n",
      "  warnings.warn(label_encoder_deprecation_msg, UserWarning)\n"
     ]
    },
    {
     "name": "stdout",
     "output_type": "stream",
     "text": [
      "[21:37:00] WARNING: C:/Users/Administrator/workspace/xgboost-win64_release_1.5.1/src/learner.cc:1115: Starting in XGBoost 1.3.0, the default evaluation metric used with the objective 'binary:logistic' was changed from 'error' to 'logloss'. Explicitly set eval_metric if you'd like to restore the old behavior.\n",
      "[CV] END ......................max_depth=7, n_estimators=100; total time= 7.7min\n"
     ]
    },
    {
     "name": "stderr",
     "output_type": "stream",
     "text": [
      "C:\\Users\\marti\\anaconda3\\lib\\site-packages\\xgboost\\sklearn.py:1224: UserWarning: The use of label encoder in XGBClassifier is deprecated and will be removed in a future release. To remove this warning, do the following: 1) Pass option use_label_encoder=False when constructing XGBClassifier object; and 2) Encode your labels (y) as integers starting with 0, i.e. 0, 1, 2, ..., [num_class - 1].\n",
      "  warnings.warn(label_encoder_deprecation_msg, UserWarning)\n"
     ]
    },
    {
     "name": "stdout",
     "output_type": "stream",
     "text": [
      "[21:44:47] WARNING: C:/Users/Administrator/workspace/xgboost-win64_release_1.5.1/src/learner.cc:1115: Starting in XGBoost 1.3.0, the default evaluation metric used with the objective 'binary:logistic' was changed from 'error' to 'logloss'. Explicitly set eval_metric if you'd like to restore the old behavior.\n",
      "Wall time: 1h 7min 33s\n"
     ]
    }
   ],
   "source": [
    "%%time\n",
    "# defino el modelo para tunear\n",
    "modelXGClass = XGBClassifier(random_state=0, n_jobs=1)\n",
    "\n",
    "modelXGClass_random = RandomizedSearchCV(estimator = modelXGClass, param_distributions = param_dist3, cv = 3,n_iter = 2, verbose=2, n_jobs = 1, scoring='roc_auc',random_state=0)\n",
    "# Fiteamos el modelo random con nuestros datos\n",
    "search = modelXGClass_random.fit(x_train, y_train)"
   ]
  },
  {
   "cell_type": "markdown",
   "metadata": {
    "id": "krE1ymVD1cjO"
   },
   "source": [
    "Lo guardo para no tener que volver a entrenarlo"
   ]
  },
  {
   "cell_type": "code",
   "execution_count": null,
   "metadata": {
    "id": "dXiAcRSj2v2E"
   },
   "outputs": [],
   "source": [
    "with open('XGBClassifier_backup', 'wb') as XGBClassifier_backup_file:\n",
    "    pickle.dump(search, XGBClassifier_backup_file)"
   ]
  },
  {
   "cell_type": "markdown",
   "metadata": {
    "id": "h94XBste1cjP"
   },
   "source": [
    "#### Resultados"
   ]
  },
  {
   "cell_type": "code",
   "execution_count": 7,
   "metadata": {
    "id": "If7K8-yS1cjP",
    "outputId": "49375845-5d55-425c-8260-b0ffac34e33c",
    "tags": []
   },
   "outputs": [
    {
     "name": "stdout",
     "output_type": "stream",
     "text": [
      "              precision    recall  f1-score   support\n",
      "\n",
      "           0       0.98      1.00      0.99    114044\n",
      "           1       0.81      0.37      0.51      4064\n",
      "\n",
      "    accuracy                           0.98    118108\n",
      "   macro avg       0.89      0.68      0.75    118108\n",
      "weighted avg       0.97      0.98      0.97    118108\n",
      "\n"
     ]
    }
   ],
   "source": [
    "print(classification_report(y_val, search.predict(x_val)))"
   ]
  },
  {
   "cell_type": "code",
   "execution_count": 8,
   "metadata": {
    "id": "UGbXRt6e1cjP"
   },
   "outputs": [
    {
     "data": {
      "text/plain": [
       "0.9063237947323549"
      ]
     },
     "execution_count": 8,
     "metadata": {},
     "output_type": "execute_result"
    }
   ],
   "source": [
    "roc_auc_score(y_val, search.predict_proba(x_val)[:,1])"
   ]
  },
  {
   "cell_type": "markdown",
   "metadata": {},
   "source": [
    "Lo voy a exportar para la competencia"
   ]
  },
  {
   "cell_type": "code",
   "execution_count": 9,
   "metadata": {},
   "outputs": [],
   "source": [
    "df_test = pd.read_csv('../ieee-fraud-detection/df_test.csv')\n",
    "TransactionID = pd.read_csv('../ieee-fraud-detection/test_merged.csv')['TransactionID']"
   ]
  },
  {
   "cell_type": "code",
   "execution_count": 16,
   "metadata": {},
   "outputs": [
    {
     "data": {
      "text/html": [
       "<div>\n",
       "<style scoped>\n",
       "    .dataframe tbody tr th:only-of-type {\n",
       "        vertical-align: middle;\n",
       "    }\n",
       "\n",
       "    .dataframe tbody tr th {\n",
       "        vertical-align: top;\n",
       "    }\n",
       "\n",
       "    .dataframe thead th {\n",
       "        text-align: right;\n",
       "    }\n",
       "</style>\n",
       "<table border=\"1\" class=\"dataframe\">\n",
       "  <thead>\n",
       "    <tr style=\"text-align: right;\">\n",
       "      <th></th>\n",
       "      <th>TransactionID</th>\n",
       "      <th>isFraud</th>\n",
       "    </tr>\n",
       "  </thead>\n",
       "  <tbody>\n",
       "    <tr>\n",
       "      <th>0</th>\n",
       "      <td>3663549</td>\n",
       "      <td>0.023813</td>\n",
       "    </tr>\n",
       "    <tr>\n",
       "      <th>1</th>\n",
       "      <td>3663550</td>\n",
       "      <td>0.001765</td>\n",
       "    </tr>\n",
       "    <tr>\n",
       "      <th>2</th>\n",
       "      <td>3663551</td>\n",
       "      <td>0.005088</td>\n",
       "    </tr>\n",
       "    <tr>\n",
       "      <th>3</th>\n",
       "      <td>3663552</td>\n",
       "      <td>0.000837</td>\n",
       "    </tr>\n",
       "    <tr>\n",
       "      <th>4</th>\n",
       "      <td>3663553</td>\n",
       "      <td>0.006383</td>\n",
       "    </tr>\n",
       "  </tbody>\n",
       "</table>\n",
       "</div>"
      ],
      "text/plain": [
       "   TransactionID   isFraud\n",
       "0        3663549  0.023813\n",
       "1        3663550  0.001765\n",
       "2        3663551  0.005088\n",
       "3        3663552  0.000837\n",
       "4        3663553  0.006383"
      ]
     },
     "execution_count": 16,
     "metadata": {},
     "output_type": "execute_result"
    }
   ],
   "source": [
    "XGClassifier_submission=pd.DataFrame(TransactionID).join(pd.DataFrame(search.predict_proba(df_test.values)[:,1],columns=['isFraud']))\n",
    "XGClassifier_submission.head()"
   ]
  },
  {
   "cell_type": "code",
   "execution_count": 23,
   "metadata": {},
   "outputs": [],
   "source": [
    "XGClassifier_submission.to_csv('../ieee-fraud-detection/XGClassifier_submission.csv',index=False)"
   ]
  },
  {
   "cell_type": "markdown",
   "metadata": {},
   "source": [
    "Fue mucho mejor que cualquier otro! Este es mi definitivo"
   ]
  },
  {
   "cell_type": "code",
   "execution_count": 24,
   "metadata": {},
   "outputs": [
    {
     "data": {
      "image/png": "[encoded data removed]",
      "text/plain": [
       "<IPython.core.display.Image object>"
      ]
     },
     "execution_count": 24,
     "metadata": {},
     "output_type": "execute_result"
    }
   ],
   "source": [
    "from IPython import display\n",
    "display.Image(\"../imagenes/XGClassifier.png\")"
   ]
  }
 ],
 "metadata": {
  "colab": {
   "collapsed_sections": [],
   "name": "XGBOOST.ipynb",
   "provenance": []
  },
  "kernelspec": {
   "display_name": "Python 3 (ipykernel)",
   "language": "python",
   "name": "python3"
  },
  "language_info": {
   "codemirror_mode": {
    "name": "ipython",
    "version": 3
   },
   "file_extension": ".py",
   "mimetype": "text/x-python",
   "name": "python",
   "nbconvert_exporter": "python",
   "pygments_lexer": "ipython3",
   "version": "3.9.7"
  }
 },
 "nbformat": 4,
 "nbformat_minor": 4
}
